{
  "cells": [
    {
      "cell_type": "markdown",
      "metadata": {
        "id": "tGcZxScnPpWk"
      },
      "source": [
        "# Install Libraries"
      ]
    },
    {
      "cell_type": "code",
      "execution_count": null,
      "metadata": {
        "id": "uXkt_KDbPjFb"
      },
      "outputs": [],
      "source": [
        "!pip install simpletransformers\n",
        "!pip install --upgrade huggingface_hub"
      ]
    },
    {
      "cell_type": "markdown",
      "metadata": {
        "id": "SotogWZhPoHi"
      },
      "source": [
        "# Import dataset: en (English)"
      ]
    },
    {
      "cell_type": "code",
      "execution_count": null,
      "metadata": {
        "colab": {
          "base_uri": "https://localhost:8080/"
        },
        "id": "SbcHEVqBPnir",
        "outputId": "7f2a0e19-1968-4e98-d03f-b009d1993106"
      },
      "outputs": [
        {
          "output_type": "stream",
          "name": "stdout",
          "text": [
            "Mounted at /content/drive\n"
          ]
        }
      ],
      "source": [
        "from google.colab import drivev\n",
        "# mount your google drive\n",
        "drive.mount('/content/drive')\n",
        "\n",
        "import os\n",
        "os.chdir('/content/drive/My Drive/TFG/AuTexTification/subtask_1/en')\n",
        "\n",
        "import pickle\n",
        "with open(\"dict_dataset.pkl\", \"rb\") as myFile:\n",
        "    dict_dataset = pickle.load(myFile)\n",
        "\n",
        "train_dataset = dict_dataset['train']\n",
        "val_dataset = dict_dataset['validation']\n",
        "test_dataset = dict_dataset['test']"
      ]
    },
    {
      "cell_type": "markdown",
      "metadata": {
        "id": "go0IOiqBBXya"
      },
      "source": [
        "# Define functions"
      ]
    },
    {
      "cell_type": "code",
      "execution_count": null,
      "metadata": {
        "id": "qeHGpTm-ceCp"
      },
      "outputs": [],
      "source": [
        "# Postprocess the tokens\n",
        "def postprocess(token):\n",
        "    with_space = False\n",
        "    with_break = False\n",
        "    if token.startswith('Ġ'):\n",
        "        with_space = True\n",
        "        token = token[1:]\n",
        "        # print(token)\n",
        "    elif token.startswith('â'):\n",
        "        token = ' '\n",
        "    elif token.startswith('Ċ'):\n",
        "        token = ' '\n",
        "        with_break = True\n",
        "\n",
        "    token = '-' if token.startswith('â') else token\n",
        "    token = '“' if token.startswith('ľ') else token\n",
        "    token = '”' if token.startswith('Ŀ') else token\n",
        "    token = \"'\" if token.startswith('Ļ') else token\n",
        "\n",
        "    return token"
      ]
    },
    {
      "cell_type": "code",
      "execution_count": null,
      "metadata": {
        "id": "Z4p7cDj6cc5K"
      },
      "outputs": [],
      "source": [
        "import numpy as np\n",
        "\n",
        "# Obtain the list of predicted tokens and their respective probabilities of each token\n",
        "def check_probabilities(in_text, tokenizer, model, topk = 100):\n",
        "    # Process input\n",
        "    token_ids = tokenizer(in_text, return_tensors='pt').data['input_ids'][0]\n",
        "    token_ids = torch.concat([start_token, token_ids])\n",
        "\n",
        "    # Forward through the model\n",
        "    output = model(token_ids.to(device))\n",
        "    all_logits = output.logits[:-1].detach().squeeze()\n",
        "    print(all_logits.shape)\n",
        "\n",
        "    # Construct target and pred\n",
        "    all_probs = torch.softmax(all_logits, dim=1)\n",
        "\n",
        "    y = token_ids[1:]\n",
        "    # Sort the predictions for each timestep\n",
        "    sorted_preds = torch.argsort(all_probs, dim=1, descending=True).cpu()\n",
        "    # [(pos, prob), ...]\n",
        "    real_topk_pos = list(\n",
        "        [int(np.where(sorted_preds[i] == y[i].item())[0][0])\n",
        "          for i in range(y.shape[0])])\n",
        "    real_topk_probs = all_probs[np.arange(\n",
        "        0, y.shape[0], 1), y].data.cpu().numpy().tolist()\n",
        "    real_topk_probs = list(map(lambda x: round(x, 5), real_topk_probs))\n",
        "\n",
        "    real_topk = list(zip(real_topk_pos, real_topk_probs))\n",
        "    # [str, str, ...]\n",
        "    bpe_strings = tokenizer.convert_ids_to_tokens(token_ids[:])\n",
        "\n",
        "    bpe_strings = [postprocess(s) for s in bpe_strings]\n",
        "\n",
        "    topk_prob_values, topk_prob_inds = torch.topk(all_probs, k=topk, dim=1)\n",
        "\n",
        "    pred_topk = [list(zip(tokenizer.convert_ids_to_tokens(topk_prob_inds[i]),\n",
        "                          topk_prob_values[i].data.cpu().numpy().tolist()\n",
        "                          )) for i in range(y.shape[0])]\n",
        "    pred_topk = [[(postprocess(t[0]), t[1]) for t in pred] for pred in pred_topk]\n",
        "\n",
        "\n",
        "    payload = {'bpe_strings': bpe_strings,\n",
        "                'real_topk': real_topk,\n",
        "                'pred_topk': pred_topk}\n",
        "    if torch.cuda.is_available():\n",
        "        torch.cuda.empty_cache()\n",
        "\n",
        "    return payload"
      ]
    },
    {
      "cell_type": "code",
      "execution_count": null,
      "metadata": {
        "id": "tH0Xn_mumLcM"
      },
      "outputs": [],
      "source": [
        "# Highlight each token in the text and classify it with respect to the given threshold (ratio)\n",
        "def color_text(text, payload, ratio):\n",
        "    colored_text = ''\n",
        "    l = len(text)\n",
        "    count = {}\n",
        "    count['green'] = 0\n",
        "    count['yellow'] = 0\n",
        "    count['purple'] = 0\n",
        "    count['red'] = 0\n",
        "    pred = 0 # default class: generated\n",
        "\n",
        "    # Highlight of colors\n",
        "    for word in range(len(text)):\n",
        "        if 0 <= payload['real_topk'][word][0] < 10:\n",
        "            colored_text += '\\033[48;2;204;255;204m' + text[word] + '\\033[0m' + ' '  # Pastel green\n",
        "            count['green'] += 1\n",
        "        elif 10 <= payload['real_topk'][word][0] < 100:\n",
        "            colored_text += '\\033[48;2;255;255;153m' + text[word] + '\\033[0m' + ' '  # Pastel yellow\n",
        "            count['yellow'] += 1\n",
        "        elif 100<= payload['real_topk'][word][0] < 1000:\n",
        "            colored_text += '\\033[48;2;204;153;255m' + text[word] + '\\033[0m' + ' '  # Pastel purple\n",
        "            count['purple'] += 1\n",
        "        elif payload['real_topk'][word][0] > 1000:\n",
        "            colored_text += '\\033[48;2;255;153;153m' + text[word] + '\\033[0m' + ' '  # Pastel red\n",
        "            count['red'] += 1\n",
        "    # print('Count: ', count['green'], 'Text length: ', l)\n",
        "\n",
        "    # Classification\n",
        "    if count['green'] > l*ratio:\n",
        "      return colored_text, pred\n",
        "    else:\n",
        "      pred = 1 # human\n",
        "      return colored_text, pred"
      ]
    },
    {
      "cell_type": "code",
      "execution_count": null,
      "metadata": {
        "id": "qolw6bMqk7pM"
      },
      "outputs": [],
      "source": [
        "# Main function\n",
        "def classify_text(in_text, tokenizer, model, ratio):\n",
        "  # Tokenize input text\n",
        "  tokens = tokenizer.tokenize(in_text)\n",
        "\n",
        "  # Filter out special tokens and convert tokens to string\n",
        "  text = [postprocess(token) for token in tokens if not tokenizer.special_tokens_map.get(token)]\n",
        "\n",
        "  # Obtain probabilities\n",
        "  payload = check_probabilities(in_text, tokenizer, model)\n",
        "\n",
        "  # Color the text\n",
        "  colored_text, pred = color_text(text, payload, ratio)\n",
        "\n",
        "  # print('Pred: ', pred)\n",
        "  # print(colored_text)\n",
        "  return colored_text, pred"
      ]
    },
    {
      "cell_type": "code",
      "execution_count": null,
      "metadata": {
        "id": "zhdsRvgs9ioV"
      },
      "outputs": [],
      "source": [
        "from sklearn.metrics import f1_score\n",
        "from sklearn.metrics import classification_report\n",
        "import matplotlib.pyplot as plt\n",
        "from sklearn.metrics import confusion_matrix, ConfusionMatrixDisplay\n",
        "\n",
        "# Compute evaluation metrics\n",
        "def test_model(test_dataset, tokenizer, model, ratio):\n",
        "  # All texts\n",
        "  texts = test_dataset['text']\n",
        "  real_labels = test_dataset['label'] # real labels\n",
        "\n",
        "  pred_labels = []\n",
        "  for text in texts:\n",
        "      colored_text, pred = classify_text(text, tokenizer, model, ratio)\n",
        "      pred_labels.append(pred)\n",
        "\n",
        "  # Calculate TP, FP, FN counts\n",
        "  TP = sum(pred == 1 and real == 1 for pred, real in zip(pred_labels, real_labels))\n",
        "  FP = sum(pred == 1 and real == 0 for pred, real in zip(pred_labels, real_labels))\n",
        "  FN = sum(pred == 0 and real == 1 for pred, real in zip(pred_labels, real_labels))\n",
        "\n",
        "  # Calculate precision, recall, and F1-score\n",
        "  precision = TP / (TP + FP)\n",
        "  recall = TP / (TP + FN)\n",
        "  f1 = 2 * (precision * recall) / (precision + recall)\n",
        "\n",
        "  print(\"Precision:\", precision)\n",
        "  print(\"Recall:\", recall)\n",
        "  print(\"F1-score:\", f1)\n",
        "\n",
        "  # Show the precision, recall, and f1-score of the predictions\n",
        "  LABELS = ['generated', 'human']  # 'generated': 0, 'human': 1\n",
        "  print(classification_report(y_true=real_labels, y_pred=pred_labels, target_names=LABELS, digits=4))\n",
        "\n",
        "  # Confusion Matrix\n",
        "  print(confusion_matrix(real_labels, pred_labels))\n",
        "  disp=ConfusionMatrixDisplay.from_predictions(real_labels, pred_labels, cmap=plt.cm.Blues)"
      ]
    },
    {
      "cell_type": "markdown",
      "source": [
        "# GPT-2-Small"
      ],
      "metadata": {
        "id": "OnlZgqKvnlhX"
      }
    },
    {
      "cell_type": "code",
      "source": [
        "import torch\n",
        "from transformers import AutoModelForCausalLM, AutoTokenizer\n",
        "\n",
        "device = torch.device(\"cuda\" if torch.cuda.is_available() else \"cpu\")\n",
        "\n",
        "# Access model and tokenizer\n",
        "gpt2 = AutoModelForCausalLM.from_pretrained(\"gpt2\").to(device)\n",
        "tokenizer_gpt2 = AutoTokenizer.from_pretrained(\"gpt2\")\n",
        "gpt2.eval()\n",
        "# Define start token\n",
        "start_token = tokenizer_gpt2(tokenizer_gpt2.bos_token, return_tensors='pt').data['input_ids'][0]\n",
        "\n",
        "# Threshold values\n",
        "for ratio in [1/4, 1/3, 1/2]:\n",
        "  print('RATIO: ', ratio)\n",
        "  test_model(test_dataset, tokenizer_gpt2, gpt2, ratio)"
      ],
      "metadata": {
        "colab": {
          "base_uri": "https://localhost:8080/"
        },
        "outputId": "4eb26335-d0ba-4836-8eb0-d71872618067",
        "id": "lPjwsCF_nlhZ"
      },
      "execution_count": null,
      "outputs": [
        {
          "output_type": "stream",
          "name": "stdout",
          "text": [
            "RATIO:  0.25\n",
            "Precision: 1.0\n",
            "Recall: 0.003758691975192633\n",
            "F1-score: 0.007489234225800412\n",
            "              precision    recall  f1-score   support\n",
            "\n",
            "   generated     0.5135    1.0000    0.6786     11190\n",
            "       human     1.0000    0.0038    0.0075     10642\n",
            "\n",
            "    accuracy                         0.5144     21832\n",
            "   macro avg     0.7567    0.5019    0.3430     21832\n",
            "weighted avg     0.7506    0.5144    0.3514     21832\n",
            "\n",
            "[[11190     0]\n",
            " [10602    40]]\n",
            "RATIO:  0.3333333333333333\n",
            "Precision: 0.963963963963964\n",
            "Recall: 0.010054501033640292\n",
            "F1-score: 0.019901422858737094\n",
            "              precision    recall  f1-score   support\n",
            "\n",
            "   generated     0.5150    0.9996    0.6798     11190\n",
            "       human     0.9640    0.0101    0.0199     10642\n",
            "\n",
            "    accuracy                         0.5173     21832\n",
            "   macro avg     0.7395    0.5048    0.3498     21832\n",
            "weighted avg     0.7338    0.5173    0.3581     21832\n",
            "\n",
            "[[11186     4]\n",
            " [10535   107]]\n",
            "RATIO:  0.5\n",
            "Precision: 0.9622815087396505\n",
            "Recall: 0.09828979515128736\n",
            "F1-score: 0.17836132662631085\n",
            "              precision    recall  f1-score   support\n",
            "\n",
            "   generated     0.5374    0.9963    0.6982     11190\n",
            "       human     0.9623    0.0983    0.1784     10642\n",
            "\n",
            "    accuracy                         0.5586     21832\n",
            "   macro avg     0.7499    0.5473    0.4383     21832\n",
            "weighted avg     0.7445    0.5586    0.4448     21832\n",
            "\n",
            "[[11149    41]\n",
            " [ 9596  1046]]\n",
            "RATIO:  0.6666666666666666\n"
          ]
        }
      ]
    },
    {
      "cell_type": "code",
      "source": [
        "# Threshold values\n",
        "for ratio in [2/3, 3/4, 5/6]:\n",
        "  print('RATIO: ', ratio)\n",
        "  test_model(test_dataset, tokenizer_gpt2, gpt2, ratio)"
      ],
      "metadata": {
        "colab": {
          "base_uri": "https://localhost:8080/",
          "height": 1000,
          "referenced_widgets": [
            "296aa6afada44e5eb2572bf71befcc57",
            "067d25d0ab6d47ddb2c1e864cf614067",
            "1b9f230e83b4400d8aea395d46d1a485",
            "392872216f33426fa753e9919c42ea90",
            "b9072aa6893c4275b3cac0da4e688c74",
            "7dbb4626412f48598634b5f6411f502e",
            "3541ab3d7c414b2b9f6618d5e4c2a33b",
            "3ebf8c3cc49e4adb83ff225e4ede7016",
            "a92de4b4ce294a429a056af7a4b3bf18",
            "cfe0a5dcf5e340d092f2a78f00331a4f",
            "534a01fa5ee74eb08b431e8f39eda514",
            "093bc33c15624a22946e3969528428b6",
            "5aca264530a84f21b3d0c3a950a871f8",
            "c81388b01eb24b9383e1432332b4aa6e",
            "38996ed149ee45ef8e941bb7e63af63b",
            "20b1e62b05a542b58256b25a5ef53840",
            "a5c287ee96b54e7da016697725bd4c10",
            "c6ceb0488b81457bb5aa063001ba286c",
            "23de14b1f28840879aa63bb93640c17f",
            "059a61745ddb45129f9dbe21e8e90bd7",
            "3ce7aa632dae44cfbd8fec46b827dc8f",
            "a1ee1dd8b33a47ba9f3ad4326d7e96ea",
            "cbe66cc381af4740a3aff9edc9546994",
            "a2b301895cbd486e92a281390e41e88d",
            "0b3a44f82fe8414aa7e667f044a7d8b9",
            "cef65fe5a6e243fe948d4f3fbe3a092e",
            "871fa491420342cca3f9bdfd2bbfbd26",
            "932332314d584baa834a27f61e79bddd",
            "048460641239435dace984d16f2c8310",
            "5ea1073166244d52b6df49beb8ba5be0",
            "31b8ecf537f749cbb467edfc7d84c5f8",
            "c3486a95b09b41c48cd79fa5b8ee84d5",
            "2b7523ee076b42d78cf3b9d5496373f8",
            "df9e98acaacc4c9487cbb1d23f4bbfc9",
            "2397560d161c4440bb4bcdde72f670e3",
            "4f80e6bc62b4445e92195a7b58e358c7",
            "8e4ec3d1b2014b979ad21edb365ad675",
            "6a00a260804048df83e6151b21bf46e6",
            "a41a1794652047b2af17dd0bc9eb2bc6",
            "bd783b324fdb498f8325b36f2133b098",
            "1b5a4a7dd84943e8afaba4dd018fb6e1",
            "7c9de4c298514bf081ca72ffba550fac",
            "dfaa22ff8371473082cb80c46e1cc5b5",
            "d838c1760012430f84532a0700da5715",
            "64b17ba3de1c4e0595aef1a8fa6bd937",
            "b6a72c8cd5d34262b38d33ae46a98117",
            "a7fd87ffd87e4583bbaabc737a65aff4",
            "c5180197af80453486d1326865e8d5ff",
            "413a2f379f1e47068081d9e4f41bba8d",
            "d1ed9ccf52b542f3b8f8c9095a09314e",
            "075eb8b6a0324e2db7bb093e8b3bd1bb",
            "c320cc0583dd41b6a68615eba80d61dd",
            "e55c30c040b444d0a35e6d4fb2da9c22",
            "119407b98937459293b2049cea0f186e",
            "5d2c1533cceb472d93d48742d64b81b3",
            "e953d83452dc4bb691014ea388f5d806",
            "c1650b2677ea43c4893943db8211905e",
            "7fc3489053214caa9b01b7549c006368",
            "53af58398881424f9d64f282c5c93cdf",
            "a691dff943824eb5bfe61b632bb958bc",
            "533bb2322ed94e6f97d492abebacce62",
            "1e67704914e74bfab71267f8f458bd71",
            "32a23e5e40184f9d89615c6e8612215d",
            "3a57569f82174ee284cc52ad2df7840a",
            "b8b47c74d1764413aa08325527f466e2",
            "94b402a42c2a489e8780eb12c8c5c5d6",
            "bf16752c58c943d5beeaa5adcd9d86bc",
            "70672b2778f647cb8687b1aa88dda5d4",
            "4560e91d32744b139e17e926b7ebf8ff",
            "762cd72af44e4bd1bf5dbe07ac2a96b1",
            "b28bf0007a684cc1b9c47b8203cce24b",
            "f655d64052a2440595baa54fcb5da01c",
            "2ea324a63ffc47dba0c8c1a67e356b94",
            "14edb67a5ae3447886c900bcb93bed81",
            "8d6a69ae71834ad49a2e19d54722eeb7",
            "427cdf16cb534b4488aed01eb3a22f7e",
            "cab1b5efdefe47bc953b933dfec0181d"
          ]
        },
        "outputId": "2aec6af4-837d-48de-ae99-7318e8a2667c",
        "id": "YYP3giVwnlhb"
      },
      "execution_count": null,
      "outputs": [
        {
          "metadata": {
            "tags": null
          },
          "name": "stderr",
          "output_type": "stream",
          "text": [
            "/usr/local/lib/python3.10/dist-packages/huggingface_hub/utils/_auth.py:94: UserWarning: \n",
            "The secret `HF_TOKEN` does not exist in your Colab secrets.\n",
            "To authenticate with the Hugging Face Hub, create a token in your settings tab (https://huggingface.co/settings/tokens), set it as secret in your Google Colab and restart your session.\n",
            "You will be able to reuse this secret in all of your notebooks.\n",
            "Please note that authentication is recommended but still optional to access public models or datasets.\n",
            "  warnings.warn(\n"
          ]
        },
        {
          "data": {
            "application/vnd.jupyter.widget-view+json": {
              "model_id": "296aa6afada44e5eb2572bf71befcc57",
              "version_major": 2,
              "version_minor": 0
            },
            "text/plain": [
              "config.json:   0%|          | 0.00/665 [00:00<?, ?B/s]"
            ]
          },
          "metadata": {},
          "output_type": "display_data"
        },
        {
          "data": {
            "application/vnd.jupyter.widget-view+json": {
              "model_id": "093bc33c15624a22946e3969528428b6",
              "version_major": 2,
              "version_minor": 0
            },
            "text/plain": [
              "model.safetensors:   0%|          | 0.00/548M [00:00<?, ?B/s]"
            ]
          },
          "metadata": {},
          "output_type": "display_data"
        },
        {
          "data": {
            "application/vnd.jupyter.widget-view+json": {
              "model_id": "cbe66cc381af4740a3aff9edc9546994",
              "version_major": 2,
              "version_minor": 0
            },
            "text/plain": [
              "generation_config.json:   0%|          | 0.00/124 [00:00<?, ?B/s]"
            ]
          },
          "metadata": {},
          "output_type": "display_data"
        },
        {
          "data": {
            "application/vnd.jupyter.widget-view+json": {
              "model_id": "df9e98acaacc4c9487cbb1d23f4bbfc9",
              "version_major": 2,
              "version_minor": 0
            },
            "text/plain": [
              "tokenizer_config.json:   0%|          | 0.00/26.0 [00:00<?, ?B/s]"
            ]
          },
          "metadata": {},
          "output_type": "display_data"
        },
        {
          "data": {
            "application/vnd.jupyter.widget-view+json": {
              "model_id": "64b17ba3de1c4e0595aef1a8fa6bd937",
              "version_major": 2,
              "version_minor": 0
            },
            "text/plain": [
              "vocab.json:   0%|          | 0.00/1.04M [00:00<?, ?B/s]"
            ]
          },
          "metadata": {},
          "output_type": "display_data"
        },
        {
          "data": {
            "application/vnd.jupyter.widget-view+json": {
              "model_id": "e953d83452dc4bb691014ea388f5d806",
              "version_major": 2,
              "version_minor": 0
            },
            "text/plain": [
              "merges.txt:   0%|          | 0.00/456k [00:00<?, ?B/s]"
            ]
          },
          "metadata": {},
          "output_type": "display_data"
        },
        {
          "data": {
            "application/vnd.jupyter.widget-view+json": {
              "model_id": "bf16752c58c943d5beeaa5adcd9d86bc",
              "version_major": 2,
              "version_minor": 0
            },
            "text/plain": [
              "tokenizer.json:   0%|          | 0.00/1.36M [00:00<?, ?B/s]"
            ]
          },
          "metadata": {},
          "output_type": "display_data"
        },
        {
          "metadata": {
            "tags": null
          },
          "name": "stderr",
          "output_type": "stream",
          "text": [
            "/usr/local/lib/python3.10/dist-packages/transformers/tokenization_utils_base.py:1601: FutureWarning: `clean_up_tokenization_spaces` was not set. It will be set to `True` by default. This behavior will be depracted in transformers v4.45, and will be then set to `False` by default. For more details check this issue: https://github.com/huggingface/transformers/issues/31884\n",
            "  warnings.warn(\n"
          ]
        },
        {
          "output_type": "stream",
          "name": "stdout",
          "text": [
            "RATIO:  0.6666666666666666\n",
            "Precision: 0.8681293302540416\n",
            "Recall: 0.7064461567374554\n",
            "F1-score: 0.7789866335094809\n",
            "              precision    recall  f1-score   support\n",
            "\n",
            "   generated     0.7628    0.8979    0.8249     11190\n",
            "       human     0.8681    0.7064    0.7790     10642\n",
            "\n",
            "    accuracy                         0.8046     21832\n",
            "   macro avg     0.8155    0.8022    0.8019     21832\n",
            "weighted avg     0.8142    0.8046    0.8025     21832\n",
            "\n",
            "[[10048  1142]\n",
            " [ 3124  7518]]\n",
            "RATIO:  0.75\n",
            "Precision: 0.6761216780436079\n",
            "Recall: 0.9586543882728811\n",
            "F1-score: 0.7929734561423962\n",
            "              precision    recall  f1-score   support\n",
            "\n",
            "   generated     0.9347    0.5633    0.7029     11190\n",
            "       human     0.6761    0.9587    0.7930     10642\n",
            "\n",
            "    accuracy                         0.7560     21832\n",
            "   macro avg     0.8054    0.7610    0.7480     21832\n",
            "weighted avg     0.8087    0.7560    0.7468     21832\n",
            "\n",
            "[[ 6303  4887]\n",
            " [  440 10202]]\n",
            "RATIO:  0.8333333333333334\n",
            "Precision: 0.5204316899681138\n",
            "Recall: 0.996899079120466\n",
            "F1-score: 0.6838559963902408\n",
            "              precision    recall  f1-score   support\n",
            "\n",
            "   generated     0.9772    0.1264    0.2238     11190\n",
            "       human     0.5204    0.9969    0.6839     10642\n",
            "\n",
            "    accuracy                         0.5507     21832\n",
            "   macro avg     0.7488    0.5616    0.4538     21832\n",
            "weighted avg     0.7545    0.5507    0.4480     21832\n",
            "\n",
            "[[ 1414  9776]\n",
            " [   33 10609]]\n"
          ]
        },
        {
          "output_type": "display_data",
          "data": {
            "text/plain": [
              "<Figure size 640x480 with 2 Axes>"
            ],
            "image/png": "[encoded data removed]"
          },
          "metadata": {}
        },
        {
          "output_type": "display_data",
          "data": {
            "text/plain": [
              "<Figure size 640x480 with 2 Axes>"
            ],
            "image/png": "[encoded data removed]"
          },
          "metadata": {}
        },
        {
          "output_type": "display_data",
          "data": {
            "text/plain": [
              "<Figure size 640x480 with 2 Axes>"
            ],
            "image/png": "[encoded data removed]"
          },
          "metadata": {}
        }
      ]
    },
    {
      "cell_type": "markdown",
      "source": [
        "We will now test different GPT-2 model versions with a threshold value of 2/3."
      ],
      "metadata": {
        "id": "-EkUrPLvGGND"
      }
    },
    {
      "cell_type": "markdown",
      "metadata": {
        "id": "YhOculnb_Tk2"
      },
      "source": [
        "# GPT-2 Medium"
      ]
    },
    {
      "cell_type": "code",
      "execution_count": null,
      "metadata": {
        "colab": {
          "base_uri": "https://localhost:8080/",
          "height": 1000,
          "referenced_widgets": [
            "e986e6fac5414dd4acd5c919477e8b84",
            "aa164e65c36f47feac2e99dd4ca86d1f",
            "5cf596bc7cdb4ab4a1c0617d09ee623c",
            "256a24436068401690d1d098d375274a",
            "598c0cb307c54e8f8b43e8d7b7c36bbe",
            "d1c59efe212f4279b6d40c6462f1e855",
            "81d6e3b7ddb84221a4055c443801a536",
            "658b4b119bfc4fb7becacb63b780eae0",
            "08b1bf7c6f2b40d48b3b88566ca110dd",
            "f93dbbfb48bb45898bd913791b395c20",
            "02c5f01b5da2474e96b67459804ae2e2",
            "469b2b5f55884b7c8360e957a6147e38",
            "fbc2aec4f7524212ae353e8e34b15805",
            "a31dcb6532b74eada5f8969404f9bb40",
            "a87532cf21ee4619bdc8f79aa6bc84f9",
            "b28965f80380494098b2092413bbc799",
            "c79ab7cfb1a54f939d660ab39f687f03",
            "8810e5c103814c209c943111995c1a55",
            "3c056fb80d424ddd84b56e55c39e1516",
            "023a3fce3f6d46a4afa4bec412b324ae",
            "c9a6affe80fe4baeab4779e66022544f",
            "dabed8e89069430299732fe3ef4129e4",
            "e7f1ae209b26406db3f376571bdaf56e",
            "10718c24a56b44ae836b168da8ee8c9f",
            "482b9286afd84b28984da6cb081f5e60",
            "222207fe8d7347358ac480758787a13b",
            "6cdb3b92602d44ab8645915b55083470",
            "ebc6d62a35384556a61a9d958b28c55a",
            "60fd105d063349d88d87e1627dd0ad7f",
            "f9803595b1cc478391b6ec214faed103",
            "a1e2e6813fe24649866d7ede26eaf66e",
            "a7b475fa0d1a43388fb37e7890c6a480",
            "d6d41c58a22243aa9f315ea714effb38",
            "f7d0c42a30bd473793928e88f1784e14",
            "54d0ddae3e2042129d397f687e57b200",
            "7a8d06307c97408baf45baf8a8d83447",
            "c3e1d34c3f7f40b5ba902d766e330436",
            "aaee1ef2195742d98dd676d1f232f944",
            "463e4254f2db44e09387883b6cb1f545",
            "bc52dbad85694378ac6b75af8699ebb5",
            "58bb4e42112747d08ee4f1e3400c282e",
            "c4ce382ec3e34fe0bff05dabc790f282",
            "557112bb3ae74d2281ded025e282b019",
            "c2ddd00bc106487782fef851a0dbd9b2",
            "18855bf521a34b84bdcb94d09123510c",
            "6bad13bac30c46dcb48e0bfae3ca2cb7",
            "485e27afeee143268c7b91498c44e386",
            "1f1980b4b8594c508d3156e2f00ab572",
            "903dfcf7ae18458385d1ef7a9579a086",
            "38febbc189a344898c4cdcdadaebc54e",
            "2427cb1d64d24eefa307332dbec99cde",
            "709ff678a8e94940bf6e0f9e3401defe",
            "bb73595feaa74ad483eeefa2e7a09967",
            "ee62c8eb9974498f9bee11550f6c4f9e",
            "638f2c6073d04adf87ee3955659d08a6",
            "cdf0c1109fba4a9b987f0cace2c963df",
            "509ed66db73046899bcf1344ed415c11",
            "24b3ec2b67f14a0eb8a7841b808e2c95",
            "2cffccf7da6e45de8dd660954d08b178",
            "c00b68b7a44a4918990849468b57ea57",
            "b2410c7e506749768a6ec8145769a5c0",
            "cf210e9c431e4d86bd167d92f1789cae",
            "5567930025a34b3cb43ebc3a9a670cb9",
            "a35a014589214594a6c3f37ac301cafa",
            "dfa8f499a8984db59ef15c3212cc7c62",
            "579b248b9e1c41f1ac23c8a67c92f5bb",
            "f9b52aaab80e4f58aa1072f9f3bfcac4",
            "766106693b2f47789b3c66c78b585303",
            "6b93d1e352fc4993abc939eb5a7d7591",
            "777bd67549c14d9c867fafa3234ff542",
            "34a4cff3239a487a85841962c145fc9f",
            "817d3bd1547747f49fe5c40c88edd3e5",
            "b16c706066d341d3865cf2be4183bac7",
            "783564d6b7ee45118a31a0a391f75196",
            "9ec1a45832d84813858b416d20e9d427",
            "5559f4ff2b374f30ab54be9adc0aa21b",
            "a376370cd7344204a75b8ff53d572497"
          ]
        },
        "id": "qN4eGVz3_Tk3",
        "outputId": "a794e544-d50d-48a2-9756-0e079d464b99"
      },
      "outputs": [
        {
          "output_type": "stream",
          "name": "stderr",
          "text": [
            "/usr/local/lib/python3.10/dist-packages/huggingface_hub/utils/_auth.py:94: UserWarning: \n",
            "The secret `HF_TOKEN` does not exist in your Colab secrets.\n",
            "To authenticate with the Hugging Face Hub, create a token in your settings tab (https://huggingface.co/settings/tokens), set it as secret in your Google Colab and restart your session.\n",
            "You will be able to reuse this secret in all of your notebooks.\n",
            "Please note that authentication is recommended but still optional to access public models or datasets.\n",
            "  warnings.warn(\n"
          ]
        },
        {
          "output_type": "display_data",
          "data": {
            "text/plain": [
              "config.json:   0%|          | 0.00/718 [00:00<?, ?B/s]"
            ],
            "application/vnd.jupyter.widget-view+json": {
              "version_major": 2,
              "version_minor": 0,
              "model_id": "e986e6fac5414dd4acd5c919477e8b84"
            }
          },
          "metadata": {}
        },
        {
          "output_type": "display_data",
          "data": {
            "text/plain": [
              "model.safetensors:   0%|          | 0.00/1.52G [00:00<?, ?B/s]"
            ],
            "application/vnd.jupyter.widget-view+json": {
              "version_major": 2,
              "version_minor": 0,
              "model_id": "469b2b5f55884b7c8360e957a6147e38"
            }
          },
          "metadata": {}
        },
        {
          "output_type": "display_data",
          "data": {
            "text/plain": [
              "generation_config.json:   0%|          | 0.00/124 [00:00<?, ?B/s]"
            ],
            "application/vnd.jupyter.widget-view+json": {
              "version_major": 2,
              "version_minor": 0,
              "model_id": "e7f1ae209b26406db3f376571bdaf56e"
            }
          },
          "metadata": {}
        },
        {
          "output_type": "display_data",
          "data": {
            "text/plain": [
              "tokenizer_config.json:   0%|          | 0.00/26.0 [00:00<?, ?B/s]"
            ],
            "application/vnd.jupyter.widget-view+json": {
              "version_major": 2,
              "version_minor": 0,
              "model_id": "f7d0c42a30bd473793928e88f1784e14"
            }
          },
          "metadata": {}
        },
        {
          "output_type": "display_data",
          "data": {
            "text/plain": [
              "vocab.json:   0%|          | 0.00/1.04M [00:00<?, ?B/s]"
            ],
            "application/vnd.jupyter.widget-view+json": {
              "version_major": 2,
              "version_minor": 0,
              "model_id": "18855bf521a34b84bdcb94d09123510c"
            }
          },
          "metadata": {}
        },
        {
          "output_type": "display_data",
          "data": {
            "text/plain": [
              "merges.txt:   0%|          | 0.00/456k [00:00<?, ?B/s]"
            ],
            "application/vnd.jupyter.widget-view+json": {
              "version_major": 2,
              "version_minor": 0,
              "model_id": "cdf0c1109fba4a9b987f0cace2c963df"
            }
          },
          "metadata": {}
        },
        {
          "output_type": "display_data",
          "data": {
            "text/plain": [
              "tokenizer.json:   0%|          | 0.00/1.36M [00:00<?, ?B/s]"
            ],
            "application/vnd.jupyter.widget-view+json": {
              "version_major": 2,
              "version_minor": 0,
              "model_id": "f9b52aaab80e4f58aa1072f9f3bfcac4"
            }
          },
          "metadata": {}
        },
        {
          "output_type": "stream",
          "name": "stderr",
          "text": [
            "/usr/local/lib/python3.10/dist-packages/transformers/tokenization_utils_base.py:1601: FutureWarning: `clean_up_tokenization_spaces` was not set. It will be set to `True` by default. This behavior will be depracted in transformers v4.45, and will be then set to `False` by default. For more details check this issue: https://github.com/huggingface/transformers/issues/31884\n",
            "  warnings.warn(\n"
          ]
        },
        {
          "output_type": "stream",
          "name": "stdout",
          "text": [
            "Precision: 0.9140350877192982\n",
            "Recall: 0.5385265927457245\n",
            "F1-score: 0.6777436140018921\n",
            "              precision    recall  f1-score   support\n",
            "\n",
            "   generated     0.6844    0.9518    0.7963     11190\n",
            "       human     0.9140    0.5385    0.6777     10642\n",
            "\n",
            "    accuracy                         0.7504     21832\n",
            "   macro avg     0.7992    0.7452    0.7370     21832\n",
            "weighted avg     0.7963    0.7504    0.7385     21832\n",
            "\n",
            "[[10651   539]\n",
            " [ 4911  5731]]\n"
          ]
        },
        {
          "output_type": "display_data",
          "data": {
            "text/plain": [
              "<Figure size 640x480 with 2 Axes>"
            ],
            "image/png": "[encoded data removed]"
          },
          "metadata": {}
        }
      ],
      "source": [
        "import torch\n",
        "from transformers import AutoModelForCausalLM, AutoTokenizer\n",
        "\n",
        "device = torch.device(\"cuda\" if torch.cuda.is_available() else \"cpu\")\n",
        "\n",
        "# Access model and tokenizer\n",
        "gpt2_medium = AutoModelForCausalLM.from_pretrained(\"gpt2-medium\").to(device)\n",
        "tokenizer_gpt2_medium = AutoTokenizer.from_pretrained(\"gpt2-medium\")\n",
        "gpt2_medium.eval()\n",
        "# Define start token\n",
        "start_token = tokenizer_gpt2_medium(tokenizer_gpt2_medium.bos_token, return_tensors='pt').data['input_ids'][0]\n",
        "\n",
        "# Threshold value at 2/3\n",
        "test_model(test_dataset, tokenizer_gpt2_medium, gpt2_medium, 2/3)"
      ]
    },
    {
      "cell_type": "markdown",
      "source": [
        "# GPT-2 Large"
      ],
      "metadata": {
        "id": "BQFOe8Gc_V4t"
      }
    },
    {
      "cell_type": "code",
      "source": [
        "import torch\n",
        "from transformers import AutoModelForCausalLM, AutoTokenizer\n",
        "\n",
        "device = torch.device(\"cuda\" if torch.cuda.is_available() else \"cpu\")\n",
        "\n",
        "# Access model and tokenizer\n",
        "gpt2_large = AutoModelForCausalLM.from_pretrained(\"gpt2-large\").to(device)\n",
        "tokenizer_gpt2_large = AutoTokenizer.from_pretrained(\"gpt2-large\")\n",
        "gpt2_large.eval()\n",
        "# Define start token\n",
        "start_token = tokenizer_gpt2_large(tokenizer_gpt2_large.bos_token, return_tensors='pt').data['input_ids'][0]\n",
        "\n",
        "# Threshold value at 2/3\n",
        "test_model(test_dataset, tokenizer_gpt2_large, gpt2_large, 2/3)"
      ],
      "metadata": {
        "id": "0lWoI_Gm_V4v",
        "colab": {
          "base_uri": "https://localhost:8080/",
          "height": 971,
          "referenced_widgets": [
            "741f4982098545d5bb295798db3ca8bb",
            "ced3d8fe55d2495fa7996acd197344fe",
            "f8107251401e473780779deec29c7809",
            "2f6cdb497bdb4dae8201cc635445f294",
            "f148eb79f93842b089ecd04b0359ec1a",
            "b392f78afd0f43f49a6ed39b6b732dae",
            "65602e1fc67c4d5dac0528389c6bfb72",
            "4742ae0c74be49e4add18aa41d10fb06",
            "645e33c3d1c14affa60a0180f959876a",
            "e70d199f1de34b138d15bafc7d69c7d4",
            "c543106c728341c88f3e3f934501ccbb",
            "b931e374195c45a2afe3961598d20d10",
            "03c92603e3d04bdb85865b897cf6d389",
            "4aeb805efb3341409e0c54d98053908c",
            "f862a5aec4d24456ad374e4ce7d4ae94",
            "9b8a009589734334bf5c206382dcbe82",
            "fc6fd295d709446e92dd4544ac5bf34d",
            "c7786a9d41864907a3d54e44d29d23f8",
            "6f2f98ffcd1546f784ed00e5f36664fb",
            "abc4f77274b6456ea2b6e91c3655cd0b",
            "2a59bdddd5674faf95081bbcf5ac5001",
            "241bba11ca94418fb6475990fabaef9f",
            "19441053e28b472e8c8ff8e3823b3d44",
            "171200d10b4047da99f9d73dbbf16658",
            "e2755201abc5495aa16cf2b9e23205ff",
            "6469bc2bd1af4891aa165f8917ba2b99",
            "985627a89c0d499f8ad3e5211c7e0933",
            "a88ad76131834b7c8e7398f8ee495922",
            "c8eb21571b9e42fbaa94e4f9abba74b7",
            "6a03502f9708444cb7c7bb0715b91705",
            "04886f85593f4c338bcff58e9d0306fd",
            "c0509d47ad2343429041f22a9ad1be5a",
            "70343b31866b4a6ea2cb58f257ba9dd2",
            "d45b958b28d64b8cb7ee771a34265110",
            "9d0536ea9be740c19a7820deb80fe871",
            "13a24d83294c464ab2cc1e1ef9c2865c",
            "616f1c651ba04b5e9601f0f42dddad8c",
            "20ccbaf5b31f4eaab3dd0f6f7cbcd31d",
            "b94523c09f724744ac04d2533c1dfcf0",
            "82e060d4bc2a47e48024a05ffcbae587",
            "4c2a5296c7e14a0da55c1792ef70cbfc",
            "8a4452db0f5c475ea2088bfdc3c8b126",
            "12008c4e6236487a829e060d22a93d6c",
            "c4f3fdffd8464474b8dc38f3da11e5c8",
            "3d98131294a94a54946ffa528963b92d",
            "e7a4213b6f9a487fb820ee25e84d68c7",
            "f913785a055747068bccd711f6cea637",
            "6456b5d543644d068a3bf081ca4df3d7",
            "5b0e46469bbe423a88d059c89e27478b",
            "d5de54c3d0b94d96b8743497f67c02a5",
            "217e01c5d82543e58d8cd4714e94bbcc",
            "68a4733822a149e5947a60165c725e32",
            "967eca28fa0a4aec93fd9c526b93d0c6",
            "5b95c0358fe743668897d165c415b3bb",
            "d6960bfd5dad43a7a5f044c75f48d4bd",
            "35c0edc9c44a4637bdc682e40dd008e4",
            "41a2af842361474caebba0ef553df4e2",
            "d9fe049010c24850b8770e478da40a82",
            "829096b9b52947a78fd61434664e531f",
            "e25120436ea64d558b79fe228f1c173d",
            "1d9714b8e5f942d8bce9525e64a0a476",
            "515b3203666a4a689798ace4415cd6a8",
            "c6c309445a744f938d39c4bf600a9265",
            "2ea3b547a3d249d5b8bba0b4c26f0b23",
            "ef39452a479342d9a5d297542a832e46",
            "dfc3d9c7142f4fd0877634b0d5ff7949",
            "16a5f466ff89456ab22584be902074c4",
            "248c55c7ec554da08fb4136f32bcf89d",
            "cd59f607776d43df87d01465212c58d2",
            "ee9274bcb40f4e349452bd3d39338b88",
            "0c0fae294b45498fa7dfaa464c0ab27f",
            "5198efea1907428aa70f759eda524643",
            "db58cfe41c534cd0b6593a1044b2da2e",
            "12e615e066cb4ca9b7ed27d70ce718aa",
            "b0d6567305c244e0afda1af4f475395e",
            "4c6b985fbf4846c8ade2a2f0a0f04975",
            "aa0ec1db08f54e71a8e50fa280389bfb"
          ]
        },
        "outputId": "4e36475d-98a5-4b1d-f653-6bd7ad110b47"
      },
      "execution_count": null,
      "outputs": [
        {
          "data": {
            "application/vnd.jupyter.widget-view+json": {
              "model_id": "741f4982098545d5bb295798db3ca8bb",
              "version_major": 2,
              "version_minor": 0
            },
            "text/plain": [
              "config.json:   0%|          | 0.00/666 [00:00<?, ?B/s]"
            ]
          },
          "metadata": {},
          "output_type": "display_data"
        },
        {
          "data": {
            "application/vnd.jupyter.widget-view+json": {
              "model_id": "b931e374195c45a2afe3961598d20d10",
              "version_major": 2,
              "version_minor": 0
            },
            "text/plain": [
              "model.safetensors:   0%|          | 0.00/3.25G [00:00<?, ?B/s]"
            ]
          },
          "metadata": {},
          "output_type": "display_data"
        },
        {
          "data": {
            "application/vnd.jupyter.widget-view+json": {
              "model_id": "19441053e28b472e8c8ff8e3823b3d44",
              "version_major": 2,
              "version_minor": 0
            },
            "text/plain": [
              "generation_config.json:   0%|          | 0.00/124 [00:00<?, ?B/s]"
            ]
          },
          "metadata": {},
          "output_type": "display_data"
        },
        {
          "data": {
            "application/vnd.jupyter.widget-view+json": {
              "model_id": "d45b958b28d64b8cb7ee771a34265110",
              "version_major": 2,
              "version_minor": 0
            },
            "text/plain": [
              "tokenizer_config.json:   0%|          | 0.00/26.0 [00:00<?, ?B/s]"
            ]
          },
          "metadata": {},
          "output_type": "display_data"
        },
        {
          "data": {
            "application/vnd.jupyter.widget-view+json": {
              "model_id": "3d98131294a94a54946ffa528963b92d",
              "version_major": 2,
              "version_minor": 0
            },
            "text/plain": [
              "vocab.json:   0%|          | 0.00/1.04M [00:00<?, ?B/s]"
            ]
          },
          "metadata": {},
          "output_type": "display_data"
        },
        {
          "data": {
            "application/vnd.jupyter.widget-view+json": {
              "model_id": "35c0edc9c44a4637bdc682e40dd008e4",
              "version_major": 2,
              "version_minor": 0
            },
            "text/plain": [
              "merges.txt:   0%|          | 0.00/456k [00:00<?, ?B/s]"
            ]
          },
          "metadata": {},
          "output_type": "display_data"
        },
        {
          "data": {
            "application/vnd.jupyter.widget-view+json": {
              "model_id": "16a5f466ff89456ab22584be902074c4",
              "version_major": 2,
              "version_minor": 0
            },
            "text/plain": [
              "tokenizer.json:   0%|          | 0.00/1.36M [00:00<?, ?B/s]"
            ]
          },
          "metadata": {},
          "output_type": "display_data"
        },
        {
          "metadata": {
            "tags": null
          },
          "name": "stderr",
          "output_type": "stream",
          "text": [
            "/usr/local/lib/python3.10/dist-packages/transformers/tokenization_utils_base.py:1601: FutureWarning: `clean_up_tokenization_spaces` was not set. It will be set to `True` by default. This behavior will be depracted in transformers v4.45, and will be then set to `False` by default. For more details check this issue: https://github.com/huggingface/transformers/issues/31884\n",
            "  warnings.warn(\n"
          ]
        },
        {
          "output_type": "stream",
          "name": "stdout",
          "text": [
            "Precision: 0.9184131736526946\n",
            "Recall: 0.46119150535613607\n",
            "F1-score: 0.6140372826222945\n",
            "              precision    recall  f1-score   support\n",
            "\n",
            "   generated     0.6522    0.9610    0.7771     11190\n",
            "       human     0.9184    0.4612    0.6140     10642\n",
            "\n",
            "    accuracy                         0.7174     21832\n",
            "   macro avg     0.7853    0.7111    0.6956     21832\n",
            "weighted avg     0.7820    0.7174    0.6976     21832\n",
            "\n",
            "[[10754   436]\n",
            " [ 5734  4908]]\n"
          ]
        },
        {
          "output_type": "display_data",
          "data": {
            "text/plain": [
              "<Figure size 640x480 with 2 Axes>"
            ],
            "image/png": "[encoded data removed]"
          },
          "metadata": {}
        }
      ]
    },
    {
      "cell_type": "markdown",
      "source": [
        "# GPT-2 XL"
      ],
      "metadata": {
        "id": "X8I954CN_WEq"
      }
    },
    {
      "cell_type": "code",
      "source": [
        "import torch\n",
        "from transformers import AutoModelForCausalLM, AutoTokenizer\n",
        "\n",
        "device = torch.device(\"cuda\" if torch.cuda.is_available() else \"cpu\")\n",
        "\n",
        "# Access model and tokenizer\n",
        "gpt2_xl = AutoModelForCausalLM.from_pretrained(\"gpt2-xl\").to(device)\n",
        "tokenizer_gpt2_xl = AutoTokenizer.from_pretrained(\"gpt2-xl\")\n",
        "gpt2_xl.eval()\n",
        "# Define start token\n",
        "start_token = tokenizer_gpt2_xl(tokenizer_gpt2_xl.bos_token, return_tensors='pt').data['input_ids'][0]\n",
        "\n",
        "# Threshold value at 2/3\n",
        "test_model(test_dataset, tokenizer_gpt2_xl, gpt2_xl, 2/3)"
      ],
      "metadata": {
        "id": "d9NL1WM9_WEr",
        "colab": {
          "base_uri": "https://localhost:8080/",
          "height": 1000,
          "referenced_widgets": [
            "3830cb5a867945dbacbfaea8b13284c9",
            "f92be5ff37ba47aba4f50b38fb47bce2",
            "f8d8961e2f2645639c427e010c116830",
            "37e8e696441b4e5a89674dc02e31cb72",
            "b9146c9a852a465c954b64b436728fef",
            "ff648252160c4fe7b9476456f28a53bd",
            "81c7eaf4bc2541f78383560fd7c1a4df",
            "d5a4557fdafe490cb1d15b7a329f1b9c",
            "b58f382d41034dc69c6a3da13a44cecb",
            "da5b78c8ebf14211aa4b097dd12ced1d",
            "d1b9eb2cfe6e4056b0e5252e6905cda7",
            "f371767ed4844bcb9c477cdbb9e5f6d3",
            "d1374f8a7e524ab68f6782d6cd0e7b71",
            "317c070bb4ad4765bf62112532cdb38d",
            "31237a2305884538a5c6df6f32513658",
            "391a9b8c80dc491e890eb3280cfb183e",
            "8a81e967a5b744a2aeacf0b8f3aafbe6",
            "a4631e17a4bf49e0b7dff32e3e2f8034",
            "858fd72bf59446ff91b28bf843547df0",
            "a7bd0d3f1fb24888a24936ed51fdfc5d",
            "c1f02c4bedbb4a61a1b5f38979387185",
            "4d14fe6063c5438695da1acbcda3e0c7",
            "7c49c1a7ec7d4502871cc3bdd0be4eaf",
            "215e12ac0230471c94120dd1eb5b43f2",
            "7bfb3d9aabbf4594991042f9864c1994",
            "c2627bff5f814919a37dfda4d29b28bf",
            "18d3c2aa9d5f4b818a20b5195e90047c",
            "08726611481d44089c84d83204c230e2",
            "dfbc71fadccc407885ccc87b4f8b6eb7",
            "b71ba02acd1b4d6e96ce448ac1a9461a",
            "85c47d0f10ab4f43890567e21e8302a8",
            "51c735e2b99341e78f0360c372c2fe92",
            "50fa3c5a62ab4d53821bf91d36a68482",
            "089ef268d09444cfa3f7c99def81a040",
            "e23e547d19dc400d8f9d7fff8ef46ef4",
            "6a81bc48bf5341ee96962ecb1fd47f7e",
            "56588d056f6d4d8e98e30936b00bd5df",
            "d7d9fe861f2e498eaef941ec97a231bd",
            "c1f6c22af8a2471d93091047703a97e2",
            "e9ae8fe9c11f459db069b0bedc74b88a",
            "cb851af2545848ca922420e02ba32d04",
            "2b66548536734257bed417673aa14558",
            "e93c3c701d804a92ab748e5688539dd2",
            "890f155e21d8402690891f458be48a24",
            "82eec4bc6f864437aa985b6ba7e1494a",
            "31e41b60fa0042abad4a9be889ba36b8",
            "c1e6a4114d5644d88ae8fa333088c6a8",
            "3241ed463bf54dc9a168ca437c68888a",
            "d4265759c8e648ac890d26d329330a33",
            "cd1f2956262f4332bb55d242874aefa2",
            "9064f25f4cb94935b2b5148a08ad54c9",
            "14c8e5a167854fe8a53fcefee7ac645e",
            "2fb029cfac0247d6bf3d9e4bedbc7505",
            "9c25e26b54a343c1ba4b8550bc4a7172",
            "7401898e2fa44f188ea18832d43c0bc5",
            "96acafb602994af69173a2b985810c69",
            "de690be8a37b4299a1d0f025843b9aa8",
            "e6b8183ca1104b218167717809ffb66d",
            "fdb116365a0349efbb8257e587c3dd91",
            "3e319dc51c0246428092ff345b5ccb5b",
            "571e598158984de2a0c8e346d8034570",
            "e084d1f98a6846589be32a800f81f59e",
            "b922495522244509a074cf8dad6c24d4",
            "d726869c4fd341ffac5bb8a97a2075de",
            "8d19c93e6d9b431f8cd14420f24b4900",
            "d0d960aa787f484eb19e4f5691400f33",
            "87280c2f2dec4e089e4ea1fba57f50e2",
            "bde9639155af4df7b609a76e614766a0",
            "5e2087a6b3804820b15e1b66753be3e4",
            "68ee76bfc19c4f199420cdf50e006aa2",
            "e714002c44ed4dabaed63cca06dcf99c",
            "ae6514e47e2748d6ba981c588b8a4935",
            "4cb86487129948edb0983d16d1d8338c",
            "93605a2354e54ff48c1b78fbbb9be6c5",
            "35285336675f46229e5c96cbdfe01907",
            "ccf3c2dfc23b4dce93d0d8c3c98577d0",
            "cf57f133a18c4759ac8e09390e2b4e04"
          ]
        },
        "outputId": "22f61f20-b66a-4fbb-e514-f229d182d042"
      },
      "execution_count": null,
      "outputs": [
        {
          "output_type": "stream",
          "name": "stderr",
          "text": [
            "/usr/local/lib/python3.10/dist-packages/huggingface_hub/utils/_auth.py:94: UserWarning: \n",
            "The secret `HF_TOKEN` does not exist in your Colab secrets.\n",
            "To authenticate with the Hugging Face Hub, create a token in your settings tab (https://huggingface.co/settings/tokens), set it as secret in your Google Colab and restart your session.\n",
            "You will be able to reuse this secret in all of your notebooks.\n",
            "Please note that authentication is recommended but still optional to access public models or datasets.\n",
            "  warnings.warn(\n"
          ]
        },
        {
          "output_type": "display_data",
          "data": {
            "text/plain": [
              "config.json:   0%|          | 0.00/689 [00:00<?, ?B/s]"
            ],
            "application/vnd.jupyter.widget-view+json": {
              "version_major": 2,
              "version_minor": 0,
              "model_id": "3830cb5a867945dbacbfaea8b13284c9"
            }
          },
          "metadata": {}
        },
        {
          "output_type": "display_data",
          "data": {
            "text/plain": [
              "model.safetensors:   0%|          | 0.00/6.43G [00:00<?, ?B/s]"
            ],
            "application/vnd.jupyter.widget-view+json": {
              "version_major": 2,
              "version_minor": 0,
              "model_id": "f371767ed4844bcb9c477cdbb9e5f6d3"
            }
          },
          "metadata": {}
        },
        {
          "output_type": "display_data",
          "data": {
            "text/plain": [
              "generation_config.json:   0%|          | 0.00/124 [00:00<?, ?B/s]"
            ],
            "application/vnd.jupyter.widget-view+json": {
              "version_major": 2,
              "version_minor": 0,
              "model_id": "7c49c1a7ec7d4502871cc3bdd0be4eaf"
            }
          },
          "metadata": {}
        },
        {
          "output_type": "display_data",
          "data": {
            "text/plain": [
              "tokenizer_config.json:   0%|          | 0.00/26.0 [00:00<?, ?B/s]"
            ],
            "application/vnd.jupyter.widget-view+json": {
              "version_major": 2,
              "version_minor": 0,
              "model_id": "089ef268d09444cfa3f7c99def81a040"
            }
          },
          "metadata": {}
        },
        {
          "output_type": "display_data",
          "data": {
            "text/plain": [
              "vocab.json:   0%|          | 0.00/1.04M [00:00<?, ?B/s]"
            ],
            "application/vnd.jupyter.widget-view+json": {
              "version_major": 2,
              "version_minor": 0,
              "model_id": "82eec4bc6f864437aa985b6ba7e1494a"
            }
          },
          "metadata": {}
        },
        {
          "output_type": "display_data",
          "data": {
            "text/plain": [
              "merges.txt:   0%|          | 0.00/456k [00:00<?, ?B/s]"
            ],
            "application/vnd.jupyter.widget-view+json": {
              "version_major": 2,
              "version_minor": 0,
              "model_id": "96acafb602994af69173a2b985810c69"
            }
          },
          "metadata": {}
        },
        {
          "output_type": "display_data",
          "data": {
            "text/plain": [
              "tokenizer.json:   0%|          | 0.00/1.36M [00:00<?, ?B/s]"
            ],
            "application/vnd.jupyter.widget-view+json": {
              "version_major": 2,
              "version_minor": 0,
              "model_id": "87280c2f2dec4e089e4ea1fba57f50e2"
            }
          },
          "metadata": {}
        },
        {
          "output_type": "stream",
          "name": "stderr",
          "text": [
            "/usr/local/lib/python3.10/dist-packages/transformers/tokenization_utils_base.py:1601: FutureWarning: `clean_up_tokenization_spaces` was not set. It will be set to `True` by default. This behavior will be depracted in transformers v4.45, and will be then set to `False` by default. For more details check this issue: https://github.com/huggingface/transformers/issues/31884\n",
            "  warnings.warn(\n"
          ]
        },
        {
          "output_type": "stream",
          "name": "stdout",
          "text": [
            "Precision: 0.9119258322798146\n",
            "Recall: 0.4066904717158429\n",
            "F1-score: 0.5625162464257863\n",
            "              precision    recall  f1-score   support\n",
            "\n",
            "   generated     0.6305    0.9626    0.7619     11190\n",
            "       human     0.9119    0.4067    0.5625     10642\n",
            "\n",
            "    accuracy                         0.6916     21832\n",
            "   macro avg     0.7712    0.6847    0.6622     21832\n",
            "weighted avg     0.7677    0.6916    0.6647     21832\n",
            "\n",
            "[[10772   418]\n",
            " [ 6314  4328]]\n"
          ]
        },
        {
          "output_type": "display_data",
          "data": {
            "text/plain": [
              "<Figure size 640x480 with 2 Axes>"
            ],
            "image/png": "[encoded data removed]"
          },
          "metadata": {}
        }
      ]
    },
    {
      "cell_type": "markdown",
      "source": [
        "# **Conclusions**\n",
        "**Best Threshold Value:**\n",
        "\n",
        " The best score for the Generated class is achieved at the threshold of 2/3, with an F1-score of 82.49%. While for the Human class, it is obtained at the threshold of 3/4, with an F1-score of 79.30%. Overall, the most optimal threshold value is 2/3, which returns the highest macro F1-score, 80,19%, by balancing the performance between the Generated and Human categories.\n",
        "\n",
        "\n",
        "**Best GPT-2 Model:**\n",
        "\n",
        " We can notice that as the model size increases, the performance generally declines across all metrics: Generated F1-score, Human F1-score, and macro F1-score.  Hence, the best results are obtained with the `gpt2-small` model, with Generated F1-score, Human F1-score, and macro F1-score of 82.49%, 77.90%, and 80.19%, respectively.\n",
        "\n",
        " From the confusion matrix, we can see that out of 11,190 generated texts, the model correctly classifies 10,048 as generated (true positives). However, it misidentifies 1,142 as human-written (false positives). On the other hand, for the 10,642 human-written texts, the model classifies 7,518 as human, while misclassifying 3,124 as generated (false negatives). Although overall the model performs well, it still has room for improvement in distinguishing between generated and human-written texts, especially in reducing false positives and false negatives.\n",
        "\n",
        " ![image.png](data:image/png;base64,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)"
      ],
      "metadata": {
        "id": "R80tqHugF1ZX"
      }
    }
  ],
  "metadata": {
    "accelerator": "GPU",
    "colab": {
      "gpuType": "T4",
      "provenance": [],
      "toc_visible": true
    },
    "kernelspec": {
      "display_name": "Python 3",
      "name": "python3"
    },
    "language_info": {
      "name": "python"
    },
    "widgets": {
      "application/vnd.jupyter.widget-state+json": {
        "e986e6fac5414dd4acd5c919477e8b84": {
          "model_module": "@jupyter-widgets/controls",
          "model_name": "HBoxModel",
          "model_module_version": "1.5.0",
          "state": {
            "_dom_classes": [],
            "_model_module": "@jupyter-widgets/controls",
            "_model_module_version": "1.5.0",
            "_model_name": "HBoxModel",
            "_view_count": null,
            "_view_module": "@jupyter-widgets/controls",
            "_view_module_version": "1.5.0",
            "_view_name": "HBoxView",
            "box_style": "",
            "children": [
              "IPY_MODEL_aa164e65c36f47feac2e99dd4ca86d1f",
              "IPY_MODEL_5cf596bc7cdb4ab4a1c0617d09ee623c",
              "IPY_MODEL_256a24436068401690d1d098d375274a"
            ],
            "layout": "IPY_MODEL_598c0cb307c54e8f8b43e8d7b7c36bbe"
          }
        },
        "aa164e65c36f47feac2e99dd4ca86d1f": {
          "model_module": "@jupyter-widgets/controls",
          "model_name": "HTMLModel",
          "model_module_version": "1.5.0",
          "state": {
            "_dom_classes": [],
            "_model_module": "@jupyter-widgets/controls",
            "_model_module_version": "1.5.0",
            "_model_name": "HTMLModel",
            "_view_count": null,
            "_view_module": "@jupyter-widgets/controls",
            "_view_module_version": "1.5.0",
            "_view_name": "HTMLView",
            "description": "",
            "description_tooltip": null,
            "layout": "IPY_MODEL_d1c59efe212f4279b6d40c6462f1e855",
            "placeholder": "​",
            "style": "IPY_MODEL_81d6e3b7ddb84221a4055c443801a536",
            "value": "config.json: 100%"
          }
        },
        "5cf596bc7cdb4ab4a1c0617d09ee623c": {
          "model_module": "@jupyter-widgets/controls",
          "model_name": "FloatProgressModel",
          "model_module_version": "1.5.0",
          "state": {
            "_dom_classes": [],
            "_model_module": "@jupyter-widgets/controls",
            "_model_module_version": "1.5.0",
            "_model_name": "FloatProgressModel",
            "_view_count": null,
            "_view_module": "@jupyter-widgets/controls",
            "_view_module_version": "1.5.0",
            "_view_name": "ProgressView",
            "bar_style": "success",
            "description": "",
            "description_tooltip": null,
            "layout": "IPY_MODEL_658b4b119bfc4fb7becacb63b780eae0",
            "max": 718,
            "min": 0,
            "orientation": "horizontal",
            "style": "IPY_MODEL_08b1bf7c6f2b40d48b3b88566ca110dd",
            "value": 718
          }
        },
        "256a24436068401690d1d098d375274a": {
          "model_module": "@jupyter-widgets/controls",
          "model_name": "HTMLModel",
          "model_module_version": "1.5.0",
          "state": {
            "_dom_classes": [],
            "_model_module": "@jupyter-widgets/controls",
            "_model_module_version": "1.5.0",
            "_model_name": "HTMLModel",
            "_view_count": null,
            "_view_module": "@jupyter-widgets/controls",
            "_view_module_version": "1.5.0",
            "_view_name": "HTMLView",
            "description": "",
            "description_tooltip": null,
            "layout": "IPY_MODEL_f93dbbfb48bb45898bd913791b395c20",
            "placeholder": "​",
            "style": "IPY_MODEL_02c5f01b5da2474e96b67459804ae2e2",
            "value": " 718/718 [00:00&lt;00:00, 25.8kB/s]"
          }
        },
        "598c0cb307c54e8f8b43e8d7b7c36bbe": {
          "model_module": "@jupyter-widgets/base",
          "model_name": "LayoutModel",
          "model_module_version": "1.2.0",
          "state": {
            "_model_module": "@jupyter-widgets/base",
            "_model_module_version": "1.2.0",
            "_model_name": "LayoutModel",
            "_view_count": null,
            "_view_module": "@jupyter-widgets/base",
            "_view_module_version": "1.2.0",
            "_view_name": "LayoutView",
            "align_content": null,
            "align_items": null,
            "align_self": null,
            "border": null,
            "bottom": null,
            "display": null,
            "flex": null,
            "flex_flow": null,
            "grid_area": null,
            "grid_auto_columns": null,
            "grid_auto_flow": null,
            "grid_auto_rows": null,
            "grid_column": null,
            "grid_gap": null,
            "grid_row": null,
            "grid_template_areas": null,
            "grid_template_columns": null,
            "grid_template_rows": null,
            "height": null,
            "justify_content": null,
            "justify_items": null,
            "left": null,
            "margin": null,
            "max_height": null,
            "max_width": null,
            "min_height": null,
            "min_width": null,
            "object_fit": null,
            "object_position": null,
            "order": null,
            "overflow": null,
            "overflow_x": null,
            "overflow_y": null,
            "padding": null,
            "right": null,
            "top": null,
            "visibility": null,
            "width": null
          }
        },
        "d1c59efe212f4279b6d40c6462f1e855": {
          "model_module": "@jupyter-widgets/base",
          "model_name": "LayoutModel",
          "model_module_version": "1.2.0",
          "state": {
            "_model_module": "@jupyter-widgets/base",
            "_model_module_version": "1.2.0",
            "_model_name": "LayoutModel",
            "_view_count": null,
            "_view_module": "@jupyter-widgets/base",
            "_view_module_version": "1.2.0",
            "_view_name": "LayoutView",
            "align_content": null,
            "align_items": null,
            "align_self": null,
            "border": null,
            "bottom": null,
            "display": null,
            "flex": null,
            "flex_flow": null,
            "grid_area": null,
            "grid_auto_columns": null,
            "grid_auto_flow": null,
            "grid_auto_rows": null,
            "grid_column": null,
            "grid_gap": null,
            "grid_row": null,
            "grid_template_areas": null,
            "grid_template_columns": null,
            "grid_template_rows": null,
            "height": null,
            "justify_content": null,
            "justify_items": null,
            "left": null,
            "margin": null,
            "max_height": null,
            "max_width": null,
            "min_height": null,
            "min_width": null,
            "object_fit": null,
            "object_position": null,
            "order": null,
            "overflow": null,
            "overflow_x": null,
            "overflow_y": null,
            "padding": null,
            "right": null,
            "top": null,
            "visibility": null,
            "width": null
          }
        },
        "81d6e3b7ddb84221a4055c443801a536": {
          "model_module": "@jupyter-widgets/controls",
          "model_name": "DescriptionStyleModel",
          "model_module_version": "1.5.0",
          "state": {
            "_model_module": "@jupyter-widgets/controls",
            "_model_module_version": "1.5.0",
            "_model_name": "DescriptionStyleModel",
            "_view_count": null,
            "_view_module": "@jupyter-widgets/base",
            "_view_module_version": "1.2.0",
            "_view_name": "StyleView",
            "description_width": ""
          }
        },
        "658b4b119bfc4fb7becacb63b780eae0": {
          "model_module": "@jupyter-widgets/base",
          "model_name": "LayoutModel",
          "model_module_version": "1.2.0",
          "state": {
            "_model_module": "@jupyter-widgets/base",
            "_model_module_version": "1.2.0",
            "_model_name": "LayoutModel",
            "_view_count": null,
            "_view_module": "@jupyter-widgets/base",
            "_view_module_version": "1.2.0",
            "_view_name": "LayoutView",
            "align_content": null,
            "align_items": null,
            "align_self": null,
            "border": null,
            "bottom": null,
            "display": null,
            "flex": null,
            "flex_flow": null,
            "grid_area": null,
            "grid_auto_columns": null,
            "grid_auto_flow": null,
            "grid_auto_rows": null,
            "grid_column": null,
            "grid_gap": null,
            "grid_row": null,
            "grid_template_areas": null,
            "grid_template_columns": null,
            "grid_template_rows": null,
            "height": null,
            "justify_content": null,
            "justify_items": null,
            "left": null,
            "margin": null,
            "max_height": null,
            "max_width": null,
            "min_height": null,
            "min_width": null,
            "object_fit": null,
            "object_position": null,
            "order": null,
            "overflow": null,
            "overflow_x": null,
            "overflow_y": null,
            "padding": null,
            "right": null,
            "top": null,
            "visibility": null,
            "width": null
          }
        },
        "08b1bf7c6f2b40d48b3b88566ca110dd": {
          "model_module": "@jupyter-widgets/controls",
          "model_name": "ProgressStyleModel",
          "model_module_version": "1.5.0",
          "state": {
            "_model_module": "@jupyter-widgets/controls",
            "_model_module_version": "1.5.0",
            "_model_name": "ProgressStyleModel",
            "_view_count": null,
            "_view_module": "@jupyter-widgets/base",
            "_view_module_version": "1.2.0",
            "_view_name": "StyleView",
            "bar_color": null,
            "description_width": ""
          }
        },
        "f93dbbfb48bb45898bd913791b395c20": {
          "model_module": "@jupyter-widgets/base",
          "model_name": "LayoutModel",
          "model_module_version": "1.2.0",
          "state": {
            "_model_module": "@jupyter-widgets/base",
            "_model_module_version": "1.2.0",
            "_model_name": "LayoutModel",
            "_view_count": null,
            "_view_module": "@jupyter-widgets/base",
            "_view_module_version": "1.2.0",
            "_view_name": "LayoutView",
            "align_content": null,
            "align_items": null,
            "align_self": null,
            "border": null,
            "bottom": null,
            "display": null,
            "flex": null,
            "flex_flow": null,
            "grid_area": null,
            "grid_auto_columns": null,
            "grid_auto_flow": null,
            "grid_auto_rows": null,
            "grid_column": null,
            "grid_gap": null,
            "grid_row": null,
            "grid_template_areas": null,
            "grid_template_columns": null,
            "grid_template_rows": null,
            "height": null,
            "justify_content": null,
            "justify_items": null,
            "left": null,
            "margin": null,
            "max_height": null,
            "max_width": null,
            "min_height": null,
            "min_width": null,
            "object_fit": null,
            "object_position": null,
            "order": null,
            "overflow": null,
            "overflow_x": null,
            "overflow_y": null,
            "padding": null,
            "right": null,
            "top": null,
            "visibility": null,
            "width": null
          }
        },
        "02c5f01b5da2474e96b67459804ae2e2": {
          "model_module": "@jupyter-widgets/controls",
          "model_name": "DescriptionStyleModel",
          "model_module_version": "1.5.0",
          "state": {
            "_model_module": "@jupyter-widgets/controls",
            "_model_module_version": "1.5.0",
            "_model_name": "DescriptionStyleModel",
            "_view_count": null,
            "_view_module": "@jupyter-widgets/base",
            "_view_module_version": "1.2.0",
            "_view_name": "StyleView",
            "description_width": ""
          }
        },
        "469b2b5f55884b7c8360e957a6147e38": {
          "model_module": "@jupyter-widgets/controls",
          "model_name": "HBoxModel",
          "model_module_version": "1.5.0",
          "state": {
            "_dom_classes": [],
            "_model_module": "@jupyter-widgets/controls",
            "_model_module_version": "1.5.0",
            "_model_name": "HBoxModel",
            "_view_count": null,
            "_view_module": "@jupyter-widgets/controls",
            "_view_module_version": "1.5.0",
            "_view_name": "HBoxView",
            "box_style": "",
            "children": [
              "IPY_MODEL_fbc2aec4f7524212ae353e8e34b15805",
              "IPY_MODEL_a31dcb6532b74eada5f8969404f9bb40",
              "IPY_MODEL_a87532cf21ee4619bdc8f79aa6bc84f9"
            ],
            "layout": "IPY_MODEL_b28965f80380494098b2092413bbc799"
          }
        },
        "fbc2aec4f7524212ae353e8e34b15805": {
          "model_module": "@jupyter-widgets/controls",
          "model_name": "HTMLModel",
          "model_module_version": "1.5.0",
          "state": {
            "_dom_classes": [],
            "_model_module": "@jupyter-widgets/controls",
            "_model_module_version": "1.5.0",
            "_model_name": "HTMLModel",
            "_view_count": null,
            "_view_module": "@jupyter-widgets/controls",
            "_view_module_version": "1.5.0",
            "_view_name": "HTMLView",
            "description": "",
            "description_tooltip": null,
            "layout": "IPY_MODEL_c79ab7cfb1a54f939d660ab39f687f03",
            "placeholder": "​",
            "style": "IPY_MODEL_8810e5c103814c209c943111995c1a55",
            "value": "model.safetensors: 100%"
          }
        },
        "a31dcb6532b74eada5f8969404f9bb40": {
          "model_module": "@jupyter-widgets/controls",
          "model_name": "FloatProgressModel",
          "model_module_version": "1.5.0",
          "state": {
            "_dom_classes": [],
            "_model_module": "@jupyter-widgets/controls",
            "_model_module_version": "1.5.0",
            "_model_name": "FloatProgressModel",
            "_view_count": null,
            "_view_module": "@jupyter-widgets/controls",
            "_view_module_version": "1.5.0",
            "_view_name": "ProgressView",
            "bar_style": "success",
            "description": "",
            "description_tooltip": null,
            "layout": "IPY_MODEL_3c056fb80d424ddd84b56e55c39e1516",
            "max": 1519984962,
            "min": 0,
            "orientation": "horizontal",
            "style": "IPY_MODEL_023a3fce3f6d46a4afa4bec412b324ae",
            "value": 1519984962
          }
        },
        "a87532cf21ee4619bdc8f79aa6bc84f9": {
          "model_module": "@jupyter-widgets/controls",
          "model_name": "HTMLModel",
          "model_module_version": "1.5.0",
          "state": {
            "_dom_classes": [],
            "_model_module": "@jupyter-widgets/controls",
            "_model_module_version": "1.5.0",
            "_model_name": "HTMLModel",
            "_view_count": null,
            "_view_module": "@jupyter-widgets/controls",
            "_view_module_version": "1.5.0",
            "_view_name": "HTMLView",
            "description": "",
            "description_tooltip": null,
            "layout": "IPY_MODEL_c9a6affe80fe4baeab4779e66022544f",
            "placeholder": "​",
            "style": "IPY_MODEL_dabed8e89069430299732fe3ef4129e4",
            "value": " 1.52G/1.52G [00:12&lt;00:00, 240MB/s]"
          }
        },
        "b28965f80380494098b2092413bbc799": {
          "model_module": "@jupyter-widgets/base",
          "model_name": "LayoutModel",
          "model_module_version": "1.2.0",
          "state": {
            "_model_module": "@jupyter-widgets/base",
            "_model_module_version": "1.2.0",
            "_model_name": "LayoutModel",
            "_view_count": null,
            "_view_module": "@jupyter-widgets/base",
            "_view_module_version": "1.2.0",
            "_view_name": "LayoutView",
            "align_content": null,
            "align_items": null,
            "align_self": null,
            "border": null,
            "bottom": null,
            "display": null,
            "flex": null,
            "flex_flow": null,
            "grid_area": null,
            "grid_auto_columns": null,
            "grid_auto_flow": null,
            "grid_auto_rows": null,
            "grid_column": null,
            "grid_gap": null,
            "grid_row": null,
            "grid_template_areas": null,
            "grid_template_columns": null,
            "grid_template_rows": null,
            "height": null,
            "justify_content": null,
            "justify_items": null,
            "left": null,
            "margin": null,
            "max_height": null,
            "max_width": null,
            "min_height": null,
            "min_width": null,
            "object_fit": null,
            "object_position": null,
            "order": null,
            "overflow": null,
            "overflow_x": null,
            "overflow_y": null,
            "padding": null,
            "right": null,
            "top": null,
            "visibility": null,
            "width": null
          }
        },
        "c79ab7cfb1a54f939d660ab39f687f03": {
          "model_module": "@jupyter-widgets/base",
          "model_name": "LayoutModel",
          "model_module_version": "1.2.0",
          "state": {
            "_model_module": "@jupyter-widgets/base",
            "_model_module_version": "1.2.0",
            "_model_name": "LayoutModel",
            "_view_count": null,
            "_view_module": "@jupyter-widgets/base",
            "_view_module_version": "1.2.0",
            "_view_name": "LayoutView",
            "align_content": null,
            "align_items": null,
            "align_self": null,
            "border": null,
            "bottom": null,
            "display": null,
            "flex": null,
            "flex_flow": null,
            "grid_area": null,
            "grid_auto_columns": null,
            "grid_auto_flow": null,
            "grid_auto_rows": null,
            "grid_column": null,
            "grid_gap": null,
            "grid_row": null,
            "grid_template_areas": null,
            "grid_template_columns": null,
            "grid_template_rows": null,
            "height": null,
            "justify_content": null,
            "justify_items": null,
            "left": null,
            "margin": null,
            "max_height": null,
            "max_width": null,
            "min_height": null,
            "min_width": null,
            "object_fit": null,
            "object_position": null,
            "order": null,
            "overflow": null,
            "overflow_x": null,
            "overflow_y": null,
            "padding": null,
            "right": null,
            "top": null,
            "visibility": null,
            "width": null
          }
        },
        "8810e5c103814c209c943111995c1a55": {
          "model_module": "@jupyter-widgets/controls",
          "model_name": "DescriptionStyleModel",
          "model_module_version": "1.5.0",
          "state": {
            "_model_module": "@jupyter-widgets/controls",
            "_model_module_version": "1.5.0",
            "_model_name": "DescriptionStyleModel",
            "_view_count": null,
            "_view_module": "@jupyter-widgets/base",
            "_view_module_version": "1.2.0",
            "_view_name": "StyleView",
            "description_width": ""
          }
        },
        "3c056fb80d424ddd84b56e55c39e1516": {
          "model_module": "@jupyter-widgets/base",
          "model_name": "LayoutModel",
          "model_module_version": "1.2.0",
          "state": {
            "_model_module": "@jupyter-widgets/base",
            "_model_module_version": "1.2.0",
            "_model_name": "LayoutModel",
            "_view_count": null,
            "_view_module": "@jupyter-widgets/base",
            "_view_module_version": "1.2.0",
            "_view_name": "LayoutView",
            "align_content": null,
            "align_items": null,
            "align_self": null,
            "border": null,
            "bottom": null,
            "display": null,
            "flex": null,
            "flex_flow": null,
            "grid_area": null,
            "grid_auto_columns": null,
            "grid_auto_flow": null,
            "grid_auto_rows": null,
            "grid_column": null,
            "grid_gap": null,
            "grid_row": null,
            "grid_template_areas": null,
            "grid_template_columns": null,
            "grid_template_rows": null,
            "height": null,
            "justify_content": null,
            "justify_items": null,
            "left": null,
            "margin": null,
            "max_height": null,
            "max_width": null,
            "min_height": null,
            "min_width": null,
            "object_fit": null,
            "object_position": null,
            "order": null,
            "overflow": null,
            "overflow_x": null,
            "overflow_y": null,
            "padding": null,
            "right": null,
            "top": null,
            "visibility": null,
            "width": null
          }
        },
        "023a3fce3f6d46a4afa4bec412b324ae": {
          "model_module": "@jupyter-widgets/controls",
          "model_name": "ProgressStyleModel",
          "model_module_version": "1.5.0",
          "state": {
            "_model_module": "@jupyter-widgets/controls",
            "_model_module_version": "1.5.0",
            "_model_name": "ProgressStyleModel",
            "_view_count": null,
            "_view_module": "@jupyter-widgets/base",
            "_view_module_version": "1.2.0",
            "_view_name": "StyleView",
            "bar_color": null,
            "description_width": ""
          }
        },
        "c9a6affe80fe4baeab4779e66022544f": {
          "model_module": "@jupyter-widgets/base",
          "model_name": "LayoutModel",
          "model_module_version": "1.2.0",
          "state": {
            "_model_module": "@jupyter-widgets/base",
            "_model_module_version": "1.2.0",
            "_model_name": "LayoutModel",
            "_view_count": null,
            "_view_module": "@jupyter-widgets/base",
            "_view_module_version": "1.2.0",
            "_view_name": "LayoutView",
            "align_content": null,
            "align_items": null,
            "align_self": null,
            "border": null,
            "bottom": null,
            "display": null,
            "flex": null,
            "flex_flow": null,
            "grid_area": null,
            "grid_auto_columns": null,
            "grid_auto_flow": null,
            "grid_auto_rows": null,
            "grid_column": null,
            "grid_gap": null,
            "grid_row": null,
            "grid_template_areas": null,
            "grid_template_columns": null,
            "grid_template_rows": null,
            "height": null,
            "justify_content": null,
            "justify_items": null,
            "left": null,
            "margin": null,
            "max_height": null,
            "max_width": null,
            "min_height": null,
            "min_width": null,
            "object_fit": null,
            "object_position": null,
            "order": null,
            "overflow": null,
            "overflow_x": null,
            "overflow_y": null,
            "padding": null,
            "right": null,
            "top": null,
            "visibility": null,
            "width": null
          }
        },
        "dabed8e89069430299732fe3ef4129e4": {
          "model_module": "@jupyter-widgets/controls",
          "model_name": "DescriptionStyleModel",
          "model_module_version": "1.5.0",
          "state": {
            "_model_module": "@jupyter-widgets/controls",
            "_model_module_version": "1.5.0",
            "_model_name": "DescriptionStyleModel",
            "_view_count": null,
            "_view_module": "@jupyter-widgets/base",
            "_view_module_version": "1.2.0",
            "_view_name": "StyleView",
            "description_width": ""
          }
        },
        "e7f1ae209b26406db3f376571bdaf56e": {
          "model_module": "@jupyter-widgets/controls",
          "model_name": "HBoxModel",
          "model_module_version": "1.5.0",
          "state": {
            "_dom_classes": [],
            "_model_module": "@jupyter-widgets/controls",
            "_model_module_version": "1.5.0",
            "_model_name": "HBoxModel",
            "_view_count": null,
            "_view_module": "@jupyter-widgets/controls",
            "_view_module_version": "1.5.0",
            "_view_name": "HBoxView",
            "box_style": "",
            "children": [
              "IPY_MODEL_10718c24a56b44ae836b168da8ee8c9f",
              "IPY_MODEL_482b9286afd84b28984da6cb081f5e60",
              "IPY_MODEL_222207fe8d7347358ac480758787a13b"
            ],
            "layout": "IPY_MODEL_6cdb3b92602d44ab8645915b55083470"
          }
        },
        "10718c24a56b44ae836b168da8ee8c9f": {
          "model_module": "@jupyter-widgets/controls",
          "model_name": "HTMLModel",
          "model_module_version": "1.5.0",
          "state": {
            "_dom_classes": [],
            "_model_module": "@jupyter-widgets/controls",
            "_model_module_version": "1.5.0",
            "_model_name": "HTMLModel",
            "_view_count": null,
            "_view_module": "@jupyter-widgets/controls",
            "_view_module_version": "1.5.0",
            "_view_name": "HTMLView",
            "description": "",
            "description_tooltip": null,
            "layout": "IPY_MODEL_ebc6d62a35384556a61a9d958b28c55a",
            "placeholder": "​",
            "style": "IPY_MODEL_60fd105d063349d88d87e1627dd0ad7f",
            "value": "generation_config.json: 100%"
          }
        },
        "482b9286afd84b28984da6cb081f5e60": {
          "model_module": "@jupyter-widgets/controls",
          "model_name": "FloatProgressModel",
          "model_module_version": "1.5.0",
          "state": {
            "_dom_classes": [],
            "_model_module": "@jupyter-widgets/controls",
            "_model_module_version": "1.5.0",
            "_model_name": "FloatProgressModel",
            "_view_count": null,
            "_view_module": "@jupyter-widgets/controls",
            "_view_module_version": "1.5.0",
            "_view_name": "ProgressView",
            "bar_style": "success",
            "description": "",
            "description_tooltip": null,
            "layout": "IPY_MODEL_f9803595b1cc478391b6ec214faed103",
            "max": 124,
            "min": 0,
            "orientation": "horizontal",
            "style": "IPY_MODEL_a1e2e6813fe24649866d7ede26eaf66e",
            "value": 124
          }
        },
        "222207fe8d7347358ac480758787a13b": {
          "model_module": "@jupyter-widgets/controls",
          "model_name": "HTMLModel",
          "model_module_version": "1.5.0",
          "state": {
            "_dom_classes": [],
            "_model_module": "@jupyter-widgets/controls",
            "_model_module_version": "1.5.0",
            "_model_name": "HTMLModel",
            "_view_count": null,
            "_view_module": "@jupyter-widgets/controls",
            "_view_module_version": "1.5.0",
            "_view_name": "HTMLView",
            "description": "",
            "description_tooltip": null,
            "layout": "IPY_MODEL_a7b475fa0d1a43388fb37e7890c6a480",
            "placeholder": "​",
            "style": "IPY_MODEL_d6d41c58a22243aa9f315ea714effb38",
            "value": " 124/124 [00:00&lt;00:00, 5.37kB/s]"
          }
        },
        "6cdb3b92602d44ab8645915b55083470": {
          "model_module": "@jupyter-widgets/base",
          "model_name": "LayoutModel",
          "model_module_version": "1.2.0",
          "state": {
            "_model_module": "@jupyter-widgets/base",
            "_model_module_version": "1.2.0",
            "_model_name": "LayoutModel",
            "_view_count": null,
            "_view_module": "@jupyter-widgets/base",
            "_view_module_version": "1.2.0",
            "_view_name": "LayoutView",
            "align_content": null,
            "align_items": null,
            "align_self": null,
            "border": null,
            "bottom": null,
            "display": null,
            "flex": null,
            "flex_flow": null,
            "grid_area": null,
            "grid_auto_columns": null,
            "grid_auto_flow": null,
            "grid_auto_rows": null,
            "grid_column": null,
            "grid_gap": null,
            "grid_row": null,
            "grid_template_areas": null,
            "grid_template_columns": null,
            "grid_template_rows": null,
            "height": null,
            "justify_content": null,
            "justify_items": null,
            "left": null,
            "margin": null,
            "max_height": null,
            "max_width": null,
            "min_height": null,
            "min_width": null,
            "object_fit": null,
            "object_position": null,
            "order": null,
            "overflow": null,
            "overflow_x": null,
            "overflow_y": null,
            "padding": null,
            "right": null,
            "top": null,
            "visibility": null,
            "width": null
          }
        },
        "ebc6d62a35384556a61a9d958b28c55a": {
          "model_module": "@jupyter-widgets/base",
          "model_name": "LayoutModel",
          "model_module_version": "1.2.0",
          "state": {
            "_model_module": "@jupyter-widgets/base",
            "_model_module_version": "1.2.0",
            "_model_name": "LayoutModel",
            "_view_count": null,
            "_view_module": "@jupyter-widgets/base",
            "_view_module_version": "1.2.0",
            "_view_name": "LayoutView",
            "align_content": null,
            "align_items": null,
            "align_self": null,
            "border": null,
            "bottom": null,
            "display": null,
            "flex": null,
            "flex_flow": null,
            "grid_area": null,
            "grid_auto_columns": null,
            "grid_auto_flow": null,
            "grid_auto_rows": null,
            "grid_column": null,
            "grid_gap": null,
            "grid_row": null,
            "grid_template_areas": null,
            "grid_template_columns": null,
            "grid_template_rows": null,
            "height": null,
            "justify_content": null,
            "justify_items": null,
            "left": null,
            "margin": null,
            "max_height": null,
            "max_width": null,
            "min_height": null,
            "min_width": null,
            "object_fit": null,
            "object_position": null,
            "order": null,
            "overflow": null,
            "overflow_x": null,
            "overflow_y": null,
            "padding": null,
            "right": null,
            "top": null,
            "visibility": null,
            "width": null
          }
        },
        "60fd105d063349d88d87e1627dd0ad7f": {
          "model_module": "@jupyter-widgets/controls",
          "model_name": "DescriptionStyleModel",
          "model_module_version": "1.5.0",
          "state": {
            "_model_module": "@jupyter-widgets/controls",
            "_model_module_version": "1.5.0",
            "_model_name": "DescriptionStyleModel",
            "_view_count": null,
            "_view_module": "@jupyter-widgets/base",
            "_view_module_version": "1.2.0",
            "_view_name": "StyleView",
            "description_width": ""
          }
        },
        "f9803595b1cc478391b6ec214faed103": {
          "model_module": "@jupyter-widgets/base",
          "model_name": "LayoutModel",
          "model_module_version": "1.2.0",
          "state": {
            "_model_module": "@jupyter-widgets/base",
            "_model_module_version": "1.2.0",
            "_model_name": "LayoutModel",
            "_view_count": null,
            "_view_module": "@jupyter-widgets/base",
            "_view_module_version": "1.2.0",
            "_view_name": "LayoutView",
            "align_content": null,
            "align_items": null,
            "align_self": null,
            "border": null,
            "bottom": null,
            "display": null,
            "flex": null,
            "flex_flow": null,
            "grid_area": null,
            "grid_auto_columns": null,
            "grid_auto_flow": null,
            "grid_auto_rows": null,
            "grid_column": null,
            "grid_gap": null,
            "grid_row": null,
            "grid_template_areas": null,
            "grid_template_columns": null,
            "grid_template_rows": null,
            "height": null,
            "justify_content": null,
            "justify_items": null,
            "left": null,
            "margin": null,
            "max_height": null,
            "max_width": null,
            "min_height": null,
            "min_width": null,
            "object_fit": null,
            "object_position": null,
            "order": null,
            "overflow": null,
            "overflow_x": null,
            "overflow_y": null,
            "padding": null,
            "right": null,
            "top": null,
            "visibility": null,
            "width": null
          }
        },
        "a1e2e6813fe24649866d7ede26eaf66e": {
          "model_module": "@jupyter-widgets/controls",
          "model_name": "ProgressStyleModel",
          "model_module_version": "1.5.0",
          "state": {
            "_model_module": "@jupyter-widgets/controls",
            "_model_module_version": "1.5.0",
            "_model_name": "ProgressStyleModel",
            "_view_count": null,
            "_view_module": "@jupyter-widgets/base",
            "_view_module_version": "1.2.0",
            "_view_name": "StyleView",
            "bar_color": null,
            "description_width": ""
          }
        },
        "a7b475fa0d1a43388fb37e7890c6a480": {
          "model_module": "@jupyter-widgets/base",
          "model_name": "LayoutModel",
          "model_module_version": "1.2.0",
          "state": {
            "_model_module": "@jupyter-widgets/base",
            "_model_module_version": "1.2.0",
            "_model_name": "LayoutModel",
            "_view_count": null,
            "_view_module": "@jupyter-widgets/base",
            "_view_module_version": "1.2.0",
            "_view_name": "LayoutView",
            "align_content": null,
            "align_items": null,
            "align_self": null,
            "border": null,
            "bottom": null,
            "display": null,
            "flex": null,
            "flex_flow": null,
            "grid_area": null,
            "grid_auto_columns": null,
            "grid_auto_flow": null,
            "grid_auto_rows": null,
            "grid_column": null,
            "grid_gap": null,
            "grid_row": null,
            "grid_template_areas": null,
            "grid_template_columns": null,
            "grid_template_rows": null,
            "height": null,
            "justify_content": null,
            "justify_items": null,
            "left": null,
            "margin": null,
            "max_height": null,
            "max_width": null,
            "min_height": null,
            "min_width": null,
            "object_fit": null,
            "object_position": null,
            "order": null,
            "overflow": null,
            "overflow_x": null,
            "overflow_y": null,
            "padding": null,
            "right": null,
            "top": null,
            "visibility": null,
            "width": null
          }
        },
        "d6d41c58a22243aa9f315ea714effb38": {
          "model_module": "@jupyter-widgets/controls",
          "model_name": "DescriptionStyleModel",
          "model_module_version": "1.5.0",
          "state": {
            "_model_module": "@jupyter-widgets/controls",
            "_model_module_version": "1.5.0",
            "_model_name": "DescriptionStyleModel",
            "_view_count": null,
            "_view_module": "@jupyter-widgets/base",
            "_view_module_version": "1.2.0",
            "_view_name": "StyleView",
            "description_width": ""
          }
        },
        "f7d0c42a30bd473793928e88f1784e14": {
          "model_module": "@jupyter-widgets/controls",
          "model_name": "HBoxModel",
          "model_module_version": "1.5.0",
          "state": {
            "_dom_classes": [],
            "_model_module": "@jupyter-widgets/controls",
            "_model_module_version": "1.5.0",
            "_model_name": "HBoxModel",
            "_view_count": null,
            "_view_module": "@jupyter-widgets/controls",
            "_view_module_version": "1.5.0",
            "_view_name": "HBoxView",
            "box_style": "",
            "children": [
              "IPY_MODEL_54d0ddae3e2042129d397f687e57b200",
              "IPY_MODEL_7a8d06307c97408baf45baf8a8d83447",
              "IPY_MODEL_c3e1d34c3f7f40b5ba902d766e330436"
            ],
            "layout": "IPY_MODEL_aaee1ef2195742d98dd676d1f232f944"
          }
        },
        "54d0ddae3e2042129d397f687e57b200": {
          "model_module": "@jupyter-widgets/controls",
          "model_name": "HTMLModel",
          "model_module_version": "1.5.0",
          "state": {
            "_dom_classes": [],
            "_model_module": "@jupyter-widgets/controls",
            "_model_module_version": "1.5.0",
            "_model_name": "HTMLModel",
            "_view_count": null,
            "_view_module": "@jupyter-widgets/controls",
            "_view_module_version": "1.5.0",
            "_view_name": "HTMLView",
            "description": "",
            "description_tooltip": null,
            "layout": "IPY_MODEL_463e4254f2db44e09387883b6cb1f545",
            "placeholder": "​",
            "style": "IPY_MODEL_bc52dbad85694378ac6b75af8699ebb5",
            "value": "tokenizer_config.json: 100%"
          }
        },
        "7a8d06307c97408baf45baf8a8d83447": {
          "model_module": "@jupyter-widgets/controls",
          "model_name": "FloatProgressModel",
          "model_module_version": "1.5.0",
          "state": {
            "_dom_classes": [],
            "_model_module": "@jupyter-widgets/controls",
            "_model_module_version": "1.5.0",
            "_model_name": "FloatProgressModel",
            "_view_count": null,
            "_view_module": "@jupyter-widgets/controls",
            "_view_module_version": "1.5.0",
            "_view_name": "ProgressView",
            "bar_style": "success",
            "description": "",
            "description_tooltip": null,
            "layout": "IPY_MODEL_58bb4e42112747d08ee4f1e3400c282e",
            "max": 26,
            "min": 0,
            "orientation": "horizontal",
            "style": "IPY_MODEL_c4ce382ec3e34fe0bff05dabc790f282",
            "value": 26
          }
        },
        "c3e1d34c3f7f40b5ba902d766e330436": {
          "model_module": "@jupyter-widgets/controls",
          "model_name": "HTMLModel",
          "model_module_version": "1.5.0",
          "state": {
            "_dom_classes": [],
            "_model_module": "@jupyter-widgets/controls",
            "_model_module_version": "1.5.0",
            "_model_name": "HTMLModel",
            "_view_count": null,
            "_view_module": "@jupyter-widgets/controls",
            "_view_module_version": "1.5.0",
            "_view_name": "HTMLView",
            "description": "",
            "description_tooltip": null,
            "layout": "IPY_MODEL_557112bb3ae74d2281ded025e282b019",
            "placeholder": "​",
            "style": "IPY_MODEL_c2ddd00bc106487782fef851a0dbd9b2",
            "value": " 26.0/26.0 [00:00&lt;00:00, 1.62kB/s]"
          }
        },
        "aaee1ef2195742d98dd676d1f232f944": {
          "model_module": "@jupyter-widgets/base",
          "model_name": "LayoutModel",
          "model_module_version": "1.2.0",
          "state": {
            "_model_module": "@jupyter-widgets/base",
            "_model_module_version": "1.2.0",
            "_model_name": "LayoutModel",
            "_view_count": null,
            "_view_module": "@jupyter-widgets/base",
            "_view_module_version": "1.2.0",
            "_view_name": "LayoutView",
            "align_content": null,
            "align_items": null,
            "align_self": null,
            "border": null,
            "bottom": null,
            "display": null,
            "flex": null,
            "flex_flow": null,
            "grid_area": null,
            "grid_auto_columns": null,
            "grid_auto_flow": null,
            "grid_auto_rows": null,
            "grid_column": null,
            "grid_gap": null,
            "grid_row": null,
            "grid_template_areas": null,
            "grid_template_columns": null,
            "grid_template_rows": null,
            "height": null,
            "justify_content": null,
            "justify_items": null,
            "left": null,
            "margin": null,
            "max_height": null,
            "max_width": null,
            "min_height": null,
            "min_width": null,
            "object_fit": null,
            "object_position": null,
            "order": null,
            "overflow": null,
            "overflow_x": null,
            "overflow_y": null,
            "padding": null,
            "right": null,
            "top": null,
            "visibility": null,
            "width": null
          }
        },
        "463e4254f2db44e09387883b6cb1f545": {
          "model_module": "@jupyter-widgets/base",
          "model_name": "LayoutModel",
          "model_module_version": "1.2.0",
          "state": {
            "_model_module": "@jupyter-widgets/base",
            "_model_module_version": "1.2.0",
            "_model_name": "LayoutModel",
            "_view_count": null,
            "_view_module": "@jupyter-widgets/base",
            "_view_module_version": "1.2.0",
            "_view_name": "LayoutView",
            "align_content": null,
            "align_items": null,
            "align_self": null,
            "border": null,
            "bottom": null,
            "display": null,
            "flex": null,
            "flex_flow": null,
            "grid_area": null,
            "grid_auto_columns": null,
            "grid_auto_flow": null,
            "grid_auto_rows": null,
            "grid_column": null,
            "grid_gap": null,
            "grid_row": null,
            "grid_template_areas": null,
            "grid_template_columns": null,
            "grid_template_rows": null,
            "height": null,
            "justify_content": null,
            "justify_items": null,
            "left": null,
            "margin": null,
            "max_height": null,
            "max_width": null,
            "min_height": null,
            "min_width": null,
            "object_fit": null,
            "object_position": null,
            "order": null,
            "overflow": null,
            "overflow_x": null,
            "overflow_y": null,
            "padding": null,
            "right": null,
            "top": null,
            "visibility": null,
            "width": null
          }
        },
        "bc52dbad85694378ac6b75af8699ebb5": {
          "model_module": "@jupyter-widgets/controls",
          "model_name": "DescriptionStyleModel",
          "model_module_version": "1.5.0",
          "state": {
            "_model_module": "@jupyter-widgets/controls",
            "_model_module_version": "1.5.0",
            "_model_name": "DescriptionStyleModel",
            "_view_count": null,
            "_view_module": "@jupyter-widgets/base",
            "_view_module_version": "1.2.0",
            "_view_name": "StyleView",
            "description_width": ""
          }
        },
        "58bb4e42112747d08ee4f1e3400c282e": {
          "model_module": "@jupyter-widgets/base",
          "model_name": "LayoutModel",
          "model_module_version": "1.2.0",
          "state": {
            "_model_module": "@jupyter-widgets/base",
            "_model_module_version": "1.2.0",
            "_model_name": "LayoutModel",
            "_view_count": null,
            "_view_module": "@jupyter-widgets/base",
            "_view_module_version": "1.2.0",
            "_view_name": "LayoutView",
            "align_content": null,
            "align_items": null,
            "align_self": null,
            "border": null,
            "bottom": null,
            "display": null,
            "flex": null,
            "flex_flow": null,
            "grid_area": null,
            "grid_auto_columns": null,
            "grid_auto_flow": null,
            "grid_auto_rows": null,
            "grid_column": null,
            "grid_gap": null,
            "grid_row": null,
            "grid_template_areas": null,
            "grid_template_columns": null,
            "grid_template_rows": null,
            "height": null,
            "justify_content": null,
            "justify_items": null,
            "left": null,
            "margin": null,
            "max_height": null,
            "max_width": null,
            "min_height": null,
            "min_width": null,
            "object_fit": null,
            "object_position": null,
            "order": null,
            "overflow": null,
            "overflow_x": null,
            "overflow_y": null,
            "padding": null,
            "right": null,
            "top": null,
            "visibility": null,
            "width": null
          }
        },
        "c4ce382ec3e34fe0bff05dabc790f282": {
          "model_module": "@jupyter-widgets/controls",
          "model_name": "ProgressStyleModel",
          "model_module_version": "1.5.0",
          "state": {
            "_model_module": "@jupyter-widgets/controls",
            "_model_module_version": "1.5.0",
            "_model_name": "ProgressStyleModel",
            "_view_count": null,
            "_view_module": "@jupyter-widgets/base",
            "_view_module_version": "1.2.0",
            "_view_name": "StyleView",
            "bar_color": null,
            "description_width": ""
          }
        },
        "557112bb3ae74d2281ded025e282b019": {
          "model_module": "@jupyter-widgets/base",
          "model_name": "LayoutModel",
          "model_module_version": "1.2.0",
          "state": {
            "_model_module": "@jupyter-widgets/base",
            "_model_module_version": "1.2.0",
            "_model_name": "LayoutModel",
            "_view_count": null,
            "_view_module": "@jupyter-widgets/base",
            "_view_module_version": "1.2.0",
            "_view_name": "LayoutView",
            "align_content": null,
            "align_items": null,
            "align_self": null,
            "border": null,
            "bottom": null,
            "display": null,
            "flex": null,
            "flex_flow": null,
            "grid_area": null,
            "grid_auto_columns": null,
            "grid_auto_flow": null,
            "grid_auto_rows": null,
            "grid_column": null,
            "grid_gap": null,
            "grid_row": null,
            "grid_template_areas": null,
            "grid_template_columns": null,
            "grid_template_rows": null,
            "height": null,
            "justify_content": null,
            "justify_items": null,
            "left": null,
            "margin": null,
            "max_height": null,
            "max_width": null,
            "min_height": null,
            "min_width": null,
            "object_fit": null,
            "object_position": null,
            "order": null,
            "overflow": null,
            "overflow_x": null,
            "overflow_y": null,
            "padding": null,
            "right": null,
            "top": null,
            "visibility": null,
            "width": null
          }
        },
        "c2ddd00bc106487782fef851a0dbd9b2": {
          "model_module": "@jupyter-widgets/controls",
          "model_name": "DescriptionStyleModel",
          "model_module_version": "1.5.0",
          "state": {
            "_model_module": "@jupyter-widgets/controls",
            "_model_module_version": "1.5.0",
            "_model_name": "DescriptionStyleModel",
            "_view_count": null,
            "_view_module": "@jupyter-widgets/base",
            "_view_module_version": "1.2.0",
            "_view_name": "StyleView",
            "description_width": ""
          }
        },
        "18855bf521a34b84bdcb94d09123510c": {
          "model_module": "@jupyter-widgets/controls",
          "model_name": "HBoxModel",
          "model_module_version": "1.5.0",
          "state": {
            "_dom_classes": [],
            "_model_module": "@jupyter-widgets/controls",
            "_model_module_version": "1.5.0",
            "_model_name": "HBoxModel",
            "_view_count": null,
            "_view_module": "@jupyter-widgets/controls",
            "_view_module_version": "1.5.0",
            "_view_name": "HBoxView",
            "box_style": "",
            "children": [
              "IPY_MODEL_6bad13bac30c46dcb48e0bfae3ca2cb7",
              "IPY_MODEL_485e27afeee143268c7b91498c44e386",
              "IPY_MODEL_1f1980b4b8594c508d3156e2f00ab572"
            ],
            "layout": "IPY_MODEL_903dfcf7ae18458385d1ef7a9579a086"
          }
        },
        "6bad13bac30c46dcb48e0bfae3ca2cb7": {
          "model_module": "@jupyter-widgets/controls",
          "model_name": "HTMLModel",
          "model_module_version": "1.5.0",
          "state": {
            "_dom_classes": [],
            "_model_module": "@jupyter-widgets/controls",
            "_model_module_version": "1.5.0",
            "_model_name": "HTMLModel",
            "_view_count": null,
            "_view_module": "@jupyter-widgets/controls",
            "_view_module_version": "1.5.0",
            "_view_name": "HTMLView",
            "description": "",
            "description_tooltip": null,
            "layout": "IPY_MODEL_38febbc189a344898c4cdcdadaebc54e",
            "placeholder": "​",
            "style": "IPY_MODEL_2427cb1d64d24eefa307332dbec99cde",
            "value": "vocab.json: 100%"
          }
        },
        "485e27afeee143268c7b91498c44e386": {
          "model_module": "@jupyter-widgets/controls",
          "model_name": "FloatProgressModel",
          "model_module_version": "1.5.0",
          "state": {
            "_dom_classes": [],
            "_model_module": "@jupyter-widgets/controls",
            "_model_module_version": "1.5.0",
            "_model_name": "FloatProgressModel",
            "_view_count": null,
            "_view_module": "@jupyter-widgets/controls",
            "_view_module_version": "1.5.0",
            "_view_name": "ProgressView",
            "bar_style": "success",
            "description": "",
            "description_tooltip": null,
            "layout": "IPY_MODEL_709ff678a8e94940bf6e0f9e3401defe",
            "max": 1042301,
            "min": 0,
            "orientation": "horizontal",
            "style": "IPY_MODEL_bb73595feaa74ad483eeefa2e7a09967",
            "value": 1042301
          }
        },
        "1f1980b4b8594c508d3156e2f00ab572": {
          "model_module": "@jupyter-widgets/controls",
          "model_name": "HTMLModel",
          "model_module_version": "1.5.0",
          "state": {
            "_dom_classes": [],
            "_model_module": "@jupyter-widgets/controls",
            "_model_module_version": "1.5.0",
            "_model_name": "HTMLModel",
            "_view_count": null,
            "_view_module": "@jupyter-widgets/controls",
            "_view_module_version": "1.5.0",
            "_view_name": "HTMLView",
            "description": "",
            "description_tooltip": null,
            "layout": "IPY_MODEL_ee62c8eb9974498f9bee11550f6c4f9e",
            "placeholder": "​",
            "style": "IPY_MODEL_638f2c6073d04adf87ee3955659d08a6",
            "value": " 1.04M/1.04M [00:00&lt;00:00, 3.16MB/s]"
          }
        },
        "903dfcf7ae18458385d1ef7a9579a086": {
          "model_module": "@jupyter-widgets/base",
          "model_name": "LayoutModel",
          "model_module_version": "1.2.0",
          "state": {
            "_model_module": "@jupyter-widgets/base",
            "_model_module_version": "1.2.0",
            "_model_name": "LayoutModel",
            "_view_count": null,
            "_view_module": "@jupyter-widgets/base",
            "_view_module_version": "1.2.0",
            "_view_name": "LayoutView",
            "align_content": null,
            "align_items": null,
            "align_self": null,
            "border": null,
            "bottom": null,
            "display": null,
            "flex": null,
            "flex_flow": null,
            "grid_area": null,
            "grid_auto_columns": null,
            "grid_auto_flow": null,
            "grid_auto_rows": null,
            "grid_column": null,
            "grid_gap": null,
            "grid_row": null,
            "grid_template_areas": null,
            "grid_template_columns": null,
            "grid_template_rows": null,
            "height": null,
            "justify_content": null,
            "justify_items": null,
            "left": null,
            "margin": null,
            "max_height": null,
            "max_width": null,
            "min_height": null,
            "min_width": null,
            "object_fit": null,
            "object_position": null,
            "order": null,
            "overflow": null,
            "overflow_x": null,
            "overflow_y": null,
            "padding": null,
            "right": null,
            "top": null,
            "visibility": null,
            "width": null
          }
        },
        "38febbc189a344898c4cdcdadaebc54e": {
          "model_module": "@jupyter-widgets/base",
          "model_name": "LayoutModel",
          "model_module_version": "1.2.0",
          "state": {
            "_model_module": "@jupyter-widgets/base",
            "_model_module_version": "1.2.0",
            "_model_name": "LayoutModel",
            "_view_count": null,
            "_view_module": "@jupyter-widgets/base",
            "_view_module_version": "1.2.0",
            "_view_name": "LayoutView",
            "align_content": null,
            "align_items": null,
            "align_self": null,
            "border": null,
            "bottom": null,
            "display": null,
            "flex": null,
            "flex_flow": null,
            "grid_area": null,
            "grid_auto_columns": null,
            "grid_auto_flow": null,
            "grid_auto_rows": null,
            "grid_column": null,
            "grid_gap": null,
            "grid_row": null,
            "grid_template_areas": null,
            "grid_template_columns": null,
            "grid_template_rows": null,
            "height": null,
            "justify_content": null,
            "justify_items": null,
            "left": null,
            "margin": null,
            "max_height": null,
            "max_width": null,
            "min_height": null,
            "min_width": null,
            "object_fit": null,
            "object_position": null,
            "order": null,
            "overflow": null,
            "overflow_x": null,
            "overflow_y": null,
            "padding": null,
            "right": null,
            "top": null,
            "visibility": null,
            "width": null
          }
        },
        "2427cb1d64d24eefa307332dbec99cde": {
          "model_module": "@jupyter-widgets/controls",
          "model_name": "DescriptionStyleModel",
          "model_module_version": "1.5.0",
          "state": {
            "_model_module": "@jupyter-widgets/controls",
            "_model_module_version": "1.5.0",
            "_model_name": "DescriptionStyleModel",
            "_view_count": null,
            "_view_module": "@jupyter-widgets/base",
            "_view_module_version": "1.2.0",
            "_view_name": "StyleView",
            "description_width": ""
          }
        },
        "709ff678a8e94940bf6e0f9e3401defe": {
          "model_module": "@jupyter-widgets/base",
          "model_name": "LayoutModel",
          "model_module_version": "1.2.0",
          "state": {
            "_model_module": "@jupyter-widgets/base",
            "_model_module_version": "1.2.0",
            "_model_name": "LayoutModel",
            "_view_count": null,
            "_view_module": "@jupyter-widgets/base",
            "_view_module_version": "1.2.0",
            "_view_name": "LayoutView",
            "align_content": null,
            "align_items": null,
            "align_self": null,
            "border": null,
            "bottom": null,
            "display": null,
            "flex": null,
            "flex_flow": null,
            "grid_area": null,
            "grid_auto_columns": null,
            "grid_auto_flow": null,
            "grid_auto_rows": null,
            "grid_column": null,
            "grid_gap": null,
            "grid_row": null,
            "grid_template_areas": null,
            "grid_template_columns": null,
            "grid_template_rows": null,
            "height": null,
            "justify_content": null,
            "justify_items": null,
            "left": null,
            "margin": null,
            "max_height": null,
            "max_width": null,
            "min_height": null,
            "min_width": null,
            "object_fit": null,
            "object_position": null,
            "order": null,
            "overflow": null,
            "overflow_x": null,
            "overflow_y": null,
            "padding": null,
            "right": null,
            "top": null,
            "visibility": null,
            "width": null
          }
        },
        "bb73595feaa74ad483eeefa2e7a09967": {
          "model_module": "@jupyter-widgets/controls",
          "model_name": "ProgressStyleModel",
          "model_module_version": "1.5.0",
          "state": {
            "_model_module": "@jupyter-widgets/controls",
            "_model_module_version": "1.5.0",
            "_model_name": "ProgressStyleModel",
            "_view_count": null,
            "_view_module": "@jupyter-widgets/base",
            "_view_module_version": "1.2.0",
            "_view_name": "StyleView",
            "bar_color": null,
            "description_width": ""
          }
        },
        "ee62c8eb9974498f9bee11550f6c4f9e": {
          "model_module": "@jupyter-widgets/base",
          "model_name": "LayoutModel",
          "model_module_version": "1.2.0",
          "state": {
            "_model_module": "@jupyter-widgets/base",
            "_model_module_version": "1.2.0",
            "_model_name": "LayoutModel",
            "_view_count": null,
            "_view_module": "@jupyter-widgets/base",
            "_view_module_version": "1.2.0",
            "_view_name": "LayoutView",
            "align_content": null,
            "align_items": null,
            "align_self": null,
            "border": null,
            "bottom": null,
            "display": null,
            "flex": null,
            "flex_flow": null,
            "grid_area": null,
            "grid_auto_columns": null,
            "grid_auto_flow": null,
            "grid_auto_rows": null,
            "grid_column": null,
            "grid_gap": null,
            "grid_row": null,
            "grid_template_areas": null,
            "grid_template_columns": null,
            "grid_template_rows": null,
            "height": null,
            "justify_content": null,
            "justify_items": null,
            "left": null,
            "margin": null,
            "max_height": null,
            "max_width": null,
            "min_height": null,
            "min_width": null,
            "object_fit": null,
            "object_position": null,
            "order": null,
            "overflow": null,
            "overflow_x": null,
            "overflow_y": null,
            "padding": null,
            "right": null,
            "top": null,
            "visibility": null,
            "width": null
          }
        },
        "638f2c6073d04adf87ee3955659d08a6": {
          "model_module": "@jupyter-widgets/controls",
          "model_name": "DescriptionStyleModel",
          "model_module_version": "1.5.0",
          "state": {
            "_model_module": "@jupyter-widgets/controls",
            "_model_module_version": "1.5.0",
            "_model_name": "DescriptionStyleModel",
            "_view_count": null,
            "_view_module": "@jupyter-widgets/base",
            "_view_module_version": "1.2.0",
            "_view_name": "StyleView",
            "description_width": ""
          }
        },
        "cdf0c1109fba4a9b987f0cace2c963df": {
          "model_module": "@jupyter-widgets/controls",
          "model_name": "HBoxModel",
          "model_module_version": "1.5.0",
          "state": {
            "_dom_classes": [],
            "_model_module": "@jupyter-widgets/controls",
            "_model_module_version": "1.5.0",
            "_model_name": "HBoxModel",
            "_view_count": null,
            "_view_module": "@jupyter-widgets/controls",
            "_view_module_version": "1.5.0",
            "_view_name": "HBoxView",
            "box_style": "",
            "children": [
              "IPY_MODEL_509ed66db73046899bcf1344ed415c11",
              "IPY_MODEL_24b3ec2b67f14a0eb8a7841b808e2c95",
              "IPY_MODEL_2cffccf7da6e45de8dd660954d08b178"
            ],
            "layout": "IPY_MODEL_c00b68b7a44a4918990849468b57ea57"
          }
        },
        "509ed66db73046899bcf1344ed415c11": {
          "model_module": "@jupyter-widgets/controls",
          "model_name": "HTMLModel",
          "model_module_version": "1.5.0",
          "state": {
            "_dom_classes": [],
            "_model_module": "@jupyter-widgets/controls",
            "_model_module_version": "1.5.0",
            "_model_name": "HTMLModel",
            "_view_count": null,
            "_view_module": "@jupyter-widgets/controls",
            "_view_module_version": "1.5.0",
            "_view_name": "HTMLView",
            "description": "",
            "description_tooltip": null,
            "layout": "IPY_MODEL_b2410c7e506749768a6ec8145769a5c0",
            "placeholder": "​",
            "style": "IPY_MODEL_cf210e9c431e4d86bd167d92f1789cae",
            "value": "merges.txt: 100%"
          }
        },
        "24b3ec2b67f14a0eb8a7841b808e2c95": {
          "model_module": "@jupyter-widgets/controls",
          "model_name": "FloatProgressModel",
          "model_module_version": "1.5.0",
          "state": {
            "_dom_classes": [],
            "_model_module": "@jupyter-widgets/controls",
            "_model_module_version": "1.5.0",
            "_model_name": "FloatProgressModel",
            "_view_count": null,
            "_view_module": "@jupyter-widgets/controls",
            "_view_module_version": "1.5.0",
            "_view_name": "ProgressView",
            "bar_style": "success",
            "description": "",
            "description_tooltip": null,
            "layout": "IPY_MODEL_5567930025a34b3cb43ebc3a9a670cb9",
            "max": 456318,
            "min": 0,
            "orientation": "horizontal",
            "style": "IPY_MODEL_a35a014589214594a6c3f37ac301cafa",
            "value": 456318
          }
        },
        "2cffccf7da6e45de8dd660954d08b178": {
          "model_module": "@jupyter-widgets/controls",
          "model_name": "HTMLModel",
          "model_module_version": "1.5.0",
          "state": {
            "_dom_classes": [],
            "_model_module": "@jupyter-widgets/controls",
            "_model_module_version": "1.5.0",
            "_model_name": "HTMLModel",
            "_view_count": null,
            "_view_module": "@jupyter-widgets/controls",
            "_view_module_version": "1.5.0",
            "_view_name": "HTMLView",
            "description": "",
            "description_tooltip": null,
            "layout": "IPY_MODEL_dfa8f499a8984db59ef15c3212cc7c62",
            "placeholder": "​",
            "style": "IPY_MODEL_579b248b9e1c41f1ac23c8a67c92f5bb",
            "value": " 456k/456k [00:00&lt;00:00, 15.9MB/s]"
          }
        },
        "c00b68b7a44a4918990849468b57ea57": {
          "model_module": "@jupyter-widgets/base",
          "model_name": "LayoutModel",
          "model_module_version": "1.2.0",
          "state": {
            "_model_module": "@jupyter-widgets/base",
            "_model_module_version": "1.2.0",
            "_model_name": "LayoutModel",
            "_view_count": null,
            "_view_module": "@jupyter-widgets/base",
            "_view_module_version": "1.2.0",
            "_view_name": "LayoutView",
            "align_content": null,
            "align_items": null,
            "align_self": null,
            "border": null,
            "bottom": null,
            "display": null,
            "flex": null,
            "flex_flow": null,
            "grid_area": null,
            "grid_auto_columns": null,
            "grid_auto_flow": null,
            "grid_auto_rows": null,
            "grid_column": null,
            "grid_gap": null,
            "grid_row": null,
            "grid_template_areas": null,
            "grid_template_columns": null,
            "grid_template_rows": null,
            "height": null,
            "justify_content": null,
            "justify_items": null,
            "left": null,
            "margin": null,
            "max_height": null,
            "max_width": null,
            "min_height": null,
            "min_width": null,
            "object_fit": null,
            "object_position": null,
            "order": null,
            "overflow": null,
            "overflow_x": null,
            "overflow_y": null,
            "padding": null,
            "right": null,
            "top": null,
            "visibility": null,
            "width": null
          }
        },
        "b2410c7e506749768a6ec8145769a5c0": {
          "model_module": "@jupyter-widgets/base",
          "model_name": "LayoutModel",
          "model_module_version": "1.2.0",
          "state": {
            "_model_module": "@jupyter-widgets/base",
            "_model_module_version": "1.2.0",
            "_model_name": "LayoutModel",
            "_view_count": null,
            "_view_module": "@jupyter-widgets/base",
            "_view_module_version": "1.2.0",
            "_view_name": "LayoutView",
            "align_content": null,
            "align_items": null,
            "align_self": null,
            "border": null,
            "bottom": null,
            "display": null,
            "flex": null,
            "flex_flow": null,
            "grid_area": null,
            "grid_auto_columns": null,
            "grid_auto_flow": null,
            "grid_auto_rows": null,
            "grid_column": null,
            "grid_gap": null,
            "grid_row": null,
            "grid_template_areas": null,
            "grid_template_columns": null,
            "grid_template_rows": null,
            "height": null,
            "justify_content": null,
            "justify_items": null,
            "left": null,
            "margin": null,
            "max_height": null,
            "max_width": null,
            "min_height": null,
            "min_width": null,
            "object_fit": null,
            "object_position": null,
            "order": null,
            "overflow": null,
            "overflow_x": null,
            "overflow_y": null,
            "padding": null,
            "right": null,
            "top": null,
            "visibility": null,
            "width": null
          }
        },
        "cf210e9c431e4d86bd167d92f1789cae": {
          "model_module": "@jupyter-widgets/controls",
          "model_name": "DescriptionStyleModel",
          "model_module_version": "1.5.0",
          "state": {
            "_model_module": "@jupyter-widgets/controls",
            "_model_module_version": "1.5.0",
            "_model_name": "DescriptionStyleModel",
            "_view_count": null,
            "_view_module": "@jupyter-widgets/base",
            "_view_module_version": "1.2.0",
            "_view_name": "StyleView",
            "description_width": ""
          }
        },
        "5567930025a34b3cb43ebc3a9a670cb9": {
          "model_module": "@jupyter-widgets/base",
          "model_name": "LayoutModel",
          "model_module_version": "1.2.0",
          "state": {
            "_model_module": "@jupyter-widgets/base",
            "_model_module_version": "1.2.0",
            "_model_name": "LayoutModel",
            "_view_count": null,
            "_view_module": "@jupyter-widgets/base",
            "_view_module_version": "1.2.0",
            "_view_name": "LayoutView",
            "align_content": null,
            "align_items": null,
            "align_self": null,
            "border": null,
            "bottom": null,
            "display": null,
            "flex": null,
            "flex_flow": null,
            "grid_area": null,
            "grid_auto_columns": null,
            "grid_auto_flow": null,
            "grid_auto_rows": null,
            "grid_column": null,
            "grid_gap": null,
            "grid_row": null,
            "grid_template_areas": null,
            "grid_template_columns": null,
            "grid_template_rows": null,
            "height": null,
            "justify_content": null,
            "justify_items": null,
            "left": null,
            "margin": null,
            "max_height": null,
            "max_width": null,
            "min_height": null,
            "min_width": null,
            "object_fit": null,
            "object_position": null,
            "order": null,
            "overflow": null,
            "overflow_x": null,
            "overflow_y": null,
            "padding": null,
            "right": null,
            "top": null,
            "visibility": null,
            "width": null
          }
        },
        "a35a014589214594a6c3f37ac301cafa": {
          "model_module": "@jupyter-widgets/controls",
          "model_name": "ProgressStyleModel",
          "model_module_version": "1.5.0",
          "state": {
            "_model_module": "@jupyter-widgets/controls",
            "_model_module_version": "1.5.0",
            "_model_name": "ProgressStyleModel",
            "_view_count": null,
            "_view_module": "@jupyter-widgets/base",
            "_view_module_version": "1.2.0",
            "_view_name": "StyleView",
            "bar_color": null,
            "description_width": ""
          }
        },
        "dfa8f499a8984db59ef15c3212cc7c62": {
          "model_module": "@jupyter-widgets/base",
          "model_name": "LayoutModel",
          "model_module_version": "1.2.0",
          "state": {
            "_model_module": "@jupyter-widgets/base",
            "_model_module_version": "1.2.0",
            "_model_name": "LayoutModel",
            "_view_count": null,
            "_view_module": "@jupyter-widgets/base",
            "_view_module_version": "1.2.0",
            "_view_name": "LayoutView",
            "align_content": null,
            "align_items": null,
            "align_self": null,
            "border": null,
            "bottom": null,
            "display": null,
            "flex": null,
            "flex_flow": null,
            "grid_area": null,
            "grid_auto_columns": null,
            "grid_auto_flow": null,
            "grid_auto_rows": null,
            "grid_column": null,
            "grid_gap": null,
            "grid_row": null,
            "grid_template_areas": null,
            "grid_template_columns": null,
            "grid_template_rows": null,
            "height": null,
            "justify_content": null,
            "justify_items": null,
            "left": null,
            "margin": null,
            "max_height": null,
            "max_width": null,
            "min_height": null,
            "min_width": null,
            "object_fit": null,
            "object_position": null,
            "order": null,
            "overflow": null,
            "overflow_x": null,
            "overflow_y": null,
            "padding": null,
            "right": null,
            "top": null,
            "visibility": null,
            "width": null
          }
        },
        "579b248b9e1c41f1ac23c8a67c92f5bb": {
          "model_module": "@jupyter-widgets/controls",
          "model_name": "DescriptionStyleModel",
          "model_module_version": "1.5.0",
          "state": {
            "_model_module": "@jupyter-widgets/controls",
            "_model_module_version": "1.5.0",
            "_model_name": "DescriptionStyleModel",
            "_view_count": null,
            "_view_module": "@jupyter-widgets/base",
            "_view_module_version": "1.2.0",
            "_view_name": "StyleView",
            "description_width": ""
          }
        },
        "f9b52aaab80e4f58aa1072f9f3bfcac4": {
          "model_module": "@jupyter-widgets/controls",
          "model_name": "HBoxModel",
          "model_module_version": "1.5.0",
          "state": {
            "_dom_classes": [],
            "_model_module": "@jupyter-widgets/controls",
            "_model_module_version": "1.5.0",
            "_model_name": "HBoxModel",
            "_view_count": null,
            "_view_module": "@jupyter-widgets/controls",
            "_view_module_version": "1.5.0",
            "_view_name": "HBoxView",
            "box_style": "",
            "children": [
              "IPY_MODEL_766106693b2f47789b3c66c78b585303",
              "IPY_MODEL_6b93d1e352fc4993abc939eb5a7d7591",
              "IPY_MODEL_777bd67549c14d9c867fafa3234ff542"
            ],
            "layout": "IPY_MODEL_34a4cff3239a487a85841962c145fc9f"
          }
        },
        "766106693b2f47789b3c66c78b585303": {
          "model_module": "@jupyter-widgets/controls",
          "model_name": "HTMLModel",
          "model_module_version": "1.5.0",
          "state": {
            "_dom_classes": [],
            "_model_module": "@jupyter-widgets/controls",
            "_model_module_version": "1.5.0",
            "_model_name": "HTMLModel",
            "_view_count": null,
            "_view_module": "@jupyter-widgets/controls",
            "_view_module_version": "1.5.0",
            "_view_name": "HTMLView",
            "description": "",
            "description_tooltip": null,
            "layout": "IPY_MODEL_817d3bd1547747f49fe5c40c88edd3e5",
            "placeholder": "​",
            "style": "IPY_MODEL_b16c706066d341d3865cf2be4183bac7",
            "value": "tokenizer.json: 100%"
          }
        },
        "6b93d1e352fc4993abc939eb5a7d7591": {
          "model_module": "@jupyter-widgets/controls",
          "model_name": "FloatProgressModel",
          "model_module_version": "1.5.0",
          "state": {
            "_dom_classes": [],
            "_model_module": "@jupyter-widgets/controls",
            "_model_module_version": "1.5.0",
            "_model_name": "FloatProgressModel",
            "_view_count": null,
            "_view_module": "@jupyter-widgets/controls",
            "_view_module_version": "1.5.0",
            "_view_name": "ProgressView",
            "bar_style": "success",
            "description": "",
            "description_tooltip": null,
            "layout": "IPY_MODEL_783564d6b7ee45118a31a0a391f75196",
            "max": 1355256,
            "min": 0,
            "orientation": "horizontal",
            "style": "IPY_MODEL_9ec1a45832d84813858b416d20e9d427",
            "value": 1355256
          }
        },
        "777bd67549c14d9c867fafa3234ff542": {
          "model_module": "@jupyter-widgets/controls",
          "model_name": "HTMLModel",
          "model_module_version": "1.5.0",
          "state": {
            "_dom_classes": [],
            "_model_module": "@jupyter-widgets/controls",
            "_model_module_version": "1.5.0",
            "_model_name": "HTMLModel",
            "_view_count": null,
            "_view_module": "@jupyter-widgets/controls",
            "_view_module_version": "1.5.0",
            "_view_name": "HTMLView",
            "description": "",
            "description_tooltip": null,
            "layout": "IPY_MODEL_5559f4ff2b374f30ab54be9adc0aa21b",
            "placeholder": "​",
            "style": "IPY_MODEL_a376370cd7344204a75b8ff53d572497",
            "value": " 1.36M/1.36M [00:00&lt;00:00, 29.6MB/s]"
          }
        },
        "34a4cff3239a487a85841962c145fc9f": {
          "model_module": "@jupyter-widgets/base",
          "model_name": "LayoutModel",
          "model_module_version": "1.2.0",
          "state": {
            "_model_module": "@jupyter-widgets/base",
            "_model_module_version": "1.2.0",
            "_model_name": "LayoutModel",
            "_view_count": null,
            "_view_module": "@jupyter-widgets/base",
            "_view_module_version": "1.2.0",
            "_view_name": "LayoutView",
            "align_content": null,
            "align_items": null,
            "align_self": null,
            "border": null,
            "bottom": null,
            "display": null,
            "flex": null,
            "flex_flow": null,
            "grid_area": null,
            "grid_auto_columns": null,
            "grid_auto_flow": null,
            "grid_auto_rows": null,
            "grid_column": null,
            "grid_gap": null,
            "grid_row": null,
            "grid_template_areas": null,
            "grid_template_columns": null,
            "grid_template_rows": null,
            "height": null,
            "justify_content": null,
            "justify_items": null,
            "left": null,
            "margin": null,
            "max_height": null,
            "max_width": null,
            "min_height": null,
            "min_width": null,
            "object_fit": null,
            "object_position": null,
            "order": null,
            "overflow": null,
            "overflow_x": null,
            "overflow_y": null,
            "padding": null,
            "right": null,
            "top": null,
            "visibility": null,
            "width": null
          }
        },
        "817d3bd1547747f49fe5c40c88edd3e5": {
          "model_module": "@jupyter-widgets/base",
          "model_name": "LayoutModel",
          "model_module_version": "1.2.0",
          "state": {
            "_model_module": "@jupyter-widgets/base",
            "_model_module_version": "1.2.0",
            "_model_name": "LayoutModel",
            "_view_count": null,
            "_view_module": "@jupyter-widgets/base",
            "_view_module_version": "1.2.0",
            "_view_name": "LayoutView",
            "align_content": null,
            "align_items": null,
            "align_self": null,
            "border": null,
            "bottom": null,
            "display": null,
            "flex": null,
            "flex_flow": null,
            "grid_area": null,
            "grid_auto_columns": null,
            "grid_auto_flow": null,
            "grid_auto_rows": null,
            "grid_column": null,
            "grid_gap": null,
            "grid_row": null,
            "grid_template_areas": null,
            "grid_template_columns": null,
            "grid_template_rows": null,
            "height": null,
            "justify_content": null,
            "justify_items": null,
            "left": null,
            "margin": null,
            "max_height": null,
            "max_width": null,
            "min_height": null,
            "min_width": null,
            "object_fit": null,
            "object_position": null,
            "order": null,
            "overflow": null,
            "overflow_x": null,
            "overflow_y": null,
            "padding": null,
            "right": null,
            "top": null,
            "visibility": null,
            "width": null
          }
        },
        "b16c706066d341d3865cf2be4183bac7": {
          "model_module": "@jupyter-widgets/controls",
          "model_name": "DescriptionStyleModel",
          "model_module_version": "1.5.0",
          "state": {
            "_model_module": "@jupyter-widgets/controls",
            "_model_module_version": "1.5.0",
            "_model_name": "DescriptionStyleModel",
            "_view_count": null,
            "_view_module": "@jupyter-widgets/base",
            "_view_module_version": "1.2.0",
            "_view_name": "StyleView",
            "description_width": ""
          }
        },
        "783564d6b7ee45118a31a0a391f75196": {
          "model_module": "@jupyter-widgets/base",
          "model_name": "LayoutModel",
          "model_module_version": "1.2.0",
          "state": {
            "_model_module": "@jupyter-widgets/base",
            "_model_module_version": "1.2.0",
            "_model_name": "LayoutModel",
            "_view_count": null,
            "_view_module": "@jupyter-widgets/base",
            "_view_module_version": "1.2.0",
            "_view_name": "LayoutView",
            "align_content": null,
            "align_items": null,
            "align_self": null,
            "border": null,
            "bottom": null,
            "display": null,
            "flex": null,
            "flex_flow": null,
            "grid_area": null,
            "grid_auto_columns": null,
            "grid_auto_flow": null,
            "grid_auto_rows": null,
            "grid_column": null,
            "grid_gap": null,
            "grid_row": null,
            "grid_template_areas": null,
            "grid_template_columns": null,
            "grid_template_rows": null,
            "height": null,
            "justify_content": null,
            "justify_items": null,
            "left": null,
            "margin": null,
            "max_height": null,
            "max_width": null,
            "min_height": null,
            "min_width": null,
            "object_fit": null,
            "object_position": null,
            "order": null,
            "overflow": null,
            "overflow_x": null,
            "overflow_y": null,
            "padding": null,
            "right": null,
            "top": null,
            "visibility": null,
            "width": null
          }
        },
        "9ec1a45832d84813858b416d20e9d427": {
          "model_module": "@jupyter-widgets/controls",
          "model_name": "ProgressStyleModel",
          "model_module_version": "1.5.0",
          "state": {
            "_model_module": "@jupyter-widgets/controls",
            "_model_module_version": "1.5.0",
            "_model_name": "ProgressStyleModel",
            "_view_count": null,
            "_view_module": "@jupyter-widgets/base",
            "_view_module_version": "1.2.0",
            "_view_name": "StyleView",
            "bar_color": null,
            "description_width": ""
          }
        },
        "5559f4ff2b374f30ab54be9adc0aa21b": {
          "model_module": "@jupyter-widgets/base",
          "model_name": "LayoutModel",
          "model_module_version": "1.2.0",
          "state": {
            "_model_module": "@jupyter-widgets/base",
            "_model_module_version": "1.2.0",
            "_model_name": "LayoutModel",
            "_view_count": null,
            "_view_module": "@jupyter-widgets/base",
            "_view_module_version": "1.2.0",
            "_view_name": "LayoutView",
            "align_content": null,
            "align_items": null,
            "align_self": null,
            "border": null,
            "bottom": null,
            "display": null,
            "flex": null,
            "flex_flow": null,
            "grid_area": null,
            "grid_auto_columns": null,
            "grid_auto_flow": null,
            "grid_auto_rows": null,
            "grid_column": null,
            "grid_gap": null,
            "grid_row": null,
            "grid_template_areas": null,
            "grid_template_columns": null,
            "grid_template_rows": null,
            "height": null,
            "justify_content": null,
            "justify_items": null,
            "left": null,
            "margin": null,
            "max_height": null,
            "max_width": null,
            "min_height": null,
            "min_width": null,
            "object_fit": null,
            "object_position": null,
            "order": null,
            "overflow": null,
            "overflow_x": null,
            "overflow_y": null,
            "padding": null,
            "right": null,
            "top": null,
            "visibility": null,
            "width": null
          }
        },
        "a376370cd7344204a75b8ff53d572497": {
          "model_module": "@jupyter-widgets/controls",
          "model_name": "DescriptionStyleModel",
          "model_module_version": "1.5.0",
          "state": {
            "_model_module": "@jupyter-widgets/controls",
            "_model_module_version": "1.5.0",
            "_model_name": "DescriptionStyleModel",
            "_view_count": null,
            "_view_module": "@jupyter-widgets/base",
            "_view_module_version": "1.2.0",
            "_view_name": "StyleView",
            "description_width": ""
          }
        }
      }
    }
  },
  "nbformat": 4,
  "nbformat_minor": 0
}