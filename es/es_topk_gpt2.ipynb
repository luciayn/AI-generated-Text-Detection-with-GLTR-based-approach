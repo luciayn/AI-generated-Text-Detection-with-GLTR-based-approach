{
  "cells": [
    {
      "cell_type": "markdown",
      "metadata": {
        "id": "tGcZxScnPpWk"
      },
      "source": [
        "# Install Libraries"
      ]
    },
    {
      "cell_type": "code",
      "execution_count": null,
      "metadata": {
        "id": "uXkt_KDbPjFb"
      },
      "outputs": [],
      "source": [
        "!pip install simpletransformers\n",
        "!pip install --upgrade huggingface_hub"
      ]
    },
    {
      "cell_type": "markdown",
      "metadata": {
        "id": "SotogWZhPoHi"
      },
      "source": [
        "# Import dataset: es (Spanish)"
      ]
    },
    {
      "cell_type": "code",
      "execution_count": null,
      "metadata": {
        "colab": {
          "base_uri": "https://localhost:8080/"
        },
        "id": "SbcHEVqBPnir",
        "outputId": "6ea7c7bc-f90d-4061-fdae-1517469c2034"
      },
      "outputs": [
        {
          "output_type": "stream",
          "name": "stdout",
          "text": [
            "Mounted at /content/drive\n"
          ]
        }
      ],
      "source": [
        "from google.colab import drive\n",
        "# mount your google drive\n",
        "drive.mount('/content/drive')\n",
        "\n",
        "import os\n",
        "os.chdir('/content/drive/My Drive/TFG/AuTexTification/subtask_1/es')\n",
        "\n",
        "import pickle\n",
        "with open(\"es_dict_dataset.pkl\", \"rb\") as myFile:\n",
        "    dict_dataset = pickle.load(myFile)\n",
        "\n",
        "train_dataset = dict_dataset['train']\n",
        "val_dataset = dict_dataset['validation']\n",
        "test_dataset = dict_dataset['test']"
      ]
    },
    {
      "cell_type": "markdown",
      "metadata": {
        "id": "go0IOiqBBXya"
      },
      "source": [
        "# Define functions"
      ]
    },
    {
      "cell_type": "code",
      "execution_count": null,
      "metadata": {
        "id": "qeHGpTm-ceCp"
      },
      "outputs": [],
      "source": [
        "# Postprocess the tokens\n",
        "def postprocess(token):\n",
        "    with_space = False\n",
        "    with_break = False\n",
        "    if token.startswith('Ġ'):\n",
        "        with_space = True\n",
        "        token = token[1:]\n",
        "        # print(token)\n",
        "    elif token.startswith('â'):\n",
        "        token = ' '\n",
        "    elif token.startswith('Ċ'):\n",
        "        token = ' '\n",
        "        with_break = True\n",
        "\n",
        "    token = '-' if token.startswith('â') else token\n",
        "    token = '“' if token.startswith('ľ') else token\n",
        "    token = '”' if token.startswith('Ŀ') else token\n",
        "    token = \"'\" if token.startswith('Ļ') else token\n",
        "\n",
        "    return token"
      ]
    },
    {
      "cell_type": "code",
      "execution_count": null,
      "metadata": {
        "id": "Z4p7cDj6cc5K"
      },
      "outputs": [],
      "source": [
        "import numpy as np\n",
        "\n",
        "# Obtain the list of predicted tokens and their respective probabilities of each token\n",
        "def check_probabilities(in_text, tokenizer, model, topk = 100):\n",
        "    # Process input\n",
        "    token_ids = tokenizer(in_text, return_tensors='pt').data['input_ids'][0]\n",
        "    token_ids = torch.concat([start_token, token_ids])\n",
        "\n",
        "    # Forward through the model\n",
        "    output = model(token_ids.to(device))\n",
        "    all_logits = output.logits[:-1].detach().squeeze()\n",
        "    # Construct target and pred\n",
        "    all_probs = torch.softmax(all_logits, dim=1)\n",
        "\n",
        "    y = token_ids[1:]\n",
        "    # Sort the predictions for each timestep\n",
        "    sorted_preds = torch.argsort(all_probs, dim=1, descending=True).cpu()\n",
        "    # [(pos, prob), ...]\n",
        "    real_topk_pos = list(\n",
        "        [int(np.where(sorted_preds[i] == y[i].item())[0][0])\n",
        "          for i in range(y.shape[0])])\n",
        "    real_topk_probs = all_probs[np.arange(\n",
        "        0, y.shape[0], 1), y].data.cpu().numpy().tolist()\n",
        "    real_topk_probs = list(map(lambda x: round(x, 5), real_topk_probs))\n",
        "\n",
        "    real_topk = list(zip(real_topk_pos, real_topk_probs))\n",
        "    # [str, str, ...]\n",
        "    bpe_strings = tokenizer.convert_ids_to_tokens(token_ids[:])\n",
        "\n",
        "    bpe_strings = [postprocess(s) for s in bpe_strings]\n",
        "\n",
        "    topk_prob_values, topk_prob_inds = torch.topk(all_probs, k=topk, dim=1)\n",
        "\n",
        "    pred_topk = [list(zip(tokenizer.convert_ids_to_tokens(topk_prob_inds[i]),\n",
        "                          topk_prob_values[i].data.cpu().numpy().tolist()\n",
        "                          )) for i in range(y.shape[0])]\n",
        "    pred_topk = [[(postprocess(t[0]), t[1]) for t in pred] for pred in pred_topk]\n",
        "\n",
        "\n",
        "    payload = {'bpe_strings': bpe_strings,\n",
        "                'real_topk': real_topk,\n",
        "                'pred_topk': pred_topk}\n",
        "    if torch.cuda.is_available():\n",
        "        torch.cuda.empty_cache()\n",
        "\n",
        "    return payload"
      ]
    },
    {
      "cell_type": "code",
      "execution_count": null,
      "metadata": {
        "id": "tH0Xn_mumLcM"
      },
      "outputs": [],
      "source": [
        "# Highlight each token in the text and classify it with respect to the given threshold (ratio)\n",
        "def color_text(text, payload, ratio):\n",
        "    colored_text = ''\n",
        "    l = len(text)\n",
        "    count = {}\n",
        "    count['green'] = 0\n",
        "    count['yellow'] = 0\n",
        "    count['purple'] = 0\n",
        "    count['red'] = 0\n",
        "    pred = 0 # default class: generated\n",
        "\n",
        "    # Highlight of colors\n",
        "    for word in range(len(text)):\n",
        "        if 0 <= payload['real_topk'][word][0] < 10:\n",
        "            colored_text += '\\033[48;2;204;255;204m' + text[word] + '\\033[0m' + ' '  # Pastel green\n",
        "            count['green'] += 1\n",
        "        elif 10 <= payload['real_topk'][word][0] < 100:\n",
        "            colored_text += '\\033[48;2;255;255;153m' + text[word] + '\\033[0m' + ' '  # Pastel yellow\n",
        "            count['yellow'] += 1\n",
        "        elif 100<= payload['real_topk'][word][0] < 1000:\n",
        "            colored_text += '\\033[48;2;204;153;255m' + text[word] + '\\033[0m' + ' '  # Pastel purple\n",
        "            count['purple'] += 1\n",
        "        elif payload['real_topk'][word][0] > 1000:\n",
        "            colored_text += '\\033[48;2;255;153;153m' + text[word] + '\\033[0m' + ' '  # Pastel red\n",
        "            count['red'] += 1\n",
        "    # print('Count: ', count['green'], 'Text length: ', l)\n",
        "\n",
        "    # Classification\n",
        "    if count['green'] > l*ratio:\n",
        "      return colored_text, pred\n",
        "    else:\n",
        "      pred = 1 # human\n",
        "      return colored_text, pred"
      ]
    },
    {
      "cell_type": "code",
      "execution_count": null,
      "metadata": {
        "id": "qolw6bMqk7pM"
      },
      "outputs": [],
      "source": [
        "# Main function\n",
        "def classify_text(in_text, tokenizer, model, ratio):\n",
        "  # Tokenize input text\n",
        "  tokens = tokenizer.tokenize(in_text)\n",
        "\n",
        "  # Filter out special tokens and convert tokens to string\n",
        "  text = [postprocess(token) for token in tokens if not tokenizer.special_tokens_map.get(token)]\n",
        "\n",
        "  # Obtain probabilities\n",
        "  payload = check_probabilities(in_text, tokenizer, model)\n",
        "\n",
        "  # Color the text\n",
        "  colored_text, pred = color_text(text, payload, ratio)\n",
        "\n",
        "  # print('Pred: ', pred)\n",
        "  # print(colored_text)\n",
        "  return colored_text, pred"
      ]
    },
    {
      "cell_type": "code",
      "execution_count": null,
      "metadata": {
        "id": "zhdsRvgs9ioV"
      },
      "outputs": [],
      "source": [
        "from sklearn.metrics import f1_score\n",
        "from sklearn.metrics import classification_report\n",
        "import matplotlib.pyplot as plt\n",
        "from sklearn.metrics import confusion_matrix, ConfusionMatrixDisplay\n",
        "\n",
        "# Compute evaluation metrics\n",
        "def test_model(test_dataset, tokenizer, model, ratio):\n",
        "  # All texts\n",
        "  texts = test_dataset['text']\n",
        "  real_labels = test_dataset['label'] # real labels\n",
        "\n",
        "  pred_labels = []\n",
        "  for text in texts:\n",
        "      colored_text, pred = classify_text(text, tokenizer, model, ratio)\n",
        "      pred_labels.append(pred)\n",
        "\n",
        "  # Calculate TP, FP, FN counts\n",
        "  TP = sum(pred == 1 and real == 1 for pred, real in zip(pred_labels, real_labels))\n",
        "  FP = sum(pred == 1 and real == 0 for pred, real in zip(pred_labels, real_labels))\n",
        "  FN = sum(pred == 0 and real == 1 for pred, real in zip(pred_labels, real_labels))\n",
        "\n",
        "  # Calculate precision, recall, and F1-score\n",
        "  precision = TP / (TP + FP)\n",
        "  recall = TP / (TP + FN)\n",
        "  f1 = 2 * (precision * recall) / (precision + recall)\n",
        "\n",
        "  print(\"Precision:\", precision)\n",
        "  print(\"Recall:\", recall)\n",
        "  print(\"F1-score:\", f1)\n",
        "\n",
        "  # Show the precision, recall, and f1-score of the predictions\n",
        "  LABELS = ['generated', 'human']  # 'generated': 0, 'human': 1\n",
        "  print(classification_report(y_true=real_labels, y_pred=pred_labels, target_names=LABELS, digits=4))\n",
        "\n",
        "  # Confusion Matrix\n",
        "  print(confusion_matrix(real_labels, pred_labels))\n",
        "  disp=ConfusionMatrixDisplay.from_predictions(real_labels, pred_labels, cmap=plt.cm.Blues)"
      ]
    },
    {
      "cell_type": "markdown",
      "metadata": {
        "id": "C0z5ZJpRtOoX"
      },
      "source": [
        "# GPT-2"
      ]
    },
    {
      "cell_type": "code",
      "execution_count": null,
      "metadata": {
        "colab": {
          "base_uri": "https://localhost:8080/",
          "height": 938,
          "referenced_widgets": [
            "d794b9daf0b646809c8d9a9b87cd5036",
            "f64bb11784e244f1bbc2e6e8b167a3ae",
            "c36d3d70af754b68a0ee92647d972153",
            "3fd64f58c29a4d34a05b3bb566b2f595",
            "f44177cfcade47daa1bacac2d72471cc",
            "8f500676dd784f43854c1278f0b70000",
            "9a8a295299a746bc912ee19930a446ea",
            "482cf2cf5df84ca299ea267bda0f35ef",
            "65fd02fd98364c52ae76ffcc7f68b545",
            "5a717c9eed6b425497d0e453fa2e7ff6",
            "cc205210b8e043438eb9fdbafc93cfb7",
            "67c96fce95b9424ab9966490607b9c08",
            "24a4c27682124772aa978d580bf438c6",
            "f5464ff18168484fa124285d84cc1b7d",
            "62a56ae0f6da48f9b142bf6463b22d86",
            "9eff52b4b0724c5b84270bd19879ec36",
            "c95774f793e84ca9b4093c5fbb659bef",
            "4a35bfeb518e47dbb7d5c51e1941b91a",
            "d87293a6f3f84ab8b6c73256fb46c813",
            "67b532ded182424c81d8581758670d65",
            "3cde8fd9bce24b41b6499ee6ebe1e041",
            "dde89f2a19d34dda9c37dab2f735d16f",
            "4bfc3fb908694be9944e1481c4974778",
            "73fb6f52e3a544fdb0e732b85036d288",
            "ce36bf62a0f3482a88d58dbaf8d215dc",
            "8388b07b62c7441ebfdc58c31e1d6687",
            "cac6e94f8959414087ea95eaf3ec8823",
            "bf0eee0976b34506b3c7250dc35e1a1c",
            "0cbe76ce388747b2876b7cf22444aebf",
            "c6d8e974e13542d1aa12cd53208bb4be",
            "5814ebf3c0f14eda9fdff8a15ee72557",
            "32af10d464d14bf0bd45a6a95072ba61",
            "f1beb34cf9944ba195fcb70177e51840",
            "7f555a48f4dc48e5bd34fc44bc75e405",
            "2b836417ba144e16976d7dd34393ab61",
            "222f7d16ffe5476b82d544b2604119ee",
            "dd037c16daa74b3980316a2e4aa8b321",
            "30761beeec734e59af1495e42c762acd",
            "445140bd16904d45979bff387620e32a",
            "1b705e4cba6146cab4423cbec69d92b7",
            "eef5501af6544cacb53c0e8532451184",
            "9390a04418c2407cbffe99c44b141307",
            "26dbc4c75d7c4cd1be4f592e3b77f4aa",
            "19217ed76e4e40cca897e789c229b2f6",
            "1b4b6db7196844e5804cbb30a655fe0e",
            "7b3ad17e024c49228a21b641246f30fd",
            "05aafff963c442dab93e21a779b0da9d",
            "841a5760dce24ce5aea75c56a56ce437",
            "a9d341c764494e9ea71bb25f2f9b92cf",
            "3c58beade6634147be8b9d25ea745a5e",
            "b6413ef937d3496d9fa38ddd0051c998",
            "3da329e24b3144439de61e98736687f8",
            "f652847c74714509875f083f529479ea",
            "f0c3828c19bf43a39561af662e0b56c6",
            "8996d345ecca4b11bc49b2d95169bbcf",
            "0ce906e3006b495d9625c7edba7627d7",
            "460b8e7f854540b5a47d2220b986229c",
            "ee8b8943fd4c43c8a5f10e651bc1c68c",
            "c3d9179d233d4466933d813dbdbb6758",
            "356e3d3241a14825bd3b0d7f4c122105",
            "dc083f6a6300452c8c88d7835537cb80",
            "6dc294aa66474d64abf37b7bd9bfb47b",
            "b85b0185540d4ed7b2f47e0c02923c32",
            "e24a32117d314b0eaf4b4448eb0d5c1c",
            "9dea94a69e4f4948969833dcf2c22cc3",
            "fb066b9dd690466380374255e330af15",
            "d2e77e33f5214ae19fe7a374c20b8cc3",
            "7aada00310024d1180878647e6654700",
            "4dc5cb0443b24cfea653436d200f5446",
            "ba974d17815340b7b99ecfc6a5cf2e79",
            "0a7ddee1e2784f7da91f9c3850e0bf6e",
            "7f6e438391034968a8dff0325364d468",
            "f2e39ee077734a6d8c28a7412c150342",
            "1b7185d9f08b48f3b77b521ad3bd0f0c",
            "a4e4d7cbccfe40d39b7218ac6372ec5c",
            "48ae56e631e04f4ab1b8a020d5a874c0",
            "2b33ffa19fee4fdc8e63a00d87ad2fd2"
          ]
        },
        "outputId": "f1dbb519-106f-4b79-c0b7-358c23ae48a1",
        "id": "mpslqiiNsF85"
      },
      "outputs": [
        {
          "output_type": "stream",
          "name": "stderr",
          "text": [
            "/usr/local/lib/python3.10/dist-packages/huggingface_hub/utils/_auth.py:94: UserWarning: \n",
            "The secret `HF_TOKEN` does not exist in your Colab secrets.\n",
            "To authenticate with the Hugging Face Hub, create a token in your settings tab (https://huggingface.co/settings/tokens), set it as secret in your Google Colab and restart your session.\n",
            "You will be able to reuse this secret in all of your notebooks.\n",
            "Please note that authentication is recommended but still optional to access public models or datasets.\n",
            "  warnings.warn(\n"
          ]
        },
        {
          "output_type": "display_data",
          "data": {
            "text/plain": [
              "config.json:   0%|          | 0.00/665 [00:00<?, ?B/s]"
            ],
            "application/vnd.jupyter.widget-view+json": {
              "version_major": 2,
              "version_minor": 0,
              "model_id": "d794b9daf0b646809c8d9a9b87cd5036"
            }
          },
          "metadata": {}
        },
        {
          "output_type": "display_data",
          "data": {
            "text/plain": [
              "model.safetensors:   0%|          | 0.00/548M [00:00<?, ?B/s]"
            ],
            "application/vnd.jupyter.widget-view+json": {
              "version_major": 2,
              "version_minor": 0,
              "model_id": "67c96fce95b9424ab9966490607b9c08"
            }
          },
          "metadata": {}
        },
        {
          "output_type": "display_data",
          "data": {
            "text/plain": [
              "generation_config.json:   0%|          | 0.00/124 [00:00<?, ?B/s]"
            ],
            "application/vnd.jupyter.widget-view+json": {
              "version_major": 2,
              "version_minor": 0,
              "model_id": "4bfc3fb908694be9944e1481c4974778"
            }
          },
          "metadata": {}
        },
        {
          "output_type": "display_data",
          "data": {
            "text/plain": [
              "tokenizer_config.json:   0%|          | 0.00/26.0 [00:00<?, ?B/s]"
            ],
            "application/vnd.jupyter.widget-view+json": {
              "version_major": 2,
              "version_minor": 0,
              "model_id": "7f555a48f4dc48e5bd34fc44bc75e405"
            }
          },
          "metadata": {}
        },
        {
          "output_type": "display_data",
          "data": {
            "text/plain": [
              "vocab.json:   0%|          | 0.00/1.04M [00:00<?, ?B/s]"
            ],
            "application/vnd.jupyter.widget-view+json": {
              "version_major": 2,
              "version_minor": 0,
              "model_id": "1b4b6db7196844e5804cbb30a655fe0e"
            }
          },
          "metadata": {}
        },
        {
          "output_type": "display_data",
          "data": {
            "text/plain": [
              "merges.txt:   0%|          | 0.00/456k [00:00<?, ?B/s]"
            ],
            "application/vnd.jupyter.widget-view+json": {
              "version_major": 2,
              "version_minor": 0,
              "model_id": "0ce906e3006b495d9625c7edba7627d7"
            }
          },
          "metadata": {}
        },
        {
          "output_type": "display_data",
          "data": {
            "text/plain": [
              "tokenizer.json:   0%|          | 0.00/1.36M [00:00<?, ?B/s]"
            ],
            "application/vnd.jupyter.widget-view+json": {
              "version_major": 2,
              "version_minor": 0,
              "model_id": "d2e77e33f5214ae19fe7a374c20b8cc3"
            }
          },
          "metadata": {}
        },
        {
          "output_type": "stream",
          "name": "stderr",
          "text": [
            "/usr/local/lib/python3.10/dist-packages/transformers/tokenization_utils_base.py:1601: FutureWarning: `clean_up_tokenization_spaces` was not set. It will be set to `True` by default. This behavior will be depracted in transformers v4.45, and will be then set to `False` by default. For more details check this issue: https://github.com/huggingface/transformers/issues/31884\n",
            "  warnings.warn(\n"
          ]
        },
        {
          "output_type": "stream",
          "name": "stdout",
          "text": [
            "RATIO:  0.25\n",
            "Precision: 0.7790697674418605\n",
            "Recall: 0.007511210762331838\n",
            "F1-score: 0.014878969575838329\n",
            "              precision    recall  f1-score   support\n",
            "\n",
            "   generated     0.5583    0.9983    0.7161     11209\n",
            "       human     0.7791    0.0075    0.0149      8920\n",
            "\n",
            "    accuracy                         0.5592     20129\n",
            "   macro avg     0.6687    0.5029    0.3655     20129\n",
            "weighted avg     0.6561    0.5592    0.4054     20129\n",
            "\n",
            "[[11190    19]\n",
            " [ 8853    67]]\n",
            "RATIO:  0.3333333333333333\n",
            "Precision: 0.8269896193771626\n",
            "Recall: 0.02679372197309417\n",
            "F1-score: 0.05190574438049734\n",
            "              precision    recall  f1-score   support\n",
            "\n",
            "   generated     0.5624    0.9955    0.7188     11209\n",
            "       human     0.8270    0.0268    0.0519      8920\n",
            "\n",
            "    accuracy                         0.5662     20129\n",
            "   macro avg     0.6947    0.5112    0.3854     20129\n",
            "weighted avg     0.6797    0.5662    0.4233     20129\n",
            "\n",
            "[[11159    50]\n",
            " [ 8681   239]]\n",
            "RATIO:  0.5\n"
          ]
        }
      ],
      "source": [
        "import torch\n",
        "from transformers import AutoModelForCausalLM, AutoTokenizer\n",
        "\n",
        "device = torch.device(\"cuda\" if torch.cuda.is_available() else \"cpu\")\n",
        "\n",
        "# Access model and tokenizer\n",
        "gpt2 = AutoModelForCausalLM.from_pretrained(\"gpt2\").to(device)\n",
        "tokenizer_gpt2 = AutoTokenizer.from_pretrained(\"gpt2\")\n",
        "gpt2.eval()\n",
        "start_token = tokenizer_gpt2(tokenizer_gpt2.bos_token, return_tensors='pt').data['input_ids'][0]\n",
        "\n",
        "# Threshold values\n",
        "for ratio in [1/4, 1/3]:\n",
        "  print('RATIO: ', ratio)\n",
        "  test_model(test_dataset, tokenizer_gpt2, gpt2, ratio)"
      ]
    },
    {
      "cell_type": "code",
      "execution_count": null,
      "metadata": {
        "colab": {
          "background_save": true,
          "base_uri": "https://localhost:8080/",
          "height": 677,
          "referenced_widgets": [
            "5f61d21140ba467bb2fb6a163d6c8429",
            "9d146a71f5734648a80118fc94ec51e5",
            "f1f9e64b0c23482988827ebc440bdd41",
            "737b3f95b032451ba5414732f540556e",
            "b5ed9a7fded544f280ac7b28f2ae7cb7",
            "4974c5c06e6b4b95baddfa7000f72840",
            "0651a565e26d4e3a8f48ddde8babdfb6",
            "260a133526e54ba6be57c93472c8d644",
            "7b3a79c533ba45ca9741d6604a34fc1e",
            "934440ae0c354eb4a3de8f014488eef9",
            "7677bd533eea42e6878bbc943019a44c",
            "2f8b3a2478fe4817835e8240987b592d",
            "f7a57d55771c4af08feb90025abafbc6",
            "caab704d837e46adb7b7dc8ad8302bc3",
            "ecb7577cb0bb4cf6879a96ed4896fada",
            "9b13a3333ea942a1b6c7a4abdf22e257",
            "e7460c5869e54db3bafe5a05d3b76fe3",
            "fba793a1f3d74349bad8ce899aa971fa",
            "6b926dd103804b228c244aa2d3e63fcc",
            "13addf49c63641d89a66d1578fc2e5c0",
            "a4e7596502364f1481261573f03553d6",
            "2c685a64ae1f45f081f4b6bd60c3e83f",
            "c08739cff6b043c99bdc622004acec1b",
            "c0cd3e664d354b38b50993be1b479d5e",
            "f4ab84bb66864559b9c17f2e3ba7f6e0",
            "b28fc3c517b54505be351bbb43dfb684",
            "045dee99b2cd4705846e291dc7e37d25",
            "da56eda7ba7b455c8e2c787a706999d1",
            "b0a69a3a46f84875aa7baa49207bf168",
            "c1f84a9baafe46b3a763329fa6a15072",
            "037767fc1c54427a934b543575364637",
            "1786dbae15f2415c93625366871578a6",
            "8ba294b862d742a790499d0570f86ed1",
            "34fbc215e6fc4eb3822a00b3296754a4",
            "103f21de60174e3d9eb35d43b76d76b7",
            "e92be60c6056471c8345f2f7b6790823",
            "11149fc644fb4d1d91443c21a88d5e47",
            "4ce1759dd98a4fb8b5784acaee2cca0b",
            "4f9abd9fb18840dcb6ae7b355a7025a5",
            "bf518f9ec32549a7b60dd9117af899ae",
            "d165aaac85584bfa87cfb6a052240c20",
            "0fdaafcd9a3d43d4b9c2088d207f2c01",
            "06e2bac69d584cd2b6be1c3b2ae31328",
            "9add626d2fd240da93752d78179a77ce",
            "b51ddc835c72485e9e2ab15b5bbeb0bb",
            "9efab762dbec43e3aa455b77722c2c91",
            "9e1c027b4fa4432cac86edfeb844b809",
            "765f3aef1c104e258b4215ae5988a29c",
            "01f60e5a6d9c49f3ac04fb54665da304",
            "63f5818678824368a828fbeb5e849ff4",
            "d66803f616a24330a872059f9b207b59",
            "4aaa0f0321d1451daf30e2cf356f9aed",
            "2152f385a4764218a6bd80f3f13d49b6",
            "c126061aba4946e8b7facdf8c68c149b",
            "4f0ea14079ed4199aae65cc2e2aa59a2",
            "f1550b8d3f4748b2a7886fa6e7041338",
            "9e82e5896d4c4a18ab0b74c77b76474f",
            "a3e0f69578d84482b4651462ab344f94",
            "923744c31d374b448c02172d9d521cc0",
            "f9693f22bc2f4fb6948b9d517f048e44",
            "710b4447af0842f3bbe5fc545e9b6807",
            "208679ba81c348f3b52c6a4728933a19",
            "5e67596d690e4f0ca5df883f9ee0c47f",
            "603e723731d54d6bb7b950f606dff42d",
            "a54c7c2d3b824b0e8150d245a5ed445d",
            "8f19142ffc694997b95c79d9fea3ddd5",
            "628d688be50741a1ba9bf12056e0af6a",
            "5217f6ce46f3455bb16d15b7c4666b9b",
            "b1b9936c0f5c4b63aefd76a76382da04",
            "1ac4a4f5d68f4c76bbb4080e75b04298",
            "7b1b72dcadb24b6e8d8caacdd4f0194a",
            "72e1a1167b434e708ff884c458135d4b",
            "55400917a21f4e2cb8d09af7ada539fd",
            "4828532b5c4549f2847573ec31219507",
            "def6c5399bfb4c66872cc5be2e494f3d",
            "37d649c0cd0649a29a551f495495c2a2",
            "94911c55691d4cdaa90784f7fba58864"
          ]
        },
        "outputId": "24234c14-f0be-4609-9fc2-3551993e2d5f",
        "id": "TffQ_qWGtOoZ"
      },
      "outputs": [
        {
          "output_type": "stream",
          "name": "stderr",
          "text": [
            "/usr/local/lib/python3.10/dist-packages/huggingface_hub/utils/_auth.py:94: UserWarning: \n",
            "The secret `HF_TOKEN` does not exist in your Colab secrets.\n",
            "To authenticate with the Hugging Face Hub, create a token in your settings tab (https://huggingface.co/settings/tokens), set it as secret in your Google Colab and restart your session.\n",
            "You will be able to reuse this secret in all of your notebooks.\n",
            "Please note that authentication is recommended but still optional to access public models or datasets.\n",
            "  warnings.warn(\n"
          ]
        },
        {
          "output_type": "display_data",
          "data": {
            "text/plain": [
              "config.json:   0%|          | 0.00/665 [00:00<?, ?B/s]"
            ],
            "application/vnd.jupyter.widget-view+json": {
              "version_major": 2,
              "version_minor": 0,
              "model_id": "5f61d21140ba467bb2fb6a163d6c8429"
            }
          },
          "metadata": {}
        },
        {
          "output_type": "display_data",
          "data": {
            "text/plain": [
              "model.safetensors:   0%|          | 0.00/548M [00:00<?, ?B/s]"
            ],
            "application/vnd.jupyter.widget-view+json": {
              "version_major": 2,
              "version_minor": 0,
              "model_id": "2f8b3a2478fe4817835e8240987b592d"
            }
          },
          "metadata": {}
        },
        {
          "output_type": "display_data",
          "data": {
            "text/plain": [
              "generation_config.json:   0%|          | 0.00/124 [00:00<?, ?B/s]"
            ],
            "application/vnd.jupyter.widget-view+json": {
              "version_major": 2,
              "version_minor": 0,
              "model_id": "c08739cff6b043c99bdc622004acec1b"
            }
          },
          "metadata": {}
        },
        {
          "output_type": "display_data",
          "data": {
            "text/plain": [
              "tokenizer_config.json:   0%|          | 0.00/26.0 [00:00<?, ?B/s]"
            ],
            "application/vnd.jupyter.widget-view+json": {
              "version_major": 2,
              "version_minor": 0,
              "model_id": "34fbc215e6fc4eb3822a00b3296754a4"
            }
          },
          "metadata": {}
        },
        {
          "output_type": "display_data",
          "data": {
            "text/plain": [
              "vocab.json:   0%|          | 0.00/1.04M [00:00<?, ?B/s]"
            ],
            "application/vnd.jupyter.widget-view+json": {
              "version_major": 2,
              "version_minor": 0,
              "model_id": "b51ddc835c72485e9e2ab15b5bbeb0bb"
            }
          },
          "metadata": {}
        },
        {
          "output_type": "display_data",
          "data": {
            "text/plain": [
              "merges.txt:   0%|          | 0.00/456k [00:00<?, ?B/s]"
            ],
            "application/vnd.jupyter.widget-view+json": {
              "version_major": 2,
              "version_minor": 0,
              "model_id": "f1550b8d3f4748b2a7886fa6e7041338"
            }
          },
          "metadata": {}
        },
        {
          "output_type": "display_data",
          "data": {
            "text/plain": [
              "tokenizer.json:   0%|          | 0.00/1.36M [00:00<?, ?B/s]"
            ],
            "application/vnd.jupyter.widget-view+json": {
              "version_major": 2,
              "version_minor": 0,
              "model_id": "628d688be50741a1ba9bf12056e0af6a"
            }
          },
          "metadata": {}
        },
        {
          "output_type": "stream",
          "name": "stderr",
          "text": [
            "/usr/local/lib/python3.10/dist-packages/transformers/tokenization_utils_base.py:1601: FutureWarning: `clean_up_tokenization_spaces` was not set. It will be set to `True` by default. This behavior will be depracted in transformers v4.45, and will be then set to `False` by default. For more details check this issue: https://github.com/huggingface/transformers/issues/31884\n",
            "  warnings.warn(\n"
          ]
        },
        {
          "output_type": "stream",
          "name": "stdout",
          "text": [
            "RATIO:  0.6666666666666666\n",
            "Precision: 0.4552833078101072\n",
            "Recall: 0.9998878923766816\n",
            "F1-score: 0.6256752016836197\n",
            "              precision    recall  f1-score   support\n",
            "\n",
            "   generated     0.9981    0.0480    0.0916     11209\n",
            "       human     0.4553    0.9999    0.6257      8920\n",
            "\n",
            "    accuracy                         0.4698     20129\n",
            "   macro avg     0.7267    0.5239    0.3586     20129\n",
            "weighted avg     0.7576    0.4698    0.3283     20129\n",
            "\n",
            "[[  538 10671]\n",
            " [    1  8919]]\n",
            "RATIO:  0.75\n"
          ]
        }
      ],
      "source": [
        "# Threshold values\n",
        "for ratio in [2/3, 3/4, 5/6]:\n",
        "  print('RATIO: ', ratio)\n",
        "  test_model(test_dataset, tokenizer_gpt2, gpt2, ratio)"
      ]
    },
    {
      "cell_type": "markdown",
      "metadata": {
        "id": "LXVpA8RYEsv3"
      },
      "source": [
        "# GPT-2-Spanish"
      ]
    },
    {
      "cell_type": "code",
      "source": [
        "import torch\n",
        "from transformers import AutoModelForCausalLM, AutoTokenizer\n",
        "\n",
        "device = torch.device(\"cuda\" if torch.cuda.is_available() else \"cpu\")\n",
        "\n",
        "# Access model and tokenizer\n",
        "gpt2_small_spanish = AutoModelForCausalLM.from_pretrained(\"datificate/gpt2-small-spanish\").to(device)\n",
        "tokenizer_gpt2_small_spanish = AutoTokenizer.from_pretrained(\"datificate/gpt2-small-spanish\")\n",
        "gpt2_small_spanish.eval()\n",
        "# Define start token\n",
        "start_token = tokenizer_gpt2_small_spanish(tokenizer_gpt2_small_spanish.bos_token, return_tensors='pt').data['input_ids'][0]\n",
        "test_model(test_dataset, tokenizer_gpt2_small_spanish, gpt2_small_spanish, 2/3)\n",
        "\n",
        "# Threshold value at 1/4\n",
        "for ratio in [1/4]:\n",
        "  print('RATIO: ', ratio)\n",
        "  test_model(test_dataset, tokenizer_gpt2_small_spanish, gpt2_small_spanish, ratio)"
      ],
      "metadata": {
        "id": "OkR2yQKjPQwy",
        "colab": {
          "base_uri": "https://localhost:8080/",
          "height": 796,
          "referenced_widgets": [
            "6a5163da8b39492c85d49bc4782bbef4",
            "f2822258834a49778650cbce646f6d57",
            "f3d2868c815f421ca8ee7fbaa7c0afc0",
            "71d5c227810d4cb39719504b4af111d2",
            "e00b42cd7d714988896d45324e6733c8",
            "d0e57c949daf42e7a178405e0d97f17b",
            "cd497aa5c77c4fc689d24fdb467e4d47",
            "8701e41d2c424113a296fcdfff2f22f4",
            "c2ba62f579f4480ba3c13bccd949f5c7",
            "93f032c041af46c09793865a36127d10",
            "a259905cd70448168dfd754056b92772"
          ]
        },
        "outputId": "7868f8e3-0a13-45a7-f171-1528421d49cb"
      },
      "execution_count": null,
      "outputs": [
        {
          "output_type": "display_data",
          "data": {
            "text/plain": [
              "special_tokens_map.json:   0%|          | 0.00/387 [00:00<?, ?B/s]"
            ],
            "application/vnd.jupyter.widget-view+json": {
              "version_major": 2,
              "version_minor": 0,
              "model_id": "6a5163da8b39492c85d49bc4782bbef4"
            }
          },
          "metadata": {}
        },
        {
          "output_type": "stream",
          "name": "stderr",
          "text": [
            "/usr/local/lib/python3.10/dist-packages/transformers/tokenization_utils_base.py:1601: FutureWarning: `clean_up_tokenization_spaces` was not set. It will be set to `True` by default. This behavior will be depracted in transformers v4.45, and will be then set to `False` by default. For more details check this issue: https://github.com/huggingface/transformers/issues/31884\n",
            "  warnings.warn(\n"
          ]
        },
        {
          "output_type": "stream",
          "name": "stdout",
          "text": [
            "RATIO:  0.25\n",
            "Precision: 0.7616279069767442\n",
            "Recall: 0.012309716218755873\n",
            "F1-score: 0.02422785278342889\n",
            "              precision    recall  f1-score   support\n",
            "\n",
            "   generated     0.5147    0.9963    0.6788     11190\n",
            "       human     0.7616    0.0123    0.0242     10642\n",
            "\n",
            "    accuracy                         0.5167     21832\n",
            "   macro avg     0.6382    0.5043    0.3515     21832\n",
            "weighted avg     0.6351    0.5167    0.3597     21832\n",
            "\n",
            "[[11149    41]\n",
            " [10511   131]]\n"
          ]
        },
        {
          "output_type": "display_data",
          "data": {
            "text/plain": [
              "<Figure size 640x480 with 2 Axes>"
            ],
            "image/png": "[encoded data removed]"
          },
          "metadata": {}
        }
      ]
    },
    {
      "cell_type": "code",
      "source": [
        "for ratio in [1/3]:\n",
        "  print('RATIO: ', ratio)\n",
        "  test_model(test_dataset, tokenizer_gpt2_small_spanish, gpt2_small_spanish, ratio)"
      ],
      "metadata": {
        "colab": {
          "base_uri": "https://localhost:8080/",
          "height": 1000,
          "referenced_widgets": [
            "d80cfaded81649cba1ecbcbe54e41e7a",
            "3e752ac5bd6a446cb33cb27f3d6ef77b",
            "cae16a270c2f41d8aa1e60e707859b43",
            "a4ec924e08ba4d7482f9aa2c07709160",
            "5de52d7a2fc64987a8c85ae473ace72d",
            "26c8d2a70be841dea58ede72808c41f0",
            "0d0467d836e244938f6bd45ead9fab07",
            "be15ef21389e4ace801c40541674c198",
            "b18a55d4058c45aa9c60bd67156fbbdb",
            "e8d0a868651b45e3a8f55ac026f6ccad",
            "35b8773dc3754d5a8a9bf2c153b10447",
            "179acebe4bbf409987cdb5d993c8f939",
            "3a0f00219f834b729d0a018264c7f7c0",
            "7ed8b240df2442c4b8c65a31e593f13e",
            "64205bdc48e24c0a8cfb6a305ef53e94",
            "e90690f7b5854d7493f5238e01b6be3b",
            "f0d3b8f75c294ed89f090398205ff3ee",
            "dbb53fb3ea6a40298c1bb3bf37015722",
            "d3340527c7cc4955b3cd299959bb1e16",
            "62f28ca3535f4520a49224e097e1f7d5",
            "b2a6b5e5e5e44ae692ed6f9e0823df10",
            "faf4e01dc5724845bd0e002cccfe632a",
            "515ae8caa7bb4fe09936e1ba54565386",
            "36dac95a3f20406aa69973d4fc8ac061",
            "c037374dcab641d9be4b56da89c7397c",
            "f84921240a1c484088e7646d249d569e",
            "fea3e2c5f8624bbe97c7f1afad564d8a",
            "3c82862c4142416595ea6f661a6ed4ee",
            "9db0290176844f5a970e646b564b1f31",
            "9e03fa5667d44480aa15c084b6f1deca",
            "e2d9000ccab54f73bec7490428b2b85d",
            "35de30e3229e4559b42aecf8d8fb6f20",
            "d59df2f50f934ed6b817f864d213f839",
            "9d63c8f7d4c44279a793e5ceb47ef756",
            "0c7c62f560cd4e718b16abdc74788071",
            "f5562f5192b5456b97959aacc2fa233b",
            "0d8a2a780c9f4012bede05aaf98bca82",
            "c1cbaf698c594b0f8a30c07418842387",
            "be1e166b44f747babeff65695b8a900e",
            "cebfbe9cd16a4c3ebf7017de82564282",
            "d5039369c1d1493899bf1802e5395944",
            "e46619b7d2da480bb2399c3cb230328a",
            "0c8c384800374cf791616bcac795391f",
            "881fec53f6714532829cc790f30ad1e6",
            "d03800671c7443d3bc3b6a3c44932b77",
            "6299817763ad490fbe70741ef347e31a",
            "165631fe2f7c4f78b272142c350ac2c9",
            "2db7bab2767b434dbe180df1350b68f7",
            "b38a9feb87ef4b1590d5667bcc569c5b",
            "0d944bfde10646d7b2816de3f604ac47",
            "c5d8954029e24c71a7253f060bc79177",
            "89f59a81a6d14f6187344db3932a9d51",
            "1eb0710233604641b87690481d510a1f",
            "73fc4cc440264df59f23fd789f59a804",
            "c22f2ece2d1149409ceec4bfb12f28cf",
            "890b9603fb5b462c9feeaffca97e1050",
            "316910a5abe94dbebe8b822c137ba4fb",
            "970a018644e64393b952655b9804db32",
            "d50c96954da54ff88e496b4676a977f8",
            "d9994ddec17849caa8d5dab63d93625d",
            "a5532eb85564416b8eed0fef204b0791",
            "55085abfd932431e9c196603d2c6dc34",
            "60c83828030f44b1a986e9fafab35b18",
            "6734908a16b940b19327e13466e0d04d",
            "52d8dc993c834ac4a44f7ac5e1a1fa3b",
            "32ea409434534aee9de6b3464682ac04"
          ]
        },
        "id": "9Bw9vFGpaf8V",
        "outputId": "9e93e450-a78e-4f17-8040-e46d5e9cf613"
      },
      "execution_count": null,
      "outputs": [
        {
          "output_type": "stream",
          "name": "stderr",
          "text": [
            "/usr/local/lib/python3.10/dist-packages/huggingface_hub/utils/_auth.py:94: UserWarning: \n",
            "The secret `HF_TOKEN` does not exist in your Colab secrets.\n",
            "To authenticate with the Hugging Face Hub, create a token in your settings tab (https://huggingface.co/settings/tokens), set it as secret in your Google Colab and restart your session.\n",
            "You will be able to reuse this secret in all of your notebooks.\n",
            "Please note that authentication is recommended but still optional to access public models or datasets.\n",
            "  warnings.warn(\n"
          ]
        },
        {
          "output_type": "display_data",
          "data": {
            "text/plain": [
              "config.json:   0%|          | 0.00/817 [00:00<?, ?B/s]"
            ],
            "application/vnd.jupyter.widget-view+json": {
              "version_major": 2,
              "version_minor": 0,
              "model_id": "d80cfaded81649cba1ecbcbe54e41e7a"
            }
          },
          "metadata": {}
        },
        {
          "output_type": "display_data",
          "data": {
            "text/plain": [
              "pytorch_model.bin:   0%|          | 0.00/510M [00:00<?, ?B/s]"
            ],
            "application/vnd.jupyter.widget-view+json": {
              "version_major": 2,
              "version_minor": 0,
              "model_id": "179acebe4bbf409987cdb5d993c8f939"
            }
          },
          "metadata": {}
        },
        {
          "output_type": "display_data",
          "data": {
            "text/plain": [
              "tokenizer_config.json:   0%|          | 0.00/620 [00:00<?, ?B/s]"
            ],
            "application/vnd.jupyter.widget-view+json": {
              "version_major": 2,
              "version_minor": 0,
              "model_id": "515ae8caa7bb4fe09936e1ba54565386"
            }
          },
          "metadata": {}
        },
        {
          "output_type": "display_data",
          "data": {
            "text/plain": [
              "vocab.json:   0%|          | 0.00/850k [00:00<?, ?B/s]"
            ],
            "application/vnd.jupyter.widget-view+json": {
              "version_major": 2,
              "version_minor": 0,
              "model_id": "9d63c8f7d4c44279a793e5ceb47ef756"
            }
          },
          "metadata": {}
        },
        {
          "output_type": "display_data",
          "data": {
            "text/plain": [
              "merges.txt:   0%|          | 0.00/508k [00:00<?, ?B/s]"
            ],
            "application/vnd.jupyter.widget-view+json": {
              "version_major": 2,
              "version_minor": 0,
              "model_id": "d03800671c7443d3bc3b6a3c44932b77"
            }
          },
          "metadata": {}
        },
        {
          "output_type": "display_data",
          "data": {
            "text/plain": [
              "special_tokens_map.json:   0%|          | 0.00/387 [00:00<?, ?B/s]"
            ],
            "application/vnd.jupyter.widget-view+json": {
              "version_major": 2,
              "version_minor": 0,
              "model_id": "890b9603fb5b462c9feeaffca97e1050"
            }
          },
          "metadata": {}
        },
        {
          "output_type": "stream",
          "name": "stderr",
          "text": [
            "/usr/local/lib/python3.10/dist-packages/transformers/tokenization_utils_base.py:1601: FutureWarning: `clean_up_tokenization_spaces` was not set. It will be set to `True` by default. This behavior will be depracted in transformers v4.45, and will be then set to `False` by default. For more details check this issue: https://github.com/huggingface/transformers/issues/31884\n",
            "  warnings.warn(\n"
          ]
        },
        {
          "output_type": "stream",
          "name": "stdout",
          "text": [
            "RATIO:  0.3333333333333333\n",
            "Precision: 0.8368298368298368\n",
            "Recall: 0.04024663677130045\n",
            "F1-score: 0.07679965771740292\n",
            "              precision    recall  f1-score   support\n",
            "\n",
            "   generated     0.5654    0.9938    0.7208     11209\n",
            "       human     0.8368    0.0402    0.0768      8920\n",
            "\n",
            "    accuracy                         0.5712     20129\n",
            "   macro avg     0.7011    0.5170    0.3988     20129\n",
            "weighted avg     0.6857    0.5712    0.4354     20129\n",
            "\n",
            "[[11139    70]\n",
            " [ 8561   359]]\n"
          ]
        },
        {
          "output_type": "display_data",
          "data": {
            "text/plain": [
              "<Figure size 640x480 with 2 Axes>"
            ],
            "image/png": "[encoded data removed]"
          },
          "metadata": {}
        }
      ]
    },
    {
      "cell_type": "code",
      "source": [
        "# Threshold value at 1/2\n",
        "for ratio in [1/2]:\n",
        "  print('RATIO: ', ratio)\n",
        "  test_model(test_dataset, tokenizer_gpt2_small_spanish, gpt2_small_spanish, ratio)"
      ],
      "metadata": {
        "colab": {
          "base_uri": "https://localhost:8080/",
          "height": 1000,
          "referenced_widgets": [
            "01834a4f8aed49089a0206a5cd74fc2f",
            "bea5cff1c1fc4258bffabde0fedb62e2",
            "e3ab77bf57924a4fa47604edb60b9005",
            "f1c77ad2b66545e5b0b71a54ad8ee2d6",
            "69146e881d9c4990a3295b15776a35fc",
            "9580cdba4b0440de8629de7d96f10a11",
            "6c685fe5b7574a459f16bf13dd574bef",
            "eb503e7a38cc4e4fa14357ff4b74c31d",
            "3c2c87be76244c8d821089d81e3befab",
            "b0b47af3257f46c3a4feda64aa68fed6",
            "06cddf4f080d4eedb587f6759881a630",
            "dda7ba776f924109af054b5442d6efa8",
            "c1a97c3f7e644b869dfdd045beaee6be",
            "338360a06a7947a3b6ba1f68af1f7623",
            "de3a534e6b514be1be88435300d6c822",
            "d7956d05f9ff491e9cf089effd2db5c0",
            "55ab246ba08b47588f6c055c182ddff6",
            "633790677cb240b1be37ab7451c57c5d",
            "e9fc407dd7bc4435aa1b406e2b90af2a",
            "16069f37361940bdaed0f38c9ebc5d2d",
            "a261daef939542fbb3c86172a5193e8c",
            "39e12f11cab04a42b0ccf051a24c44e9",
            "3779e38bc6274221905b27718337e660",
            "14935874fcf8404aa1e3ad37298fb6a5",
            "de07e5b6696f4e9e93d7325b7a8699f4",
            "354df0f1d89d432f93f9396d3e117ea3",
            "90f6d91a2cd84acb82dd6b5091a63f2b",
            "248d683baef44761857460d2118d217f",
            "b5484c2081d74559a168a7f9582e209d",
            "649528d5cf8c4d7a808635ccb1647739",
            "706c9515af9c4a52b8ff4cb281cafe7c",
            "e2244099f2bd4e3b9882e95f08c90014",
            "87940ec313b646cd8fd09cfc8452dbef",
            "d6ef2e82bc524ed7bc25917f1aca6a7e",
            "7d533c42a3ca49118550a95e793d0ae0",
            "7958f1ebba4149139955c23a87408ebd",
            "d9694d4e6b87407087339629c3c89f08",
            "bfc02c1471474610b94929d1e65e8aca",
            "1a8dd17578ca42419fa836272b87c1a3",
            "efd03e93aa8145cf82e18ecacb93220d",
            "0f4a3c0bf12e402181f8bfabd50455a9",
            "4d84060bef6b455bad6334c6076704f4",
            "10c01774571c4797aed81ff88c568edb",
            "631eb629ddc04c07874501813e7315dc",
            "2030ef62115148f6a893fca74c22b8c6",
            "a6aafd657db04dc7ac80f8a112d0d7c9",
            "9eb51a52c85d49648ad69898351713d6",
            "823e3fe81b3f4522af8050535f363084",
            "a8278473ee6048c6a129ff4073714928",
            "f7d65a15426b4f7593ae2ae588d34d22",
            "1c5d8615bd0d4e8fb457f7d6f131cc13",
            "6cd8d8817bf24ec89f5d99555f9b9346",
            "516482f244cf47f5bee653cac66529f8",
            "0c3d8243c4184f5e9ae5f0850077bafe",
            "72d6b6e4c301428895c0c836a8510671",
            "c3febbe85d954be0a4790393ecced147",
            "27e93d0e567e4bf7bf3ea8480c8fcb92",
            "5e3091f3cb124434bf2a7906cb4114d0",
            "842ca9206e9442e08d0d26b91af22f32",
            "4772040a513b4d21b8d97c4ee329ea6f",
            "1443459b7f044489a56423afc38127bb",
            "3b5fafac070e41acb4ba4123ba230908",
            "625250635a9d4827b6239d6c52e2c5d1",
            "ccf363ce458943c1bb0bb98ce4bfc3ed",
            "d774c2619ed549d8aa81122168a1def5",
            "e0fbbb3a42504d3eb15a81eaedd94200"
          ]
        },
        "id": "PDXgjN1cOyl9",
        "outputId": "e1c019dd-6ceb-48e0-834a-0ad14b306817"
      },
      "execution_count": null,
      "outputs": [
        {
          "output_type": "stream",
          "name": "stderr",
          "text": [
            "/usr/local/lib/python3.10/dist-packages/huggingface_hub/utils/_auth.py:94: UserWarning: \n",
            "The secret `HF_TOKEN` does not exist in your Colab secrets.\n",
            "To authenticate with the Hugging Face Hub, create a token in your settings tab (https://huggingface.co/settings/tokens), set it as secret in your Google Colab and restart your session.\n",
            "You will be able to reuse this secret in all of your notebooks.\n",
            "Please note that authentication is recommended but still optional to access public models or datasets.\n",
            "  warnings.warn(\n"
          ]
        },
        {
          "output_type": "display_data",
          "data": {
            "text/plain": [
              "config.json:   0%|          | 0.00/817 [00:00<?, ?B/s]"
            ],
            "application/vnd.jupyter.widget-view+json": {
              "version_major": 2,
              "version_minor": 0,
              "model_id": "01834a4f8aed49089a0206a5cd74fc2f"
            }
          },
          "metadata": {}
        },
        {
          "output_type": "display_data",
          "data": {
            "text/plain": [
              "pytorch_model.bin:   0%|          | 0.00/510M [00:00<?, ?B/s]"
            ],
            "application/vnd.jupyter.widget-view+json": {
              "version_major": 2,
              "version_minor": 0,
              "model_id": "dda7ba776f924109af054b5442d6efa8"
            }
          },
          "metadata": {}
        },
        {
          "output_type": "display_data",
          "data": {
            "text/plain": [
              "tokenizer_config.json:   0%|          | 0.00/620 [00:00<?, ?B/s]"
            ],
            "application/vnd.jupyter.widget-view+json": {
              "version_major": 2,
              "version_minor": 0,
              "model_id": "3779e38bc6274221905b27718337e660"
            }
          },
          "metadata": {}
        },
        {
          "output_type": "display_data",
          "data": {
            "text/plain": [
              "vocab.json:   0%|          | 0.00/850k [00:00<?, ?B/s]"
            ],
            "application/vnd.jupyter.widget-view+json": {
              "version_major": 2,
              "version_minor": 0,
              "model_id": "d6ef2e82bc524ed7bc25917f1aca6a7e"
            }
          },
          "metadata": {}
        },
        {
          "output_type": "display_data",
          "data": {
            "text/plain": [
              "merges.txt:   0%|          | 0.00/508k [00:00<?, ?B/s]"
            ],
            "application/vnd.jupyter.widget-view+json": {
              "version_major": 2,
              "version_minor": 0,
              "model_id": "2030ef62115148f6a893fca74c22b8c6"
            }
          },
          "metadata": {}
        },
        {
          "output_type": "display_data",
          "data": {
            "text/plain": [
              "special_tokens_map.json:   0%|          | 0.00/387 [00:00<?, ?B/s]"
            ],
            "application/vnd.jupyter.widget-view+json": {
              "version_major": 2,
              "version_minor": 0,
              "model_id": "c3febbe85d954be0a4790393ecced147"
            }
          },
          "metadata": {}
        },
        {
          "output_type": "stream",
          "name": "stderr",
          "text": [
            "/usr/local/lib/python3.10/dist-packages/transformers/tokenization_utils_base.py:1601: FutureWarning: `clean_up_tokenization_spaces` was not set. It will be set to `True` by default. This behavior will be depracted in transformers v4.45, and will be then set to `False` by default. For more details check this issue: https://github.com/huggingface/transformers/issues/31884\n",
            "  warnings.warn(\n"
          ]
        },
        {
          "output_type": "stream",
          "name": "stdout",
          "text": [
            "RATIO:  0.5\n",
            "Precision: 0.740625\n",
            "Recall: 0.3188340807174888\n",
            "F1-score: 0.4457680250783699\n",
            "              precision    recall  f1-score   support\n",
            "\n",
            "   generated     0.6270    0.9111    0.7428     11209\n",
            "       human     0.7406    0.3188    0.4458      8920\n",
            "\n",
            "    accuracy                         0.6487     20129\n",
            "   macro avg     0.6838    0.6150    0.5943     20129\n",
            "weighted avg     0.6773    0.6487    0.6112     20129\n",
            "\n",
            "[[10213   996]\n",
            " [ 6076  2844]]\n"
          ]
        },
        {
          "output_type": "display_data",
          "data": {
            "text/plain": [
              "<Figure size 640x480 with 2 Axes>"
            ],
            "image/png": "[encoded data removed]"
          },
          "metadata": {}
        }
      ]
    },
    {
      "cell_type": "code",
      "source": [
        "# Threshold value at 2/3\n",
        "for ratio in [2/3]:\n",
        "  print('RATIO: ', ratio)\n",
        "  test_model(test_dataset, tokenizer_gpt2_small_spanish, gpt2_small_spanish, ratio)"
      ],
      "metadata": {
        "colab": {
          "base_uri": "https://localhost:8080/",
          "height": 764
        },
        "id": "pio8Q46q38jl",
        "outputId": "04c9717c-3f1f-4ceb-867a-c25df557ed72"
      },
      "execution_count": null,
      "outputs": [
        {
          "output_type": "stream",
          "name": "stderr",
          "text": [
            "/usr/local/lib/python3.10/dist-packages/transformers/tokenization_utils_base.py:1601: FutureWarning: `clean_up_tokenization_spaces` was not set. It will be set to `True` by default. This behavior will be depracted in transformers v4.45, and will be then set to `False` by default. For more details check this issue: https://github.com/huggingface/transformers/issues/31884\n",
            "  warnings.warn(\n"
          ]
        },
        {
          "output_type": "stream",
          "name": "stdout",
          "text": [
            "RATIO:  0.6666666666666666\n",
            "Precision: 0.5520624611345264\n",
            "Recall: 0.8957399103139013\n",
            "F1-score: 0.6831103321506433\n",
            "              precision    recall  f1-score   support\n",
            "\n",
            "   generated     0.8356    0.4216    0.5605     11209\n",
            "       human     0.5521    0.8957    0.6831      8920\n",
            "\n",
            "    accuracy                         0.6317     20129\n",
            "   macro avg     0.6938    0.6587    0.6218     20129\n",
            "weighted avg     0.7099    0.6317    0.6148     20129\n",
            "\n",
            "[[4726 6483]\n",
            " [ 930 7990]]\n"
          ]
        },
        {
          "output_type": "display_data",
          "data": {
            "text/plain": [
              "<Figure size 640x480 with 2 Axes>"
            ],
            "image/png": "[encoded data removed]"
          },
          "metadata": {}
        }
      ]
    },
    {
      "cell_type": "code",
      "source": [
        "# Threshold value at 3/4\n",
        "for ratio in [3/4]:\n",
        "  print('RATIO: ', ratio)\n",
        "  test_model(test_dataset, tokenizer_gpt2_small_spanish, gpt2_small_spanish, ratio)"
      ],
      "metadata": {
        "outputId": "4f1759e8-9002-4db0-b4cd-3fa2349a0d6d",
        "colab": {
          "base_uri": "https://localhost:8080/",
          "height": 1000,
          "referenced_widgets": [
            "9d84d7b0e8974d94a30c2cc7f15dc6d6",
            "e1b091ef84b54691abfaf1bdf46f042e",
            "ad7876057b244964a4dce2bd859181db",
            "8c3dc99e0e7741d884c2102c7ddcb863",
            "bea1a3b89dc94d50b0c897c47e973a5a",
            "39f1d57582f440c5b3fa073b6d2fe3d1",
            "849e82c9021f4d9393f946682018a7d6",
            "f296869286d34d0096c3379aee7b790d",
            "31eb3cdfb1344181a07db4f8843319cf",
            "d6f8990745474460b2bb9642731058da",
            "e48296ccecb242f0b66b25f8b040cbc4",
            "4040ac8b95f646f89cac2d44a0578591",
            "78e8f8b1cb0143488a34085bc0c45780",
            "9c927e853efc4805a4d6fef913f5ba3f",
            "4a5c424786ad406ea1e41da988f2a1fb",
            "23a6c1831df14fa68226ffec87967202",
            "c14a05d34ba74a44af754822aac82634",
            "71d24e923c234c639cd06b15f5b47bbf",
            "e66510c1dec442c2b7e244a0bffa5d80",
            "f8abe0a339914b4da6efbe36e2684325",
            "dca8e05246b64c91a1c8105b60d93184",
            "e9e4ba5d3a9c4e3a8bc27e117219cec4",
            "3cf7135469894d7696c79dccdef0eb27",
            "0e64a799e6e2444f8bc6ed8fbd2a5660",
            "a63757724f26480196dc0cb5bf9f845d",
            "4e9c91e625fe44daa2820bc84a8e4936",
            "21bed11ad1d9448c8e57b69127d53bba",
            "0c5f45b34edc4ea799960b110691c277",
            "8250d620afba4a2d89d1ecc98b597f7a",
            "e56f13f2d8d34573b671b451cf41ad72",
            "d1142c0e5ac843e39a928e52a8964aad",
            "945cfe538272407cbfb1d15410c532bc",
            "30e29eb2e486410eb74e31ef4933b080",
            "d02df2652c4143cfb048072c27e8eec8",
            "95adaa9616684ccba9bf44e1ec75ccb7",
            "90c19e87b3e6429c821c1114d4addd73",
            "abf42519bd654eea9fae6206003a74d7",
            "e03bcc43b47f46f8820e6e16abd26fc6",
            "77d6e16d928c473781c5c284480dff1b",
            "836569979f7d471da17bf18f2700e978",
            "75cffde4a2dd40f0a34efcb5a00503ea",
            "41af6f8facdd4c0e926032e6b4bbf0cb",
            "c1d2ba59d15243cbb85fe7ff00829746",
            "20e15bdac37d4614af39ccc1fe475348",
            "d52ec2c728e342e98551a779aca0a480",
            "3e736472529f440ba893a102b43d45bb",
            "bfcbe110cbcc456bb5411dcf154447b3",
            "4be360b970e0411ab1462fcce4737f35",
            "664fa056f8e14213af99617848701559",
            "dfbb15fa1c3a42ecb4deb99b24559549",
            "8f4bccc95758467aaaeee9e354910e1e",
            "064ff901e83d421f8ae8c0a1f49f73fb",
            "46035925ab014261b978157aaa13e0c8",
            "b8d71a44eac34b51bb5120458e3b9e64",
            "e83598e2818c42cbb2393675a3e2acb4",
            "2280957d6ef6477b9115bc67c21f6789",
            "3fd2d2005daf4faf8573cfa4f57d2db0",
            "7f8ab065089246e1b073facf9474be22",
            "438f37dbaee948bfbab1ed8743d1a886",
            "7489d960f3b848e5b371ff598bb84edf",
            "342fec86dc7d458a9ff2873b02f44572",
            "f1e4900c1c4f42a482f4238bd9881d03",
            "586d2061b40748bf84350d0ca7b58208",
            "06bf8bc232194ac49219270171a7ebee",
            "c7afadc8f0414f1fb5ab0abd8a821003",
            "d492224b68bf414bac25e0f0a25a4e5e"
          ]
        },
        "id": "hTPNBvKnAGyH"
      },
      "execution_count": null,
      "outputs": [
        {
          "output_type": "stream",
          "name": "stderr",
          "text": [
            "/usr/local/lib/python3.10/dist-packages/huggingface_hub/utils/_auth.py:94: UserWarning: \n",
            "The secret `HF_TOKEN` does not exist in your Colab secrets.\n",
            "To authenticate with the Hugging Face Hub, create a token in your settings tab (https://huggingface.co/settings/tokens), set it as secret in your Google Colab and restart your session.\n",
            "You will be able to reuse this secret in all of your notebooks.\n",
            "Please note that authentication is recommended but still optional to access public models or datasets.\n",
            "  warnings.warn(\n"
          ]
        },
        {
          "output_type": "display_data",
          "data": {
            "text/plain": [
              "config.json:   0%|          | 0.00/817 [00:00<?, ?B/s]"
            ],
            "application/vnd.jupyter.widget-view+json": {
              "version_major": 2,
              "version_minor": 0,
              "model_id": "9d84d7b0e8974d94a30c2cc7f15dc6d6"
            }
          },
          "metadata": {}
        },
        {
          "output_type": "display_data",
          "data": {
            "text/plain": [
              "pytorch_model.bin:   0%|          | 0.00/510M [00:00<?, ?B/s]"
            ],
            "application/vnd.jupyter.widget-view+json": {
              "version_major": 2,
              "version_minor": 0,
              "model_id": "4040ac8b95f646f89cac2d44a0578591"
            }
          },
          "metadata": {}
        },
        {
          "output_type": "display_data",
          "data": {
            "text/plain": [
              "tokenizer_config.json:   0%|          | 0.00/620 [00:00<?, ?B/s]"
            ],
            "application/vnd.jupyter.widget-view+json": {
              "version_major": 2,
              "version_minor": 0,
              "model_id": "3cf7135469894d7696c79dccdef0eb27"
            }
          },
          "metadata": {}
        },
        {
          "output_type": "display_data",
          "data": {
            "text/plain": [
              "vocab.json:   0%|          | 0.00/850k [00:00<?, ?B/s]"
            ],
            "application/vnd.jupyter.widget-view+json": {
              "version_major": 2,
              "version_minor": 0,
              "model_id": "d02df2652c4143cfb048072c27e8eec8"
            }
          },
          "metadata": {}
        },
        {
          "output_type": "display_data",
          "data": {
            "text/plain": [
              "merges.txt:   0%|          | 0.00/508k [00:00<?, ?B/s]"
            ],
            "application/vnd.jupyter.widget-view+json": {
              "version_major": 2,
              "version_minor": 0,
              "model_id": "d52ec2c728e342e98551a779aca0a480"
            }
          },
          "metadata": {}
        },
        {
          "output_type": "display_data",
          "data": {
            "text/plain": [
              "special_tokens_map.json:   0%|          | 0.00/387 [00:00<?, ?B/s]"
            ],
            "application/vnd.jupyter.widget-view+json": {
              "version_major": 2,
              "version_minor": 0,
              "model_id": "2280957d6ef6477b9115bc67c21f6789"
            }
          },
          "metadata": {}
        },
        {
          "output_type": "stream",
          "name": "stderr",
          "text": [
            "/usr/local/lib/python3.10/dist-packages/transformers/tokenization_utils_base.py:1601: FutureWarning: `clean_up_tokenization_spaces` was not set. It will be set to `True` by default. This behavior will be depracted in transformers v4.45, and will be then set to `False` by default. For more details check this issue: https://github.com/huggingface/transformers/issues/31884\n",
            "  warnings.warn(\n"
          ]
        },
        {
          "output_type": "stream",
          "name": "stdout",
          "text": [
            "RATIO:  0.75\n",
            "Precision: 0.473366780529462\n",
            "Recall: 0.9942825112107623\n",
            "F1-score: 0.6413798090830201\n",
            "              precision    recall  f1-score   support\n",
            "\n",
            "   generated     0.9634    0.1197    0.2130     11209\n",
            "       human     0.4734    0.9943    0.6414      8920\n",
            "\n",
            "    accuracy                         0.5073     20129\n",
            "   macro avg     0.7184    0.5570    0.4272     20129\n",
            "weighted avg     0.7462    0.5073    0.4028     20129\n",
            "\n",
            "[[1342 9867]\n",
            " [  51 8869]]\n"
          ]
        },
        {
          "output_type": "display_data",
          "data": {
            "text/plain": [
              "<Figure size 640x480 with 2 Axes>"
            ],
            "image/png": "[encoded data removed]"
          },
          "metadata": {}
        }
      ]
    },
    {
      "cell_type": "code",
      "source": [
        "# Threshold value at 5/6\n",
        "for ratio in [5/6]:\n",
        "  print('RATIO: ', ratio)\n",
        "  test_model(test_dataset, tokenizer_gpt2_small_spanish, gpt2_small_spanish, ratio)"
      ],
      "metadata": {
        "id": "Ll2AXbPXcdPh",
        "colab": {
          "base_uri": "https://localhost:8080/",
          "height": 1000,
          "referenced_widgets": [
            "49d703c2783a4a91859fdf89cdb20916",
            "76583fbb7f354e01be3cee9885f32a51",
            "997abc4c4e2f4cb4b9ce634751e105d3",
            "ad559565e88f44488ec35bb1dee5adb4",
            "018e6fc181ce402faef24a9feaabbb8c",
            "413d22b6fb2d41df9dd2a2e7dc986f62",
            "5a99b5058db44877aeb7e99d3216d354",
            "db12fd3b73004e4b946f467b4607fde2",
            "c282ae769df948aca274b5dbf8dcb734",
            "92943011c4d3436ea9e643f7e879e14e",
            "6deff270dc4e4e0d813ec77fa1b3f39e",
            "a76f463e38464d348190a47d411190e2",
            "3371085f31a64a718fb4f8146f6c4386",
            "48492cde2cc74e8a96991e47bba1f5f2",
            "27ab8197cb764a87be89e4a1d0ffeda8",
            "3abf13366a5543daa9780071ad32655b",
            "b575fc6f017b4a81ad3cf92eb296875a",
            "20670595d9c448aea960eedf86a1399e",
            "8c4458546a324ce9943f48a50c89ec20",
            "ccc5bb997d57429eb40123e5f6d698a3",
            "916617e2685a43348e5f242829fba3a1",
            "25fcba671e6e4f3c97ff0367e6a2ecb7",
            "4dfbdebddff84db095ad057bc4ec2cc7",
            "423db7af396c418da8134483438bf70f",
            "9ff99301d8a74b1295461caa461e35fc",
            "5989a1e4a2a8484bb5e3c6a0f82de6ac",
            "2e80e66629eb4fd6b0e660bba7beea70",
            "e100a56b7cbc4f6d92ca828c3bad97dc",
            "eb70591ea7f9435a935b70dc2eac02d7",
            "145c3c9c2e8b4962a034b8dee4977206",
            "f604f6fd2aec43cebf12e59f668aa24a",
            "e7b4c4c668924f32b0e423a1be96c73f",
            "1389543d06f74716a5df3eb39f5bf812",
            "dba437eefce344f8bf16a8381a691345",
            "17bfd53c22104a838cd2e52be27cd054",
            "6b284e5f008744d18ca5be01ae9de8a4",
            "13ff216dbaa545f59d66599c8b679a56",
            "e20ef02f29434f329436e5e11e26d510",
            "492677ecf0794551af9d3e6449ed4459",
            "0df95e8f938a498e8392427310c64ce6",
            "dfa882e5fb314f6c84459cf83f8a64b6",
            "de666b2997d34b33bc9ac46e12c6d6b9",
            "4ba58e576808407d9242f4b0722d3b8b",
            "e3a9b650a7f041c3853ab016d04b45f6",
            "b53752096ec84d039f5b0de01d313a14",
            "6804d1b145f041c8abaa7035e2f4bdd6",
            "5b5bf2ead91a4e1d9c75563f86febaba",
            "12277a0d62194aee8d39c453678c24ef",
            "2698fbb7c5eb49848c8057f1ed938569",
            "74aa8b30c8684c3da0af9f9401f99e1f",
            "be2ab00751ee410097e73d415e7f6c7c",
            "7042bb76d62e435583a56295ffcf4d33",
            "bd7ae58dceee4685ae60e5b3132f119d",
            "64de9a84380147e0af886f9c9dfe002c",
            "92b0c7f144b74590a52493982997ea58",
            "7dd49b525ec94ebe97077dd57b4dae50",
            "f38ca01637e24664b9f37db297588c38",
            "8b3eeb870bb640828771065a12411dd1",
            "7e7b7bed994841d9b4c6b7aa27c07d83",
            "59d479c0a3b3406181be14daf491b0a5",
            "bd6472ba8ac2486d9ee7150c42cdb07e",
            "1a2c923254d44f12a0f655f09758e650",
            "1553b6449d3844729866b8e6e8b2ddea",
            "53613259a2e04d3993ce6e61a7837d7f",
            "dea8baa90dd44bea9ef749578bc115a4",
            "eae291f43c5e42b98caff3b5c30c8f09"
          ]
        },
        "outputId": "48d29a85-8165-4fa1-8f20-482aa6345276"
      },
      "execution_count": null,
      "outputs": [
        {
          "output_type": "stream",
          "name": "stderr",
          "text": [
            "/usr/local/lib/python3.10/dist-packages/huggingface_hub/utils/_auth.py:94: UserWarning: \n",
            "The secret `HF_TOKEN` does not exist in your Colab secrets.\n",
            "To authenticate with the Hugging Face Hub, create a token in your settings tab (https://huggingface.co/settings/tokens), set it as secret in your Google Colab and restart your session.\n",
            "You will be able to reuse this secret in all of your notebooks.\n",
            "Please note that authentication is recommended but still optional to access public models or datasets.\n",
            "  warnings.warn(\n"
          ]
        },
        {
          "output_type": "display_data",
          "data": {
            "text/plain": [
              "config.json:   0%|          | 0.00/817 [00:00<?, ?B/s]"
            ],
            "application/vnd.jupyter.widget-view+json": {
              "version_major": 2,
              "version_minor": 0,
              "model_id": "49d703c2783a4a91859fdf89cdb20916"
            }
          },
          "metadata": {}
        },
        {
          "output_type": "display_data",
          "data": {
            "text/plain": [
              "pytorch_model.bin:   0%|          | 0.00/510M [00:00<?, ?B/s]"
            ],
            "application/vnd.jupyter.widget-view+json": {
              "version_major": 2,
              "version_minor": 0,
              "model_id": "a76f463e38464d348190a47d411190e2"
            }
          },
          "metadata": {}
        },
        {
          "output_type": "display_data",
          "data": {
            "text/plain": [
              "tokenizer_config.json:   0%|          | 0.00/620 [00:00<?, ?B/s]"
            ],
            "application/vnd.jupyter.widget-view+json": {
              "version_major": 2,
              "version_minor": 0,
              "model_id": "4dfbdebddff84db095ad057bc4ec2cc7"
            }
          },
          "metadata": {}
        },
        {
          "output_type": "display_data",
          "data": {
            "text/plain": [
              "vocab.json:   0%|          | 0.00/850k [00:00<?, ?B/s]"
            ],
            "application/vnd.jupyter.widget-view+json": {
              "version_major": 2,
              "version_minor": 0,
              "model_id": "dba437eefce344f8bf16a8381a691345"
            }
          },
          "metadata": {}
        },
        {
          "output_type": "display_data",
          "data": {
            "text/plain": [
              "merges.txt:   0%|          | 0.00/508k [00:00<?, ?B/s]"
            ],
            "application/vnd.jupyter.widget-view+json": {
              "version_major": 2,
              "version_minor": 0,
              "model_id": "b53752096ec84d039f5b0de01d313a14"
            }
          },
          "metadata": {}
        },
        {
          "output_type": "display_data",
          "data": {
            "text/plain": [
              "special_tokens_map.json:   0%|          | 0.00/387 [00:00<?, ?B/s]"
            ],
            "application/vnd.jupyter.widget-view+json": {
              "version_major": 2,
              "version_minor": 0,
              "model_id": "7dd49b525ec94ebe97077dd57b4dae50"
            }
          },
          "metadata": {}
        },
        {
          "output_type": "stream",
          "name": "stderr",
          "text": [
            "/usr/local/lib/python3.10/dist-packages/transformers/tokenization_utils_base.py:1601: FutureWarning: `clean_up_tokenization_spaces` was not set. It will be set to `True` by default. This behavior will be depracted in transformers v4.45, and will be then set to `False` by default. For more details check this issue: https://github.com/huggingface/transformers/issues/31884\n",
            "  warnings.warn(\n"
          ]
        },
        {
          "output_type": "stream",
          "name": "stdout",
          "text": [
            "RATIO:  0.8333333333333334\n",
            "Precision: 0.4471573247768976\n",
            "Recall: 0.9998878923766816\n",
            "F1-score: 0.6179588443151113\n",
            "              precision    recall  f1-score   support\n",
            "\n",
            "   generated     0.9945    0.0162    0.0320     11209\n",
            "       human     0.4472    0.9999    0.6180      8920\n",
            "\n",
            "    accuracy                         0.4521     20129\n",
            "   macro avg     0.7208    0.5081    0.3250     20129\n",
            "weighted avg     0.7520    0.4521    0.2916     20129\n",
            "\n",
            "[[  182 11027]\n",
            " [    1  8919]]\n"
          ]
        },
        {
          "output_type": "display_data",
          "data": {
            "text/plain": [
              "<Figure size 640x480 with 2 Axes>"
            ],
            "image/png": "[encoded data removed]"
          },
          "metadata": {}
        }
      ]
    },
    {
      "cell_type": "markdown",
      "metadata": {
        "id": "YhOculnb_Tk2"
      },
      "source": [
        "# GPT-2 Medium"
      ]
    },
    {
      "cell_type": "code",
      "execution_count": null,
      "metadata": {
        "id": "qN4eGVz3_Tk3",
        "colab": {
          "base_uri": "https://localhost:8080/",
          "height": 1000,
          "referenced_widgets": [
            "f6956999856140b79879e479ef8087cf",
            "34edb787ced0445cac80ac2d44b29426",
            "0842afc88b4c43d496393261fe720f02",
            "b260966b67464183aefceaa366055d9f",
            "a642b8647e124fb5ae819340f02003bd",
            "0800baddfd294c15a877efb500aae055",
            "ab6d81e5b1964d009e5d4c406b44a980",
            "e3aa7b2d4dbd4eefb41568ae56a6d6d1",
            "1af6c64abe0e409a91ccb5db241adc29",
            "587a962df14c40d88a33300d78beda5b",
            "bc432c1b95c74df684d538a4a00ff2ba",
            "c891950835ad49baa1c574177cc64b46",
            "cc32be4c9e844b4ba2c6f692b5ebab3f",
            "3336b9d2554a472f9587bb49cbdedf8a",
            "d9f4c0a0edc84e0789a4c73c22a66902",
            "0629f021be834f539ba509f4483358cb",
            "880bada1020546f9b8bb809d85b7d42c",
            "d671bc26d76b488ea81945fb32cae165",
            "8feaeccd4d74446bb0aa5d4a0ffb8603",
            "918b1685b7944d2382071776ab5c072f",
            "1c18cb5846c74a78b214122fa87b3070",
            "8b49bce5b1284070af0025efd56e3fb1",
            "3446a0e8bf884e24ba7050818db50448",
            "732c383fe8324aa4a0add4b97e2a0fa1",
            "01772fa68dd8446898cb54de904b639d",
            "7869bc4fd1234a6794040a2d52a0adca",
            "615c544eecc54e48a8cdb5b99597ca45",
            "84123391f0ba4b91b94d69ab843905b5",
            "5d3ae0f479304ae69a424f3e7c6c3402",
            "3f4395e929b8429a88074ff5ea93e972",
            "d05475a44cc84da2b606adbc0adb67c0",
            "511a807757894971ab5d796be584ba98",
            "0e78fb6931254b42a378ce69b8171c87",
            "ea62f5ed3f44412b991c8c98e9f1cc76",
            "91592e4b2847402c9a364db5edf90b65",
            "e752d2bc904545f283326ce67fb402a6",
            "f4585739442b4c09bfa21983a631d8e3",
            "7e46b3b6f3cb496396c2025653eeba12",
            "5c41e1ba5b4c43db82729bd5d047ec2a",
            "4b8143c411ac4f4da1f2445d6a319755",
            "3563ba85fec74c48b7de07e2bc59d2cb",
            "6a745b7c654f469fa43a65eed8e1c634",
            "335911597d9c411181ae439397dd327b",
            "bc47e76428074004922a63bdebcd6876",
            "37fcbccb0a954d2ebc857817b0f679fd",
            "349f2072cade418eb048c9bae36c79b0",
            "e37268ccdd7d462488d5972ac7cf7610",
            "b21b3e67f5f24832bffa0e2477a7369a",
            "b72ce236690c47458a098ce2fe3c66ac",
            "491b630d5e2b4dbbbde84ec61a102e6d",
            "1cd4a581c0af41f7a5a61dd30e889d92",
            "56aff4dba5d943abb249b7dfedc3a96c",
            "3219762220e441d9ad835021c41a9520",
            "8c790eb7938a401c8c1998550c6185b3",
            "f7336794656447cf8fe24e60c19e5d9b",
            "41230fb88afc4f50a8187cef7efb96cc",
            "17a0f678778e431a8275bf9943feb062",
            "ffa90612b88f43db8937835d7ef75fbd",
            "4c0e223dc05f47329becf54d28e62c30",
            "e355cbb4dca24d1ebef711cd41f36a3c",
            "e05d119f414842ffb16aec4a6c6e154e",
            "28de2c904c764e97a8091341ca32d8eb",
            "445722390bb04dd0bbf46c5d6d3cd341",
            "8ccb4268c21b4aaeaddf01d3c27a922d",
            "2c948a0a64f142e3a11628e9f1629744",
            "da4e8d72eac94cdca724efda37c93e10",
            "af503bc248ed4940a7c81b9960a7de7c",
            "6512808b0ce84840b5c07eb025159211",
            "c877718833e244a3b694fe6aa5ea6ecf",
            "fcb35fecfa844ebc953a9aeaaa860779",
            "d7f6ca5e2b384952b8c68c85f5797afa",
            "b629d6a24c2d4818ae557eeb64174985",
            "700b624c9ef34b5ab7830f9f5537a7af",
            "a0a4c5da3bf24a8486aad355c577cc6e",
            "437bd2c4726f4125a8e89ec9684bfe1d",
            "2bd5c1dad8f6421089a7eb3b56a00048",
            "24d6f5ea2ea545ff8a3951aa6b81e70c"
          ]
        },
        "outputId": "435974c2-824a-48ef-ae72-fb2f174b8669"
      },
      "outputs": [
        {
          "output_type": "stream",
          "name": "stderr",
          "text": [
            "/usr/local/lib/python3.10/dist-packages/huggingface_hub/utils/_auth.py:94: UserWarning: \n",
            "The secret `HF_TOKEN` does not exist in your Colab secrets.\n",
            "To authenticate with the Hugging Face Hub, create a token in your settings tab (https://huggingface.co/settings/tokens), set it as secret in your Google Colab and restart your session.\n",
            "You will be able to reuse this secret in all of your notebooks.\n",
            "Please note that authentication is recommended but still optional to access public models or datasets.\n",
            "  warnings.warn(\n"
          ]
        },
        {
          "output_type": "display_data",
          "data": {
            "text/plain": [
              "config.json:   0%|          | 0.00/718 [00:00<?, ?B/s]"
            ],
            "application/vnd.jupyter.widget-view+json": {
              "version_major": 2,
              "version_minor": 0,
              "model_id": "f6956999856140b79879e479ef8087cf"
            }
          },
          "metadata": {}
        },
        {
          "output_type": "display_data",
          "data": {
            "text/plain": [
              "model.safetensors:   0%|          | 0.00/1.52G [00:00<?, ?B/s]"
            ],
            "application/vnd.jupyter.widget-view+json": {
              "version_major": 2,
              "version_minor": 0,
              "model_id": "c891950835ad49baa1c574177cc64b46"
            }
          },
          "metadata": {}
        },
        {
          "output_type": "display_data",
          "data": {
            "text/plain": [
              "generation_config.json:   0%|          | 0.00/124 [00:00<?, ?B/s]"
            ],
            "application/vnd.jupyter.widget-view+json": {
              "version_major": 2,
              "version_minor": 0,
              "model_id": "3446a0e8bf884e24ba7050818db50448"
            }
          },
          "metadata": {}
        },
        {
          "output_type": "display_data",
          "data": {
            "text/plain": [
              "tokenizer_config.json:   0%|          | 0.00/26.0 [00:00<?, ?B/s]"
            ],
            "application/vnd.jupyter.widget-view+json": {
              "version_major": 2,
              "version_minor": 0,
              "model_id": "ea62f5ed3f44412b991c8c98e9f1cc76"
            }
          },
          "metadata": {}
        },
        {
          "output_type": "display_data",
          "data": {
            "text/plain": [
              "vocab.json:   0%|          | 0.00/1.04M [00:00<?, ?B/s]"
            ],
            "application/vnd.jupyter.widget-view+json": {
              "version_major": 2,
              "version_minor": 0,
              "model_id": "37fcbccb0a954d2ebc857817b0f679fd"
            }
          },
          "metadata": {}
        },
        {
          "output_type": "display_data",
          "data": {
            "text/plain": [
              "merges.txt:   0%|          | 0.00/456k [00:00<?, ?B/s]"
            ],
            "application/vnd.jupyter.widget-view+json": {
              "version_major": 2,
              "version_minor": 0,
              "model_id": "41230fb88afc4f50a8187cef7efb96cc"
            }
          },
          "metadata": {}
        },
        {
          "output_type": "display_data",
          "data": {
            "text/plain": [
              "tokenizer.json:   0%|          | 0.00/1.36M [00:00<?, ?B/s]"
            ],
            "application/vnd.jupyter.widget-view+json": {
              "version_major": 2,
              "version_minor": 0,
              "model_id": "af503bc248ed4940a7c81b9960a7de7c"
            }
          },
          "metadata": {}
        },
        {
          "output_type": "stream",
          "name": "stderr",
          "text": [
            "/usr/local/lib/python3.10/dist-packages/transformers/tokenization_utils_base.py:1601: FutureWarning: `clean_up_tokenization_spaces` was not set. It will be set to `True` by default. This behavior will be depracted in transformers v4.45, and will be then set to `False` by default. For more details check this issue: https://github.com/huggingface/transformers/issues/31884\n",
            "  warnings.warn(\n"
          ]
        },
        {
          "output_type": "stream",
          "name": "stdout",
          "text": [
            "Precision: 0.49783204016430854\n",
            "Recall: 0.9782511210762331\n",
            "F1-score: 0.6598608590441621\n",
            "              precision    recall  f1-score   support\n",
            "\n",
            "   generated     0.9254    0.2147    0.3486     11209\n",
            "       human     0.4978    0.9783    0.6599      8920\n",
            "\n",
            "    accuracy                         0.5531     20129\n",
            "   macro avg     0.7116    0.5965    0.5042     20129\n",
            "weighted avg     0.7359    0.5531    0.4865     20129\n",
            "\n",
            "[[2407 8802]\n",
            " [ 194 8726]]\n"
          ]
        },
        {
          "output_type": "display_data",
          "data": {
            "text/plain": [
              "<Figure size 640x480 with 2 Axes>"
            ],
            "image/png": "[encoded data removed]"
          },
          "metadata": {}
        }
      ],
      "source": [
        "import torch\n",
        "from transformers import AutoModelForCausalLM, AutoTokenizer\n",
        "\n",
        "device = torch.device(\"cuda\" if torch.cuda.is_available() else \"cpu\")\n",
        "\n",
        "# Access model and tokenizer\n",
        "gpt2_medium = AutoModelForCausalLM.from_pretrained(\"gpt2-medium\").to(device)\n",
        "tokenizer_gpt2_medium = AutoTokenizer.from_pretrained(\"gpt2-medium\")\n",
        "gpt2_medium.eval()\n",
        "# Define start token\n",
        "start_token = tokenizer_gpt2_medium(tokenizer_gpt2_medium.bos_token, return_tensors='pt').data['input_ids'][0]\n",
        "\n",
        "# Threshold value at 2/3\n",
        "test_model(test_dataset, tokenizer_gpt2_medium, gpt2_medium, 2/3)"
      ]
    },
    {
      "cell_type": "markdown",
      "metadata": {
        "id": "BQFOe8Gc_V4t"
      },
      "source": [
        "# GPT-2 Large"
      ]
    },
    {
      "cell_type": "code",
      "execution_count": null,
      "metadata": {
        "colab": {
          "base_uri": "https://localhost:8080/",
          "height": 972,
          "referenced_widgets": [
            "3a86b364cf5e4834b07139416211795c",
            "eebbdc666e3c49aaa5cd003208c977fc",
            "3cc43d43410245459b739104d682224a",
            "67997f2a57964f2bb064777aa81f8307",
            "a6d1f9fda1874db99d6d7edebc2144e5",
            "4811d4c9ca0940918aee2a6a73b87ec0",
            "a06f517b663f48d6b0e3f230f833df69",
            "cc9cd29ba2c8485aaff925af2bca8160",
            "0a1a09e94ec447b6bfe319ffe3251583",
            "ad99e541022a40eb85a0df3caf210b11",
            "60fbe73e2a514ebe814498d0530fdb9f",
            "8cb42d51e96245efa1f06447af5462d7",
            "3d30453090d14d608c17c231c2635ee0",
            "c5457aae5cb6433c8749d7ee32976283",
            "6b9ca1a96f2a4cffbb1323850520fbdb",
            "cdb17ee6a888470082fb88607eabbc76",
            "ba814d1a9ae84559ad2b8fdd50c0e42a",
            "5ec91a2fa6874ff899be81f3b9b6471d",
            "5443943d6e0945f596c34539984be9b0",
            "9e020367461047afad634bf5bfc67a38",
            "8c12fbd09cd2494294640fd734d03139",
            "734fcadf8e94456caa78351ad43df269",
            "74dc06913e33448580d739198ee577ad",
            "a6d40a2709084a759967296f399cb675",
            "b810c8134d1f46c4a145adba1a2f4037",
            "d753658a346d4ade90136628935ec86f",
            "eda4d7220cdf47ad9838d9e7d63779a4",
            "11e27dd3ce8349f6acbee64cbd1ab472",
            "e519cc855dae489c8430eca0b6aad5ee",
            "eb57d9d66f6144aba9b2c2eac62d4b18",
            "6b6d69d1eae94a5786cd98fde4c21aa5",
            "15f2c127b0e6435bbb1275e8b2643510",
            "3e0b9f506d894e1ca5dda3f8e4104509",
            "fe3c1d55962d4286b7f9fa79eae4e823",
            "45ebd8b97740467aaef930be6cced14d",
            "63f7f1df2fc54f2d9ced938d86f240f7",
            "111b749ccaa84048b18ebd47a053d43b",
            "203ef5df27c947a1a214bc0ee87ed1fe",
            "d2cb25524a1c4c0ab69918fd0cc4ab6f",
            "619eb60df62e4e7f8df53482b92049a8",
            "377270f541d840a39e797a7b37edeb32",
            "c294641de3d3489ab8b9bb16e8df9c95",
            "83e9a3bcd19d499b870c7d827262e82f",
            "3b0fb839d2fe44c9bcc91a636b168fd9",
            "5b9405b3da9248428231bbef83ece7a0",
            "aec2632490a446fdb5defff72504d04d",
            "495db28bf976458e857cdae8db53213a",
            "32010ef0423546d8bf89684d4035e923",
            "3d0584ce733c4d0797b236b260781c4a",
            "b8142fb478e34f229d052bb324557113",
            "f6eaa7c6d1fd4889b4029d31af650368",
            "9d96893217e04457afde4e3809fb866d",
            "5a72c8842a8545f5a1e8dbd6ea3b12e0",
            "7949de0eaa8546579414bc4b51eacb0c",
            "4f0e7e58c9444674b267eed87bf991e9",
            "1ea4fee0ccb240a5bf8e2b517e148eb9",
            "9dc6ae07a4334ae8968ce2813f71a071",
            "3dbf181f9b6f42e199680c70d4c5655a",
            "d6eef67accc34a17ad8a34179ebde745",
            "d9d75d4666914c1a844f25be35a4e96e",
            "0061018443b34936a787b6336bc87b6a",
            "b056183c50a84a00982e7ceb03dda9ce",
            "29f04e377ed04ab59a14f5603479fe58",
            "ca4b8d1799884a99936658b68c39a156",
            "e401c56e96e94bf783c617a6cd11b2e8",
            "b60a8ac4ad014ef0b88e9980d9371565",
            "45761873af664bc3a26fd67894be2e71",
            "9f3aa676c617438d8312f737fba48213",
            "2557836cad714ea5bc3cee1337b85a97",
            "d1488c55fc0e480c8fb4f383bc13f3d3",
            "6ae81f0f84bd4c2ab0018d5069a3ec24",
            "a30a729ddb9a45c1af4ede2ff4cc3b4c",
            "ba043ebeba684d7bb09b863d5c7a4d92",
            "6692e81a68cf454c8870368150ec30e1",
            "5161c0e7dc0946f59fc033d5c9395d44",
            "e5f92accef1340439feaefb6451fba68",
            "64dca22cc0264e44b23cea6d017cf2e7"
          ]
        },
        "id": "0lWoI_Gm_V4v",
        "outputId": "b9c3c376-b123-4af9-cc04-9ca4d9882de3"
      },
      "outputs": [
        {
          "data": {
            "application/vnd.jupyter.widget-view+json": {
              "model_id": "3a86b364cf5e4834b07139416211795c",
              "version_major": 2,
              "version_minor": 0
            },
            "text/plain": [
              "config.json:   0%|          | 0.00/666 [00:00<?, ?B/s]"
            ]
          },
          "metadata": {},
          "output_type": "display_data"
        },
        {
          "data": {
            "application/vnd.jupyter.widget-view+json": {
              "model_id": "8cb42d51e96245efa1f06447af5462d7",
              "version_major": 2,
              "version_minor": 0
            },
            "text/plain": [
              "model.safetensors:   0%|          | 0.00/3.25G [00:00<?, ?B/s]"
            ]
          },
          "metadata": {},
          "output_type": "display_data"
        },
        {
          "data": {
            "application/vnd.jupyter.widget-view+json": {
              "model_id": "74dc06913e33448580d739198ee577ad",
              "version_major": 2,
              "version_minor": 0
            },
            "text/plain": [
              "generation_config.json:   0%|          | 0.00/124 [00:00<?, ?B/s]"
            ]
          },
          "metadata": {},
          "output_type": "display_data"
        },
        {
          "data": {
            "application/vnd.jupyter.widget-view+json": {
              "model_id": "fe3c1d55962d4286b7f9fa79eae4e823",
              "version_major": 2,
              "version_minor": 0
            },
            "text/plain": [
              "tokenizer_config.json:   0%|          | 0.00/26.0 [00:00<?, ?B/s]"
            ]
          },
          "metadata": {},
          "output_type": "display_data"
        },
        {
          "data": {
            "application/vnd.jupyter.widget-view+json": {
              "model_id": "5b9405b3da9248428231bbef83ece7a0",
              "version_major": 2,
              "version_minor": 0
            },
            "text/plain": [
              "vocab.json:   0%|          | 0.00/1.04M [00:00<?, ?B/s]"
            ]
          },
          "metadata": {},
          "output_type": "display_data"
        },
        {
          "data": {
            "application/vnd.jupyter.widget-view+json": {
              "model_id": "1ea4fee0ccb240a5bf8e2b517e148eb9",
              "version_major": 2,
              "version_minor": 0
            },
            "text/plain": [
              "merges.txt:   0%|          | 0.00/456k [00:00<?, ?B/s]"
            ]
          },
          "metadata": {},
          "output_type": "display_data"
        },
        {
          "data": {
            "application/vnd.jupyter.widget-view+json": {
              "model_id": "45761873af664bc3a26fd67894be2e71",
              "version_major": 2,
              "version_minor": 0
            },
            "text/plain": [
              "tokenizer.json:   0%|          | 0.00/1.36M [00:00<?, ?B/s]"
            ]
          },
          "metadata": {},
          "output_type": "display_data"
        },
        {
          "name": "stderr",
          "output_type": "stream",
          "text": [
            "/usr/local/lib/python3.10/dist-packages/transformers/tokenization_utils_base.py:1601: FutureWarning: `clean_up_tokenization_spaces` was not set. It will be set to `True` by default. This behavior will be depracted in transformers v4.45, and will be then set to `False` by default. For more details check this issue: https://github.com/huggingface/transformers/issues/31884\n",
            "  warnings.warn(\n"
          ]
        },
        {
          "name": "stdout",
          "output_type": "stream",
          "text": [
            "Precision: 0.5397163592782476\n",
            "Recall: 0.908744394618834\n",
            "F1-score: 0.6772212707297716\n",
            "              precision    recall  f1-score   support\n",
            "\n",
            "   generated     0.8407    0.3833    0.5265     11209\n",
            "       human     0.5397    0.9087    0.6772      8920\n",
            "\n",
            "    accuracy                         0.6161     20129\n",
            "   macro avg     0.6902    0.6460    0.6019     20129\n",
            "weighted avg     0.7073    0.6161    0.5933     20129\n",
            "\n",
            "[[4296 6913]\n",
            " [ 814 8106]]\n"
          ]
        },
        {
          "data": {
            "image/png": "[encoded data removed]",
            "text/plain": [
              "<Figure size 640x480 with 2 Axes>"
            ]
          },
          "metadata": {},
          "output_type": "display_data"
        }
      ],
      "source": [
        "import torch\n",
        "from transformers import AutoModelForCausalLM, AutoTokenizer\n",
        "\n",
        "device = torch.device(\"cuda\" if torch.cuda.is_available() else \"cpu\")\n",
        "\n",
        "# Access model and tokenizer\n",
        "gpt2_large = AutoModelForCausalLM.from_pretrained(\"gpt2-large\").to(device)\n",
        "tokenizer_gpt2_large = AutoTokenizer.from_pretrained(\"gpt2-large\")\n",
        "gpt2_large.eval()\n",
        "# Define start token\n",
        "start_token = tokenizer_gpt2_large(tokenizer_gpt2_large.bos_token, return_tensors='pt').data['input_ids'][0]\n",
        "\n",
        "# Threshold value at 2/3\n",
        "test_model(test_dataset, tokenizer_gpt2_large, gpt2_large, 2/3)"
      ]
    },
    {
      "cell_type": "markdown",
      "metadata": {
        "id": "X8I954CN_WEq"
      },
      "source": [
        "# GPT-2 XL"
      ]
    },
    {
      "cell_type": "code",
      "execution_count": null,
      "metadata": {
        "id": "d9NL1WM9_WEr",
        "colab": {
          "base_uri": "https://localhost:8080/",
          "height": 834,
          "referenced_widgets": [
            "231b7cb190b64ab1978c1e76477029ba",
            "b017313fcdff4fad867dbe81679f8e36",
            "afaca1a05ee44f09b07d71d3b18df67a",
            "59dc78825b1e4b7f95864266c6377882",
            "97a6a87c1ac74a32887f8dfd6f61c10e",
            "ba670a6079dd42c8bfc2e66e04958346",
            "f505ae2c45bb44a2ab8d509f97ddb740",
            "a0c0e3994fc64dc8af93856c88834f87",
            "269dcc4a808f471f80eeef9040b91db1",
            "0521a1ddaf904d56bdc2792124f20fb8",
            "1f04c4df2e6946fc897c45bb5071090c",
            "bb64885dca594359815bffd8b6dc7547",
            "bf65aa2e4dee413e8af0c2588b3c3882",
            "587eddd28a28426e9e7db521cc6109bc",
            "8d945fccbaac4d6888be4499ce5f18f4",
            "223c900ac1734d8ba35dd891f529e4f1",
            "27825e8b21fb4744ab2e5b82fef51c89",
            "f0b4dbdf381048a08fde12b070942a2d",
            "35e79c39b66140c8a0409af76c3769c6",
            "3e0f5180b85b47819120aff0c9f83b02",
            "7e682198fd6a47b1bd780fb61b7a4c0a",
            "d566f5d89a50456b8b4f8df254dcfdd1",
            "12123e21c5714ba3b49f8297fec9abb7",
            "7baabcc3b535447daac76a82d46dd048",
            "ade191dd37d3433ea1a6ad87d004e37e",
            "ad7b58fc24ee469ea984e2ce7570ef1f",
            "7931dd5e01c240ba962ad90c498cc2b5",
            "2c57dc9c69ca4bcba658bb5da5a1fd87",
            "dc0e8e9d5da243e99726dffae339f613",
            "df8c21b08a78400da2a3d5fb8136abf6",
            "572320c1edce443fbddfeea9f6ec6951",
            "db524a1af06a4c088a04e25f8618dd0c",
            "97b65f2c2b004a718690b0a410b38690",
            "f42f1e6785964c4999e1480fd154c18f",
            "7ffd71a706b64c55b4697b2944a042f6",
            "ad8896bfc3724a3580768d4b06ba5fe2",
            "591e88b631db4322a9f738c9fb502a8f",
            "55f70e00366c4ceeac88150a6e063797",
            "757f038701cd4b9398dd4b3a369198e2",
            "6a87107779b34c22b71a946e5f5b4a4f",
            "baf0f91fab294482a238b49dff23c71a",
            "d033eae541cc4cf2abda9d61a572660d",
            "708a8ab6fd8141f7a914235561c81df4",
            "ed6443c5df074251bc1c9bd0552d7254"
          ]
        },
        "outputId": "df1df84a-61d9-46af-fa30-c10fea5d01db"
      },
      "outputs": [
        {
          "output_type": "display_data",
          "data": {
            "text/plain": [
              "tokenizer_config.json:   0%|          | 0.00/26.0 [00:00<?, ?B/s]"
            ],
            "application/vnd.jupyter.widget-view+json": {
              "version_major": 2,
              "version_minor": 0,
              "model_id": "231b7cb190b64ab1978c1e76477029ba"
            }
          },
          "metadata": {}
        },
        {
          "output_type": "display_data",
          "data": {
            "text/plain": [
              "vocab.json:   0%|          | 0.00/1.04M [00:00<?, ?B/s]"
            ],
            "application/vnd.jupyter.widget-view+json": {
              "version_major": 2,
              "version_minor": 0,
              "model_id": "bb64885dca594359815bffd8b6dc7547"
            }
          },
          "metadata": {}
        },
        {
          "output_type": "display_data",
          "data": {
            "text/plain": [
              "merges.txt:   0%|          | 0.00/456k [00:00<?, ?B/s]"
            ],
            "application/vnd.jupyter.widget-view+json": {
              "version_major": 2,
              "version_minor": 0,
              "model_id": "12123e21c5714ba3b49f8297fec9abb7"
            }
          },
          "metadata": {}
        },
        {
          "output_type": "display_data",
          "data": {
            "text/plain": [
              "tokenizer.json:   0%|          | 0.00/1.36M [00:00<?, ?B/s]"
            ],
            "application/vnd.jupyter.widget-view+json": {
              "version_major": 2,
              "version_minor": 0,
              "model_id": "f42f1e6785964c4999e1480fd154c18f"
            }
          },
          "metadata": {}
        },
        {
          "output_type": "stream",
          "name": "stdout",
          "text": [
            "Precision: 0.5887359198998748\n",
            "Recall: 0.7910313901345292\n",
            "F1-score: 0.6750538148768237\n",
            "              precision    recall  f1-score   support\n",
            "\n",
            "   generated     0.7711    0.5603    0.6490     11209\n",
            "       human     0.5887    0.7910    0.6751      8920\n",
            "\n",
            "    accuracy                         0.6625     20129\n",
            "   macro avg     0.6799    0.6756    0.6620     20129\n",
            "weighted avg     0.6903    0.6625    0.6605     20129\n",
            "\n",
            "[[6280 4929]\n",
            " [1864 7056]]\n"
          ]
        },
        {
          "output_type": "display_data",
          "data": {
            "text/plain": [
              "<Figure size 640x480 with 2 Axes>"
            ],
            "image/png": "[encoded data removed]"
          },
          "metadata": {}
        }
      ],
      "source": [
        "import torch\n",
        "from transformers import AutoModelForCausalLM, AutoTokenizer\n",
        "\n",
        "device = torch.device(\"cuda\" if torch.cuda.is_available() else \"cpu\")\n",
        "\n",
        "# Access model and tokenizer\n",
        "gpt2_xl = AutoModelForCausalLM.from_pretrained(\"gpt2-xl\").to(device)\n",
        "tokenizer_gpt2_xl = AutoTokenizer.from_pretrained(\"gpt2-xl\")\n",
        "gpt2_xl.eval()\n",
        "# Define start token\n",
        "start_token = tokenizer_gpt2_xl(tokenizer_gpt2_xl.bos_token, return_tensors='pt').data['input_ids'][0]\n",
        "\n",
        "# Threshold value at 2/3\n",
        "test_model(test_dataset, tokenizer_gpt2_xl, gpt2_xl, 2/3)"
      ]
    },
    {
      "cell_type": "markdown",
      "source": [
        "# **Conclusions**\n",
        "**Best Threshold Value:**\n",
        "\n",
        "The best Generated F1-score is obtained at the 1/2 threshold with 74.28%, while the highest Human F1-score at the threshold 2/3 with 68.31%.\n",
        "Overall, the optimal threshold that achieves the balanced performance between the Generated and Human categories and highest macro F1-score of 62.18%, is 2/3.\n",
        "\n",
        "\n",
        "**Best GPT-2 Model:**\n",
        "\n",
        "The best macro F1-score is achieved with `gpt2-xl` with 66.20%, and with Generated and Human F1-scores of 64.90% and 67.51%, respectively. Moreover, we notice that `gpt2-small-spanish` performs worse regardless of it being trained with Spanish Wikipedia. This could be due to `gpt2-small-spanish` being much smaller in terms of the number of parameters.\n",
        "\n",
        "Out of 11,209 generated texts, the model correctly identifies 6,280 as generated, but it mistakenly classifies 4,929 as human-written (false positives). For the 8,920 human-written texts, it accurately labels 7,056 as human, while 1,864 are incorrectly classified as generated (false negatives). Although overall the model performs well, it still has room for improvement in distinguishing between generated and human-written texts, especially in reducing false positives and false negatives.\n",
        "\n",
        "![image.png](data:image/png;base64,iVBORw0KGgoAAAANSUhEUgAAAgMAAAGyCAIAAAD2x1BNAAAgAElEQVR4Ae2dCVwVVfvHR3m9l8VQDHLH1HytpMRK3Ns0TDNN34q00tI0E01TQTH9k+ZaZppbqCEuuO8GgoqI+4Isyio7F2VRNgEvyDL/dF4P973A8Hgdlrn3dz/Pp54755m5c76X8/vNOTMgx+MFAiAAAiBg2AQ4w+4+eg8CIAACIMDDCfBDAAIgAAKGTgBOYOg/Aeg/CIAACMAJ8DMAAiAAAoZOAE5g6D8B6D8IgAAIwAnwMwACIAAChk4ATmDoPwHoPwiAAAjACfAzAAIgAAKGTgBOYOg/Aeg/CIAACNQvJygtLVWpVDk5Obl4gQAIgIAUBHJyclQqVWlpqSRyr1ardTgptVotyafX3EHqlxOoVCoOLxAAARCQmoBKpXp6GVWr1dy/THU4tRYtWoibQbt27bQOO2nSJJ7n1Wr1pEmTmjVrZmZmNmLEiLS0NNaLpKSkwYMHm5iYWFlZzZw5s7i4mDX5+/t369ZNoVB07Nhx8+bNbLtIUr+cICcnh+M40w9XmI1YjwABcQIDV55CgEC1BPovPcpxXE5OjogOEptyc3M5jlO+PEb5yvgniJfHcByXm5sr8ikZGRmpj18nTpzgOM7f35/n+YkTJ7Zt29bPzy8wMLBnz569e/cWDlJSUmJjYzNgwIDg4GBvb29LS0sXFxehKT4+3tTUdPr06REREatXrzYyMvLx8RH5aKGpfjmBANpsxPrGDh4IEBAnMMTtCgIEqiUwcOWpaoW4WqEUCv7rBK9+a9xtCj2Ur377RCcwderUjh07lpWV5eTkNGrUaO/evcKnR0ZGchx38eJFnue9vb0bNmzIpgjr1683NzcvKiried7Z2blLly6sRw4ODgMHDmRvq0rgBLAcuRKoVgJQAAJD3K5I7wRdvzV+7Xt6KLs+dAKVSsVuMBQWFlalyEVFRc8+++yiRYt4nvfz8+M4Ljs7mxVbW1uvWLGC5/l58+Z17dqVbY+Pj+c4Ligo6J+9+vXrN3XqVNbk7u5ubm7O3laVwAnkqoPi18uG0AqZAwEKAemdwPY749en0UNp+53WPQBXV9eqFHn37t1GRka3bt3ied7T01OhUGhWdu/e3dnZmef58ePH29vbs6aCggKO47y9vf/Zq1OnTosXL2ZNXl5eHMfdv3+fbak0gRPACeRKgKICqAGBeuIExDmBvb39kCFDBLGGE+A+gVzVuTbnItA4EKAQkN4Juk0yfuMHeii7TSLeJ0hMTGzYsOGhQ4cEJ8DqEJwATlA9AYoKoAYEpHeC1yYbd59BD+Vrk4lO4Orq2qJFC/Y8qHDHeN++fYIxREVFad0xTk9PF5rc3NzMzc2F2w/Ozs42NjbCdp7nR44ciTvG1atJbV7D4rOkJQCNAwEKAbk4QWlpqbW19axZs5iIC0+RWltbnzp1KjAwsNejl9AqPEVqb28fEhLi4+NjZWWl9RSpk5NTZGTk2rVr8RQpbEDPCVBUADUgIL0TvD7F2G4mPZSvT6HMCXx9fTmOi46O1nQC4TfLLCwsTE1Nhw8fnpqayloTExMHDRpkYmJiaWk5Y8YMNpPged7f39/W1lahUHTo0EGWv1mG3yeQ9qpZv48GjQMBCoEacIKpxj2c6aF8fSrFCZjE10mCZ4f0/MJZj82AogKoAQE4AcVa4ARwArkSgMaBAIWA9E7wxjTjnrPooXxjGuYEFDcqr8HqkB5fwkveNYoKoAYEpHeC7tONe7nQQ9l9OpygXOUpGZxAcrnU4wNC40CAQgBOQNFerA7JdW1EjyWe2DWKCqAGBKR3ArsZxr3n0ENpNwNzAooblddgTkAUQZQ1dvCAxoEAhYD0TtDDybjPXHooezjBCcpVnpLBCSDxdAIUFUANCEjvBD2djfvOo4eypzOcgKL/5TVwAroOohIaBwIUAnCCcoWtOsN9AtwnkCsBigqgBgSkd4Jes437udJD2Ws25gRVe1BlLZgT4EqfTgAaBwIUAtI7QW8X4zfn00PZ2wVOUJneV70NTkDXQVRSVAA1IAAnqFpxy1uwOiTXtRE4ATQOBCgEpHeCvnOM315AD2XfOZgTlHsOJcOcAPpOJ0BRAdSAgPRO0G+u8TsL6aHsNxdOQNH/8ho4AV0HUQmNAwEKAThBucJWnWF1CKtDciVAUQHUgID0TvDmPON3F9FD+eY8zAmq9qDKWjAnwJU+nQA0DgQoBKR3grdcjfsvoYfyLVc4QWV6X/U2OAFdB1FJUQHUgACcoGrFLW/B6pBc10bgBNA4EKAQkN4J3v7JeMBSeijf/glzgnLPoWSYE0Df6QQoKoAaEJDeCd5ZYPzeL/RQvrMATkDR//IaOAFdB1EJjQMBCgHpneDdn43tf6WH8t2f4QTlKk/J4ATQdzoBigqgBgTgBBTtxX0C3CeQKwFoHAhQCEjvBP0XGQ/8jR7K/oswJ6C4UXkN5gT0K2JUUlQANSAgvRMMWGz8/gp6KAcshhOUqzwlgxNA3+kEoHEgQCEAJ6BoL1aH5Lo2QldMfa2kqABqQKAGnGCp8aCV9FAOWIo5AcWNymswJ9BX1a6JfkHjQIBCQHoneG+Z8eBV9FC+twxOUK7ylAxOUBOKqa/HpKgAakAATkDRXqwOYXVIrgSgcSBAISC9E9j/YvzBanoo7X/BnIDiRuU1mBPo6/V7TfSLogKoAQHpnWDgcuMha+mhHLgcTlCu8pQMTlATiqmvx4TGgQCFAJyAor1YHZLr2oi+6ju9XxQVQA0ISO8E7/9m/OE6eijf/w1zAooblddgTkDXQVRC40CAQkB6Jxj0u/HQP+mhHPQ7nKBc5SkZnAD6TidAUQHUgID0TjB4pfEwN3ooB6+EE1D0v7wGTkDXQVRC40CAQgBOUK6wVWe4T4D7BHIlQFEB1ICA9E7wwR/GH22kh/KDPzAnqNqDKmvBnABX+nQC0DgQoBCQ3gmGrDYevokeyiGr4QSV6X3V2+AEdB1EJUUFUAMCcIKqFbe8BatDcl0bgRNA40CAQkByJzD+cI3JiL/oYfzhGswJyj2HkmFOAH2nE6CoAGpAQHInMBm61vQ/7vQwGboWTkDR//IaOAFdB1EJjQMBCgE4QbnCVp1hdQirQ3IlQFEB1ICA9E4wbK3px+70MBmGOUHVFlRpC+YEuNKnE4DGgQCFgOROYPrROrNPNtPD9KN1WB2qVPCr3AgnoOsgKikqgBoQgBNUKbgaDVgdkuvaCJwAGgcCFAKSO4HZ8PWNP/Wgh9nw9ZgTaJgOIcWcAPpOJ0BRAdSAgORO0HjEn884bKFH4xF/wgkI8q9RAieg6yAqoXEgQCEguRM88x8388+20uOZ/7jBCTRknpDCCaDvdAIUFUANCMAJCNLL4z4B7hPIlQA0DgQoBKR3go/dzEdupcczH2NOQDEjjRrMCehXxKikqABqQEByJzD/ZEOTUdvoYf7JBqwOacg8IYUTQN/pBKBxIEAhACcgSC9WhxzkujZCV0x9raSoAGpAQHInaPLphqafb6dHk08xJ6CYkUYN5gT6qto10S9oHAhQCEjuBE0/3WjxhSc9mn66EatDGjJPSOEENaGY+npMigqgBgTgBATpxeoQVodkSwAaBwIUApI7gYXDpmZf7qCHhcMmzAkoblRegzmBvl6/10S/KCqAGhCQ3gk+29Rs9A56WHwGJygXeVIGJ6gJxdTXY0LjQIBCAE5AEV/8ZhmeHZIrAYoKoAYEpHeCkX89O2YnPSxG/oXVIYoblddgTqCv1+810S9oHAhQCEjuBM1GuVt+tYsezUa5wwnKVZ6SwQlqQjH19ZgUFUANCEjuBM9+vtnq6930ePbzzXACiv6X18AJ9FW1a6Jf0DgQoBCAE5QrbNUZ7hPIdZW8JrRVXsekqABqQEB6J/his9XY3fR49gvSnCAlJeXzzz9v1qyZsbGxjY3N1atXBd0uKyubN29eixYtjI2N+/fvf/PmTabnmZmZo0aNeuaZZ5o0aTJ27Ni8vDzWFBoa2rdvX6VS2aZNm2XLlrHtVSVwAjiBXAlA40CAQkByJ7D80uO5cXvoYfmlR7WrQ1lZWe3atfvqq68uX74cHx/v6+sbGxsrqPbSpUubNGly6NCh0NDQoUOHtm/fXq1WC03vv/9+165dL126dPbs2RdeeGHkyJHC9tzc3ObNm3/++edhYWE7d+40MTFxc3OrygOE7XACueqgvK7fa+JsKSqAGhCQhRPMmjWrb9++FcW6rKysRYsWv/76q9CUk5OjVCp37tzJ83xERATHcWzqcOzYsQYNGty6dYvn+XXr1llYWBQVFQl7zZo1q3PnzhUPrrkFTgAnkCsBaBwIUAhI7gRWo7c0/2YvPaxGb+E4TqVS5T5+FRYWaqowz/MvvfTStGnTPv74YysrK1tb2w0bNggFcXFxHMcFBwez+jfffPP777/nef6vv/5q2rQp215cXGxkZHTgwAGe57/88sthw4axplOnTnEcl5WVxbZUTOAEctXBmrjKltcxKSqAGhCQ3AmeG7O1xfh99HhuzFbuf1+urq5aWqx89HJxcQkKCnJzczM2Nvbw8OB5/vz58xzH3b59m9V/8sknn376Kc/zixYt+ve//8228zxvZWW1bt26f/Z67733JkyYwJrCw8M5jouIiGBbKiZwAjiBXAlA40CAQqCeOIH4nKBRo0a9evViAj1lypSePXvCCdbL6+IUZ1snBCgqgBoQkNwJmn+1reWE/fRo/tW2au8YW1tbjxs3jjnBunXrWrVq9c86D1aH5HqhWieaaJgfCo0DAQoB6Z3g620tv91Pj+ZfV+8EI0eO1LxjPG3aNGGKINwxXr58uWASubm5WneMAwMDhSZfX1+tO8YPHjwQmlxcXHDHGI6itwQoKoAaEJCFE1y5cuVf//rXokWLYmJiPD09TU1Nt2/fLuj40qVLmzZtevjw4evXrw8bNkzrKdJu3bpdvnz53LlznTp1Yk+R5uTkNG/e/MsvvwwLC9u1a5epqSmeItVbHTTMeYBmr6FxIEAhILkTtBi7vdXEA/RoMXZ7tatDPM8fPXrUxsZGqVS++OKL7NkhnueF3yxr3ry5Uqns379/dHS04BA8z2dmZo4cObJx48bm5uZff/11pb9Z1rp166VLl7JdqkpwxxhWIVcCFBVADQhI7gQtx3m2/u4gPVqO86Q4QVUaXTvb4QRy1UHNq2PDzKFxIEAhILkTtPpmR5tJh+jR6psdcIIn8zP8BTrD1HTdek1RAdSAAJyAosKYE2BOIFcC0DgQoBCQ3gnG72jjeIgercZjTkAxI40azAl0uzo2zL0oKoAaEJDcCVpP2Nl28mF6tJ6wE6tDGjJPSOEEhqnpuvUaGgcCFAJwAoL08lgdqpu1kRcm7tl6OvZWljqroPhafFaf2UcbO3g0HbVl2YHr1+Kz7uY9SMgo8DgV2/Hb3UwlX5164MClpJQsdca9otNhaQN/8mFNnSftPXJVlZlfnHz3/q+HbjQZuYU16XFCUQG9qdl0MVldzO8LSRV6NG5HaEBsVvq9B5kFJX43Mz/fEiRs/9ozxCs8IymrMFddmpCp3nol5aONVxmERcdjItMKctQlydmFG84ns+36nUjuBG2+3WU95Qg92ny7C3OCh260Zs2adu3aKZVKOzu7y5cvixiUgcwJWn+9I/p2nrtfTD+Xv1+evG/Iz8dtpuxv7ODR8ivPY0G3Pl/h33Xagbfm/H0uMuNi9B0m5WHJOUeuquxmHn71+/1rvSPv5j3oMGFXYwcP88+2XIvPOhZ0q6fT4WGLTqgy1Uv2h7K99DjRb/3S7N3U/eFJWYWR6QWCE/znr8CETPXpmKxJe25M2nMjIDbrxu28D92uDHG7MvfvKO/wjDlHo8buCP3J+2bqvQe7g/5rHnO9ovOKSledThi7I/T/vKJv5RatOZOo+Sn6mkvuBG2/3d3u+6P0aPvtbjgBv2vXLoVC4e7uHh4ePn78+KZNm6anp1dlBgbiBMsOXPcPS6tWo/u6HFUX850n7W3s4GE9bqe6mB/wf97CXs3HbFcX84MX+DZ28Bi26ER+UWn78Q9dobGDh6PbhfTcIotRW6s9vtwL9FW5tPr18V+BcXfVLkejApNzBSeYczSqoKjsE/dAofJT92sFD8r+KdDacYjblQ3nkxOz1ML2E1F3T93MZDVrziSqsovYWz1O4ARV6a3m9hpfHbKzs3N0dBQ+srS0tFWrVkuWLNE8A83cQJwgJDH79yPhu88lJN+9fyXm7sT15ysV5cELfAuKylp85Sm0Xk/K2XA8+rnR25uM3OK85WrS3futv97R2MHj5z0hV2Mz2RFenrxPXcz3cj7Ctuhrosfipdm1YxF39gY/vK5nTuDqHZ1fVMaWfT7aeDW/qGzLlRTNvYR8+9VbYan5Qu4fk+kbeYfVrPCPVxfzX3uGsC36mkjuBNYT9zw/9W96WE/cY+hzgqKiIiMjo4MHDzK5Hz169NChQ9lbrcRAnCC7oCS7oGTJ/tBezke++/N8VkHxuDVntfT62S+2Xrp5d9vpOLa903d7LkbfKSgqyyssTcgoYFrv5hvtfS2FlVl9uU1dzA9bdIJt0ddEX5VLs1+Lj8dGpxcM3/RwrZ85wagtQZkFxftCUkdsCvzPX4EHQtPUxfyRG+maOw5xu/LNjtDMguLf/eOF7StPJ2TfL5l9JPJDtyvjd4bG3LmvLuanHwjX2kv/3krvBN/teX7a3/Sw/s7gneDWrVscx124cIEpvpOTk52dHXvL83xhYeHjf8knV6VScRxnNkLP/yp1rrokIDydCfQff0eciSh/K9w6Png5+XLMXTYhaOzgceBS0tGrqnfnevWedWTtsci49HzhfjKcQP/ES+jRmO0hqfceTNpzQ3jLnGCI25U5R6MSMtUFD8ryi8p8I++Ep+Yfvv4/TjB6W3BCpvrvsAxNODuv3c5Vl+YXld3JL/a4nKIu5qfBCTTFqLpcuFS1hhNUB0q7neIErq6u//vv+ei/E9xMzdt4Ipo5weQNF+PTC9jbpqO27LuYdDU2s+24nWzjoAU++UWlmsYQrsqdsz0Qq0OaSqdn+fxjN9XFfH7RQ7nPLypTF/OC9A/d8PDm8BC3KyM9gj7dfG2I25XU3AeazwJ9uTU47q7aJ/KOcBtZE8vQDVdGbwv+aOPVuV7R6mJ+1OOHjjRr9CyXfE7QbtLe9j940aPdpL1YHap+dcgA5wTbA+I07xj/fiScTREEGwiKz2r3TbkNNHbwGLH0ZH5RafPR25k33EjOmet5jd0xfv7xHePv/jyfnlvU7HPcMf6vXMpX1z7+K/C73TdY3Lid7xt557vd/50isH7NPhJZ8KBsws7rwpbR2x7awInou8wwWKVm4hN5JyQlT3OLvuaSO8Hzjvs6TPemx/OO+wzdCXiet7Ozmzx5sjBZKC0tbd26Ne4Y93U5ek9dOtfz2ivf7x+9MuCf3x4YsypAWBQ6cCkpNi2/h9PhDhN2CSE8BWQ9bmdKlnrv+cQeTodfnXrg10M3ctUlPZwOs6dIva+l9HA6/OHC48l37+MpUr0UNc3VoeWn4n84ED5uR+iyk3EZecV7Ht1SHuL28Ho//q76clLO6G3BX2wNEkKgMdIjaNXphAm7rk/ee2N/SFquunTafv2/STDE7YrkTtB+8r6OM7zp0X4ynIB/+BSpUqn08PCIiIiYMGFC06ZN09LStFeRHr83kDvGjR08hi85eS0+K7ugJDQxmz079JLjXnUxrxX2Px0T5gF9Zh/1vpZy69Fvlp2JSNe8J/zipL1HH/1mmSpTvfxQGH6zTO+dYOe126m5D/IKS+Puqv88l8T6u9wvTuvnR13MMycIvZWXfb8k+37J5aQcQ7hDIHQcTvBYX8X+X+NPkfI8v3r1amtra4VCYWdnd+nSJZHTMRwnYIs8SHQmwOQPCQiIEJDcCTpM2ffCzGP06DAFcwIR1a+sCU6gsywa4I4igx9NIMAISO8E3+/r5HSMHh2+hxNUJvci2+AEBijoOneZDXUkICBCAE4gIrmsqTZWh9iHVZvACXSWRQPcUWTwowkEGAHJnaDj1P3/dvahR8ep+/HsULXi/z8FcAIDFHSdu8yGOhIQECEguRO8MG1/51k+9HhhGpzgf3S++jdwAp1l0QB3FBn8aAIBRgBOUL3y8vj3CR79/U4DlFE96DIb6khAQISA5E7w7+kHXnLxpce/px/A6hDFjcprMCfQA4GutS6IDH40gQAjILkTdJ5x4OU5vvToPANOUC7ypAxOUGsyqgcfxIY6EhAQIQAnoIgvnh2qm3+9Ug+EuM67IDL40QQCjIDkTvDizINdfjxOjxdnHsTqEMWNymswJ6hzeZXRCbChjgQERAhI7gQvOR20mXucHi85wQnKRZ6UwQlkJMR1fqoigx9NIMAISO4ELzsfemXeCXq87HwIcwKSAbAiOEGdy6uMToANdSQgIEIATsAEViTBfQLcJ5ArAZHBjyYQYAQkd4Iusw6/+n8n6dFl1mHMCURMqJImzAlkdEle56fKhjoSEBAhILkT2Mw+3NX1JD1sZsMJKlF7sU1wgjqXVxmdgMjgRxMIMAJwAjHNfdyG1SG5ro3ISLJr6FTZUEcCAiIEJHeCV2Yfsf3Jjx6vzD6C1aHHjkP7P+YENSSaenlYkcGPJhBgBCR3glddjnSb70ePV13gBDQDYFVwAr2U7BrqFBvqSEBAhACcgAmsSILVIawOyZWAyOBHEwgwApI7Qdc5R19bcIoeXeccxeqQiAlV0oQ5QQ1dPuvlYdlQRwICIgQkdwLbH4++/vMpetj+CCeoRO3FNsEJ9FKya6hTIoMfTSDACMAJxDT3cRtWh+S6NlJD8iqjw7KhjgQERAhI7gTd5v79xkJ/enSb+zdWhx47Du3/mBPISIjr/FRFBj+aQIARkNwJXpv3d/dF/vR4bR6cgGYArApOUOfyKqMTYEMdCQiIEJDcCV7/Py+7xafp8fr/eWFOwESelMAJZCTEdX6qIoMfTSDACMAJKOKL+wS4TyBXAmyoIwEBEQLSO4GrV48lp+nxuivmBBQz0qjBnKDOL7RldAIigx9NIMAISO4Eb/zk3XNpAD3e+Mkbq0MaMk9I4QQyEuI6P1U21JGAgAgBOAFBenmsDsl1baTOhbjOT0Bk8KMJBBgByZ2g+3zvXssC6NF9PuYEFDPSqMGcoM7lVUYnwIY6EhAQISC5E9gtONb7lzP0sFtwDKtDGjJPSOEEMhLiOj9VkcGPJhBgBOAEBOnF6pADVofkSoANdSQgIEJAcifo8fOxPr+eoUePnzEnoJiRRg3mBHV+oS2jExAZ/GgCAUZAcifoudCn7/Kz9Oi50AerQxoyT0jhBDIS4jo/VTbUkYCACAE4AUF6sTqE1SHZEhAZ/GgCAUZAcifotci332/n6NFrkS/mBBQ3Kq/BnKDOL7RldAJsqCMBARECkjtB78W+b644R4/ei+EE5SJPyuAEMhLiOj9VkcGPJhBgBCR3gj5Ljr/1+3l69FlyHHMCkgGwIjhBncurjE6ADXUkICBCAE7ABFYkwe8Yy/UZShlJdg2dqsjgRxMIMAKSO0HfpcffXnmeHn2XYk4g4kGVNWFOUEOiqZeHZUMdCQiIEJDcCfotO/HOqgv06LfsBFaHKtP7qrfBCfRSsmuoUyKDH00gwAjACapW3PIWrA5hdUiuBNhQRwICIgQkd4I3l514948L9HgTc4Jyx6FlmBPU0OWzXh5WZPCjCQQYAcmd4O1fTg5YfZEeb/9yEqtDNAd4XAUn0EvJrqFOsaGOBARECMAJHuur2P+xOiTXtZEaklcZHVZk8KMJBBgByZ3gnV9PvrfmIj3e+bX6OYGrqyun8ercubMg22q1etKkSc2aNTMzMxsxYkRaWhqT86SkpMGDB5uYmFhZWc2cObO4uJg1+fv7d+vWTaFQdOzYcfPmzWy7SAIngBPIlQAb6khAQISA5E7w7nI/+7WX6PHucr9qV4dcXV27dOmS+vh1584dQbUnTpzYtm1bPz+/wMDAnj179u7dW9heUlJiY2MzYMCA4OBgb29vS0tLFxcXoSk+Pt7U1HT69OkRERGrV682MjLy8fER8QChCU4gVx2U0cV7DZ2qyOBHEwgwApI7wYDf/N5fd4keA34jOUHXrl219DonJ6dRo0Z79+4VtkdGRnIcd/HiRZ7nvb29GzZsyKYI69evNzc3Lyoq4nne2dm5S5cu7FAODg4DBw5kb6tK4ARwArkSYEMdCQiIEKgnTqBSqXIfvwoLC7UU2dXV1dTUtGXLlu3btx81alRSUhLP835+Dy0kOzubFVtbW69YsYLn+Xnz5mk6R3x8PMdxQUFB/+zVr1+/qVOnsl3c3d3Nzc3Z26oSOIFcdbCGLrRldFiRwY8mEGAEpHeCFX6D1l+mx4AVDwVd8+Xq6qqlyN7e3nv27AkNDfXx8enVq5e1tfW9e/c8PT0VCoVmZffu3Z2dnXmeHz9+vL29PWsqKCjgOM7b25vn+U6dOi1evJg1eXl5cRx3//59tqXSBE4AJ5ArATbUkYCACAHJneC93/0G/3mZHu/9/tAJxOcEmuqcnZ1tbm6+adMmOMF6GV2Z4lTrioDI4EcTCDAC9cQJcnNzNeVePH/jjTdmz56N1SE4gVyv02vTFdhQRwICIgQkdwL730998OcVetj/fqraZ4c0jSEvL8/CwmLVqlXCHeN9+/YJrVFRUVp3jNPT04UmNzc3c3Nz4faDs7OzjY0NO+DIkSNxxxh6qs8ERAY/mkCAEZDcCd5feepDtyv0eH9l9U4wY8aM06dPJyQknD9/fsCAAZaWlhkZGTzPT5w40dra+tSpU4GBgb0evQSJF54itbe3DwkJ8fHxsbKy0nqK1MnJKTIycu3atXiKVJ9FsDYvvevtZ7GhjgQERAjIwgkcHBxatmypUChat27t4OAQGxsrKL7wm2UWFhampqbDhw9PTU1lF/uJiYmDBg0yMWCA2j4AACAASURBVDGxtLScMWOG1m+W2draKhSKDh064DfL4AR6TkBk8KMJBBgByZ1g0Cr/oRuu0mPQKv8nWh1iWl+bidizQ4ere0l+ovi7Q/X2Arwenhgb6khAQISA5E4w+A//YRuv0mPwHzJ3ggair4YNG8IJ6qE+Gs4piQx+NIEAIwAnoAi12JyAsr+0NZgTGI6OP31P2VBHAgIiBCR3giGrTw/fFEiPIatPy3t1qKLKq9Xqihsl3AIneHp9NJwjiAx+NIEAIyC5E3y45vSIvwLp8eEafXGCkpKSBQsWtGrVysjIKC4ujuf5uXPnbtq0SUIPEA4FJzAcHX/6nrKhjgQERAhI7gRD1wb8x/0aPYauDdCTOcH8+fM7dOiwfft2ExMTwQl27drVs2dPOMHTyxmOoDMBkcGPJhBgBOAEFKEm3Sfo2LHjyZMneZ5v3Lix4ASRkZFNmzalfMAT1WBOoLMsGuCObKgjAQERApI7wbB1AR9vvkaPYev0ZU5gbGycmJio6QTh4eFmZmZPpPKUYjiBAQq6zl0WGfxoAgFGQHInGL7+zKceQfQYvv6MnqwOvfbaa9u2bdN0gvnz5/ft25ci7k9UAyfQWRYNcEc21JGAgAgBOAFFhEmrQ4cOHWrSpMnSpUtNTU1//fXXb775RqFQHD9+nPIBT1QDJzBAQde5yyKDH00gwAhI7gQj1p9x8Aiixwi9mRPwPH/mzJkBAwZYWVmZmJj06dPH19f3iSSeWAwn0FkWDXBHNtSRgIAIAcmd4D9/nv1sSzA9/vPnWT1ZHSLq+NOXwQkMUNB17rLI4EcTCDACcAKKMpNWh4QDXb16deujV2BgIOXQOtTACXSWRQPckQ11JCAgQkByJ/jE7eyorcH0+MRNX+YEKpWqb9++DRo0+OffT7CwsGjQoEGfPn1UKpUOWi++C5zAAAVd5y6LDH40gQAjILkTfLrh3OfbQujx6YZzerI6NHDgwB49ekRFRQk6HhUV1atXL8q/gyOu+xVb4QQ6y6IB7siGOhIQECEAJ6iotBW3kFaHjI2Ng4KCNHcODAw0MTHR3CJJDicwQEHXucsigx9NIMAI1IQTfLE9hB76Myfo1KnT5cuXNbX+8uXLHTt21NwiSQ4n0FkWDXBHNtSRgIAIAcmdwGHj+S89Q+nhsPG8nqwOHTp0yM7O7urVq4LcX716tWfPngcPHpRE/TUPAicwQEHXucsigx9NIMAISO4EIzedH7MjlB4jN8ncCZo2bSrcIrawsFAoFA0bNlQ8egmJhYWFpohLksMJdJZFA9yRDXUkICBCAE5AEWex+wQe1b0oH/BENXACAxR0nbssMvjRBAKMgOROMOqvC1/tvE6PUX9d0JPVoSdS86cphhPoLIsGuCMb6khAQISA5E7w+V8Xvt55nR6f658TqNXqXI3X04h+pfvCCQxQ0HXussjgRxMIMAJwgkrFVmuj2OoQK83Pz3d0dLSysmr4vy9WIFUCJ9BZFg1wRzbUkYCACAHJneBL94vjdt2gx5fuF/VkdWjSpEkvvfTSvn37TExM3N3df/755zZt2mzfvl0qA2DHgRMYoKDr3GWRwY8mEGAEJHeC0ZsvfrP7Bj1Gb9YXJ2jbtq2/vz/P888880xMTAzP81u3bh00aBBTcKkSOIHOsmiAO7KhjgQERAjACSj6TFodMjMzS0pK4nm+devWwq+YxcfH498sM0DxrVddFhn8aAIBRkByJxjjcWn8njB6jPG4pCerQ6+88srp06d5nu/fv/+MGTN4nl+1alXr1q0pVvNENZgT1Cuprecnw4Y6EhAQISC5E3y15dKEvWH0+GqLvjjBihUrVq1axfP8iRMnjI2NlUplw4YNV65c+UQqTymGE9Rz8a1Xpycy+NEEAowAnICivaTVIc0DJSYm7t+/PzQ0VHOjVDmcoF5JbT0/GTbUkYCACAHJnWDs1ssT94XTY+zWy3qyOiSV0Fd7HDhBPRffenV6IoMfTSDACEjuBOO2Xf5ufzg9xm2TuROsqu5VrbI/aQGcoF5JbT0/GTbUkYCACAHJneCb7VcmHYigxzfbr8h7TvC86Kt9+/ZPKvTV1sMJ6rn41qvTExn8aAIBRgBOUK3w8jz/xPcJKAfVuUZwgvTMXHUxjwABcQLGto4IEKiWgPKV8VJdkgsCNWH7lckHIugxQe5zAp0FXecd4QTi2odWTQLVSgAKQMDY1lFyJ/jW8+qUg5H0+NbzqlRWpLO0Vrsj5gSYfMiVAGQOBCgE4ATV2gBWh+QqgpqXxgabU1QANSAguRNM3HF16qFIekzcgTkBxYw0arA6ZLCyrkPHoXEgQCEguRNM2nn1h8OR9Ji0E06gofKUFE6ggyAa7C4UFUANCMAJKNpLvU9w5syZzz//vGfPnikpKcLfIj179izlA56oBk5gsLKuQ8ehcSBAISC5EzjuCpx+JIoejrsC9eSOsfAvE3zzzTdKpTIuLo7n+dWrV9fcX6XGU6Q6yKIB7kJRAdSAgOROMGV34MyjUfSYsltfnMDW1nbLli08zzdu3FhwgqCgoObNmz/R9T6lGHMCAxR0nbsMjQMBCgE4AUV7SatDJiYmCQkJmk4QFxenVCopH/BENXACnWXRAHekqABqQEByJ/h+T6DT31H0+H6PvswJ2rdvf+LECU0n2LJly0svvfREKk8phhMYoKDr3GVoHAhQCEjuBNP2XpvlFU2PaXuv6cl9gsWLF7/88suXLl165plnzp49u337disrqz/++IMi7k9UAyfQWRYNcEeKCqAGBCR3gul7r7l4RdNjut44QVlZ2cKFC83MzBo8ehkbG8+dO/eJJJ5YDCcwQEHXucvQOBCgEIATUOSXdJ9AOFBRUVF4ePjly5fz8vIoh9ahBk6gsywa4I4UFUANCEjuBDP2XZvjHU2PGfv0ZXVIB03XbRc4gQEKus5dhsaBAIWA5E7gtC9o7rGb9HDaF6Qn9wnefvvtdyp76Sb3InvBCXSWRQPckaICqAEBOIGI5LIm0urQNI2Xo6Njnz59mjRp8v3337OjSJXACQxQ0HXuMjQOBCgEJHcC5/1B83xu0sN5v77MCSoKvaur64wZMypuf8otcAKdZdEAd6SoAGpAQHInmH0gyNX3Jj1mH9BfJ4iJibGwsHhK3a+4O5zAAAVd5y5D40CAQgBOUFFpK24hrQ5V3G3r1q0tW7asuP0pt8AJdJZFA9yRogKoAQHJncDlYND84zH0cDmoL3OC4Rqvjz76qEePHkZGRj/99NNT6n7F3eEEBijoOncZGgcCFAKSO8GcQ0ELTsTQY84hfXGCrzReY8eOnTVrlq+vb0Udf/otcAKdZdEAd6SoAGpAAE5AUebqV4dKSkoCAgKysrIoh3vKGjiBAQq6zl2GxoEAhYDkTjD3cNDCkzH0mHtYX+YESqUyPj7+KVWesjucQGdZNMAdKSqAGhCQ3AnmHQ5edDKWHvMOB+vJb5a9/vrrJ0+epEj5U9bACQxQ0HXuMjQOBCgEJHcC1yPBS/xi6eF6RF+c4NixY7a2tkePHr19+3auxuspdb/i7nACnWXRAHekqABqQABOUFFpK26p5j7B/Pnz8/PzhT9B2qBBg4aPX0Je8XBPuQVOYICCrnOXoXEgQCEguRPMPxq87FQsPeYflf+coGHDhunp6aereD2l7lfcHU6gsywa4I4UFUANCEjuBAv+DvnFP44eC/4Okf19ggYNGqSnp1eU7BraAicwQEHXucvQOBCgEIATUOS6mtWhBg0aZGRkUA4kSQ2cQGdZNMAdKSqAGhCQ3AkWeoUsPx1Hj4VeTzAnWLJkCcdxU6dOFRRVrVZPmjSpWbNmZmZmI0aMSEtLY0qblJQ0ePBgExMTKyurmTNnFhcXsyZ/f/9u3bopFIqOHTtu3ryZbRdJqneCpk2bWlTxEjmubk1wAgMUdJ27DI0DAQoByZ1gkXfIbwFx9FjkTXWCK1euPP/886+++ipzgokTJ7Zt29bPzy8wMLBnz569e/cWpLWkpMTGxmbAgAHBwcHe3t6WlpYuLi5CU3x8vKmp6fTp0yMiIlavXm1kZOTj41OtIFfvBKtWrfKo4lXt0Z+0AE6gsywa4I4UFUANCMjFCfLy8jp16nTixIm33npLcIKcnJxGjRrt3btXENLIyEiO4y5evMjzvLe3d8OGDdkUYf369ebm5kVFRTzPOzs7d+nShWmvg4PDwIED2duqkuqdAPcJDFBkZdFlaBwIUAhI7gRLjoX+fiaeHkuOhXIcp1Kp2BP4hYWFFRV59OjR06ZN43meOYGfn98/K0XZ2dms2NraesWKFTzPz5s3r2vXrmx7fHw8x3FBQUE8z/fr149NKXied3d3Nzc3Z5VVJdU4gfDsUFU7S74dcwJZSHA9OUmKCqAGBCR3gmU+oavOxtNjmc9DJ9B8ubq6aonnzp07bWxs1Gq1phN4enoqFArNyu7duzs7O/M8P378eHt7e9ZUUFDAcZy3tzfP8506dVq8eDFr8vLy4jju/v37bEulSTVOgGeH6onq4TQqEoDGgQCFQD1xApE5QXJy8nPPPRcaGipoNJsT1CMnqNQ9am4j5gQV9Q5bqiJAUQHUgID0TuAb+se5eHos8304J8jNza1KOQ8ePMhxnNHjF8dxDRo0MDIyOnnyZH1ZHarq1GtoO5ygKtXD9ooEoHEgQCEguRP86nt9zbkEevzqe13cCe7du3dD4/XGG2988cUXN27cEO4Y79u3T9DbqKgorTvG7Caum5ububm5cPvB2dnZxsaGSfTIkSMluGPMDlc7CZygot5hS1UEKCqAGhCQ3AmWH7++9nwCPZYfr8YJtNSVrQ7xPD9x4kRra+tTp04FBgb2evQSioWnSO3t7UNCQnx8fKysrLSeInVycoqMjFy7dq00T5FqnWJNv4UTVKV62F6RADQOBCgEZO0Ewm+WWVhYmJqaDh8+PDU1lYlwYmLioEGDTExMLC0tZ8yYofWbZba2tgqFokOHDtL8Zhn71NpJ4AQV9Q5bqiJAUQHUgIDkTrDixPX1FxLoseLEk80JakdstT6lmmeHtKpr+i2coCrVw/aKBKBxIEAhILkTrDx5w+1iIj1Wnrwhfp+gpnWVcnw4AV9RYrBFFgQoKoAaEIATwAmg8vpMABoHAhQCkjvBKr8bGy4l0mOVH+YEFDPSqMHqkCwuxuvJSVJUADUgILkTrPYL23Q5iR6r/cKwOqQh84QUTlBPRFYWpwGNAwEKATgBQXp53CfQ5/UTWQi6zidJUQHUgIDkTrDmVNhfV5LoseYU5gQUM9KowZxAZ1k0wB2hcSBAISC5E6w7Fbb5ShI91sEJNESelMIJDFDQde4yRQVQAwJwAor4YnUIq0NyJQCNAwEKAcmdYL1/uMfVZHqs9w/HHWOKG5XXYE6g8wWyAe5IUQHUgIDkTvCnf/iWq8n0+BNOUK7xtAxOYICCrnOXoXEgQCEguRNsOB2xLVBFjw2nIzAnoDnA4yo4gc6yaIA7UlQANSAAJ3isr2L/x30Cua6SG6D0a3UZGgcCFAI14QTbA1X0wJxAzIIqbcOcQEvs8FaEAEUFUAMCkjvBxoAIz2sqemwMwOpQpXpf9UY4gYjwoUmLADQOBCgE4ARVK255C1aHsDokVwIUFUANCEjuBJvORO4ISqHHpjORuGNc7jmUDHMCrctevBUhAI0DAQoByZ3A/UzkrqAUerjDCSjqr1kDJxARPjRpEaCoAGpAAE6gqbFV5VgdkuvaiJYsGuBbaBwIUAhI7gSbz0btDr5Fj81no7A6VJUDVb4dcwIDFHSdu0xRAdSAgORO4HE2ak/wLXp4wAkq1/uqt8IJdJZFA9wRGgcCFAJwgqoVt7wFq0NYHZIrAYoKoAYEJHeCLeei94bcpseWc9FYHSr3HEqGOYEBXtrr3GVoHAhQCEjuBNvORe8PuU2PbXACivpr1sAJdJZFA9yRogKoAQHJnWD7+ZsHQlPpsf38TcwJNHW++hxOYICCrnOXoXEgQCEAJ6heeXn8O8bFcl0l11lA9WZHigqgBgQkdwLP8zcPhqbSwxNzAooXadZgTqA3Ml0LHYHGgQCFgOROsOPCzUPXU+mx4wJWhzRlnpDDCWpBQPXmIygqgBoQgBMQpBerQ1gdki0BaBwIUAhI7gS7LsQcuZ5Gj10XYnDHmOJG5TWYE+jNBXstdISiAqgBAcmdYPfFmKM30uix+yKcoFzkSRmcoBYEVG8+AhoHAhQCcAKK+OJ3jPHskFwJUFQANSAguRPsuRj79410euy5GIvVIYoblddgTqA3F+y10BFoHAhQCEjuBHsvxXqFpdNj7yU4QbnIkzI4QS0IqN58BEUFUAMCcAKK+GJ1SK5rI3oj6Dp3BBoHAhQCkjvBvktxx8Iy6LHvUhxWhyhuVF6DOYHOsmiAO1JUADUgILkT7L8c5xOeQY/9l+EE5SJPyuAEBijoOncZGgcCFAKSO8GBK3G+ERn0OHAFTkDS//IiOIHOsmiAO1JUADUgACcoV9iqM9wnwH0CuRKAxoEAhYDkTnDwSvzxiDv0OHglHvcJqvagylowJzDAS3udu0xRAdSAgOROcPhq/MnIO/Q4fBVOUJnci2yDE+gsiwa4IzQOBCgE4AQiksuasDok17URA5R+rS5TVAA1ICC5Exy5muAXeZceR64mYHWIWQ4pwZxAS+zwVoQANA4EKAQkd4KjgQmnou7S42ggnICk/+VFcAIR4UOTFgGKCqAGBOAE5QpbdYbVIawOyZUANA4EKAQkd4K/AxP8ozLp8TfmBFU7UOUtmBNoXfbirQgBigqgBgQkdwLvawkB0Zn08L6G1aHKBb/KrXACEeFDkxYBaBwIUAjACaoUXI0GrA7VwdrIycsxwyavf36Ai7Gt474TIUzg7uQWTl60u4P9j017TOs6/Oe1u86wJnUxH3At7r1vVjXr+YNVnxnvfL0iK69IszWn4MEbnyw2tnW8EqbS3K7HOUUF5F4TnXRX6xtcvSPA2Naxid3U1TsCbt3Jv5NbuNs3uO27s1lPtepHObmzJvPuUxe6+dxMzswpeBCddHfcvG2sSY8TyZ3g2LXEM9FZ9Dh2LdHQnx0KCAgYMmRIy5YtOY47ePCghgNVnhrInODI6bAf/ziy93iIlhN8+5PnS0NcT1yKjk66u373WbPXp+w/GSoM7IBrcVZ9Zize6BsUdft6TNoO72s5BQ80x/zUJXuHTFoLJ9AzRWv99izr/rOFGDjhD3Ux33/sSmNbx7U7z8SoMt/7ZlWPz5YGXIs/HRjLOq4u5r+eu5Xt1cRuKmvafzL0TFD8wAl/dBo0r9+Xy98a/Rtr0uNEcifwCUo8ezOLHj5BBu8E3t7eP/7444EDB+AEmqrNci0nsB2xcMF6b9ba47OlP/5xRHjb94tf5/5xlDVpJUdOh7360YLg6NtwAj1WtBVbT4XHZxjbOj7XZ0bu/eJPp28UOvvKsAXqYr7vF78Kb9XF/IipbhU5fPDdmrSsghZvOlVs0u8tkjuBb1DiuZtZ9PCFE7ArfziBlnYLb7Wc4NufPHuNXBZ3K/v+g7LjF6Mte08/eTlGXcwnp98ztnVctd2/35fL2747+92vfz91NZYdMCktt4P9jxdCE6OT7sIJ9FXUnnnj+5Q7eXNWHja2dXzvm1XqYv65vjNZZ28mZ/6wbJ/wVl3Mx93KTrmTdy4kQXP9Z83OgGPnI5ds8o27lX0jNv2XzSeb9pjGjqDHCZyA6bBIUkv3CUScoLCwMPfxS6VScRyXnpnLZE6/Ey0nyCl48NWPW4xtHRu/PsW8+9TNhy4J3T8TFG9s69jyLadN+y9cDkv+Ydk+8+5Tw+LS1cX8/QdlH3y39uc/j6mLeTiBHsvZZzM35alLnh8wx9jW8YtZm3MKHmh29lxIwtJNx4Utc1cffWv0b90/XTJrxcHs/AffL9kjbD96Jjw7/8GhUzd6j/rlw0lro5PubjpwUfMg+ppL7gQngpIuxGTT40RQkqHfJ2AWJOIErq6u3P++DNYJfnE/YTN0/gG/61cjUlZ5nrbsPf3YuUh1MX86MM7Y1tFl5WHmi699vGj274fUxfzKbf5vjfktv7AUTqCvQib06+8zEQdPXRdycSfQ5DB/vXdsSpawxetsRFZe0XN9ZghvP/5hQ0FRqSFMCyR3gpNBSRdjsulxEk5AcQLMCQR9z8oreuaN7w/532ByP951+wcT16iL+ajEO8a2jh6HL7OmkTP/+mLWZmFF2PS1yWavTxHC2NbR7PUpX/24hVXqcaIpefqdd3p/bn5h6fDv/xS6Kb46pIliqOM6dTFv3v3hTWP3g5eE2wxCwasfPby78PKHP2nW62UOJ2A6LJLU/eqQ5skZyLNDTJ01V4fSs+8b2zoeOR3GWr+dv2PQt6uFJaD2783RvGPc/dMlwhThpirzWuQtIbzORhjbOu72DYpNyWIH0eNEL2Wr0k65rvVKSM0xe32K0CrcMf7kh//eMbYZNl/zjrHmEX5cdeT23Xxhy7fzd2TmFT3b6wfh7fDv/8wvxJxAU36qzwWBOhmcdDE2mx4ng7E69JityOrQ45KH/zcQJ7iTW3glTHUlTGVs6/jbFr8rYaqbqsxHDwj+bjti4YlL0VGJd/46cLFpj2lrdv73VwpWbDll1WfGLp+g8PiMuX8cbdpjWkRChpbK4z6BpgjqTW7SbfLN5Mwlm3w1e7R255mbyZkDxq189BRpXMC1h+uHxraOH01ZP951e7f/LHxpiOukn3fevVf40zovoenZXj/EpmTtPHat6/Cf3/16xY3Y9D/3ntM8pr7mks8J/IKTL8Xm0MMvONnQ7xPk5eUFP3pxHLdixYrg4OCkpCRN6dfKDcQJTlyK1hp1X/+4VV3MJ6bmjp27tf17c5r2mPbKsAXLPU7ef1DG5H7xRt8O9j826/lDvy+Xaz47xArgBFpU9eOtMC/sMnS+ZneE3yy7fTf/7r3CPceDrfv/9zfLPvhuzeWw5Iwc9cOrjXDVxPk7TLpNZju+MmyB97nIzLyi2JSsXz3w7JCW/FT/VhAoOEH1pLQq/P39//dmMDdmzBitGs23BuIETLuRPA0BJnBIQECEgPRzgpDky3E59PALMfg5gabKU3I4wdMoo6HtKzL40QQCjIDkTnAqJPlKXA49TsEJKOqvWQMnMDQ1f5r+sqGOBARECMAJNDW2qryWnh2q6uO1tsMJnkYZDW1fkcGPJhBgBKR3gtDkK/E59DgVWv3q0Lp161555ZVnHr169uzp7e0taKNarZ40aVKzZs3MzMxGjBiRlpbGNDMpKWnw4MEmJiZWVlYzZ84sLi5mTf7+/t26dVMoFB07dty8eTPbLpLACergb5EammTXUH/ZUEcCAiIEJHcC/1DV1fhceviHPvzTCbm5uSJCfOTIES8vr5s3b0ZHR8+ZM6dRo0ZhYWE8z0+cOLFt27Z+fn6BgYE9e/bs3bu3cJCSkhIbG5sBAwYEBwd7e3tbWlq6uLgITfHx8aamptOnT4+IiFi9erWRkZGPj4/IRwtNcAI4gVwJiAx+NIEAIyC5E5y+rgpMyKXH6evVO4GWUltYWGzatCknJ6dRo0Z79+4VWiMjIzmOu3jxIs/z3t7eDRs2ZFOE9evXm5ubFxUV8Tzv7OzcpUsXdkAHB4eBAweyt1UlcAK56mANXWjL6LBsqCMBAREC9cQJVCrV47+vlltYWFiVIpeUlOzcuVOhUISHh/v5+XEcl52dzYqtra1XrFjB8/y8efO6du3KtsfHx3McFxQUxPN8v379pk6dyprc3d3Nzc3Z26oSOAGcQK4ERAY/mkCAEZDcCQKuq64l5NIj4NGcQPN5eldX14qKfP36dTMzMyMjoyZNmnh5efE87+npqVAoNCu7d+/u7OzM8/z48ePt7e1ZU0FBAcdxwt2FTp06LV68mDV5eXlxHHf//n22pdIETiBXHZTRxXsNnSob6khAQISA9E5wQ3UtMZceATcerg5VOycoKiqKiYkJDAycPXu2paVleHg4nMBQ/ip1DUmkgRxWZPCjCQQYgXriBOJ3jLWu0/v37z9hwgSsDsEJMFOpngAb6khAQISA5E5w5kZKUOI9epy5kVLts0NaTvDOO++MGTNGuGO8b98+oTUqKkrrjnF6errQ5ObmZm5uLtx+cHZ2trGxYQccOXIk7hhXryYGcvmsl90UGfxoAgFGQHInOBuWEpx0jx5nw6p3gtmzZwcEBCQkJFy/fn327NkNGjQ4fvy48BSptbX1qVOnAgMDez16CRIvPEVqb28fEhLi4+NjZWWl9RSpk5NTZGTk2rVr8RQpbEDPCbChjgQERAjIwgnGjh3brl07hUJhZWXVv39/wQZ4nhd+s8zCwsLU1HT48OGpqansYj8xMXHQoEEmJiaWlpYzZszQ+s0yW1tbhULRoUMH/GaZnuugXl7mP1GnRAY/mkCAEZDcCc6FpYQk3aPHOcKcgOl7XSV4dgiGIVcCbKgjAQERAtI7QXhKSPI9epwLr351qK4MgH0unECuOvhEl896WSwy+NEEAowAnIDJvUgCJ4ATyJUAG+pIQECEgOROcD78VmhyHj3Oh9960meHRCS7hprgBHLVQb28zH+iTokMfjSBACMguRNciLh1XZVHjwsRcIIn9C/8VeonkkIDL2ZDHQkIiBCQ3AkuRty6ocqjx0U4wRMagaH8i/YGruBSdV9k8KMJBBgBOAFFh7E6hNUhuRJgQx0JCIgQkN4JIm/dSMmjx8VIrA5RzEijBqtDUl0vG8JxRAY/mkCAEZDcCS5F3g5LyafHpcjbuGOsIfOEFE5gCAouVR/ZUEcCAiIE4AQE6eWxOiTXtRGp9FS+xxEZ/GgCAUZAcie4HHU7/FY+PS5HYU5AMSONGswJ5KvLtX/mbKgjAQERApI7wZWo2xG38ulxBU6gIfKkFE5Q+3oq308UGfxoAgFGAE5AEV+sDmF1SK4EhiV9HgAAFAVJREFU2FBHAgIiBKR3gujbEbfz6XElGqtDFDPSqMGcQL5X6LV/5iKDH00gwAhI7gRXo1MjbxfQ42p0Kp4d0pB5QgonqH09le8nsqGOBARECMAJCNKLZ4eK5bo2Il8Fl+rMRQY/mkCAEZDcCQJvpkalFtAj8CbmBBQz0qjBnEAqlTSE47ChjgQERAhI7gTXbqZGpxbQ4xqcQEPkSSmcwBAUXKo+igx+NIEAIyC9E8SkRqcV0ONaDOYEJP0vL4ITSKWShnAcNtSRgIAIAThBucJWneEpUtwnkCsBkcGPJhBgBCR3gqCYtJtp9+kRFJOGZ4eq9qDKWjAnMIRrean6yIY6EhAQISC9E8SmxaTfp0dQLJygMrkX2QYnkEolDeE4IoMfTSDACMAJRCSXNWF1SK5rI4ag9eJ9ZEMdCQiIEJDcCYJj02LT79MjGHMCZjjEBHMCce1DqyYBkcGPJhBgBKR3gri02Iz79AiOw+oQ0QEel8EJNJUOuTgBNtSRgIAIATjBY30V+z9Wh7A6JFcCIoMfTSDACEjuBCFx6XEZanqExKXj2SExF6rYhjmB+FUwWjUJsKGOBARECEjuBKHx6fF31PQIjYcTVBR70S1wAk2lQy5OQGTwowkEGAE4gajo/rcRq0NyXRsRV0lDaGVDHQkIiBCQ3Amux6cn3FHT4zrmBBQv0qzBnMAQFFyqPooMfjSBACMgvRMkpCfcVdPjegJWhzRlnpDDCaRSSUM4DhvqSEBAhIDkTnAjISPxbiE9biRk4I4xQf41SuAEhqDgUvVRZPCjCQQYATiBhsRWmeI+Ae4TyJUAG+pIQECEgOROEJaQkZRZSI8wzAmqNKAqGjAnkOp62RCOIzL40QQCjIDkThCekJGcWUiPcDhBFYJf5WY4gSEouFR9ZEMdCQiIEIATVCm4Gg1YHZLr2ohUeirf44gMfjSBACMguRNEJGaosgrpEZGIO8YankNJMSeQry7X/pmzoY4EBEQI1IAT3FFlFdEjIvEOnh2i6H95DZyg9vVUvp8oMvjRBAKMAJygXGGrzrA6hNUhuRJgQx0JCIgQkNwJIpPupGQX0SMyCXOCqi2o0hbMCeR7hV77Zy4y+NEEAoyA5E4QlXTnVnYRPaLgBJXKvchGOEHt66l8P5ENdSQgIEIATiAiuawJq0NyXRuRr4JLdeYigx9NIMAISO4E0cl3bucU0SM6GatDzHFoCeYEUqmkIRyHDXUkICBCQHInuJl8NzXnAT1uJt/Fs0M0B3hcBScwBAWXqo8igx9NIMAISO8EqrupuQ/ocVMFJ3gs8cT/wwmkUklDOA4b6khAQIQAnIAiv7hPgPsEciUgMvjRBAKMgOROEKO6m5b7gB4xmBNQvEizBnMCQ7iWl6qPbKgjAQERApI7QWzK3fR7D+gRm4LVIU2ZJ+RwAqlU0hCOIzL40QQCjACcgCC9PFaH5Lo2YghaL95HNtSRgIAIAcmdIC4lM+NeMT3iUjLx7BDFjcprMCcQ1z60ahIQGfxoAgFGQHonuJWZkVdMj7hbcIJykSdlcAJNpUMuToANdSQgIEIATkARX6wOYXVIrgREBj+aQIARkNwJ4m9l3skrpkc85gQUL9KswZxA/CoYrZoE2FBHAgIiBCR3goTbmXfzi+mRcBurQ5oyT8jhBJpKh1ycgMjgRxMIMAJwAoL04tmhYrmujYirpCG0sqGOBARECNSAE2Rl5pfQI+F2Fp4dorhReQ3mBIag4FL1UWTwowkEGAHJnSAxNSuroIQeialwgnKRJ2VwAqlU0hCOw4Y6EhAQIQAnoIgvnh3C6pBcCYgMfjSBACMAJ4ATyFXjDOGK/un7yIY6EhAQISC5EySlZWXfL6FHUhpWhyhmpFGD1aGn10fDOYLI4EcTCDACkjtBclp2zv1SeiSnZeOOsYbME1I4geHo+NP3lA11JCAgQkAWTrB48eI33nijcePGVlZWw4YNi4qKYnqpVqsnTZrUrFkzMzOzESNGpKWlsaakpKTBgwebmJhYWVnNnDmzuLiYNfn7+3fr1k2hUHTs2HHz5s1se1UJ7hNgBUmuBEQGP5pAgBGQ3AlU6dm56lJ6qNKrnxMMHDhw8+bNYWFhISEhgwcPtra2zs/PF1R74sSJbdu29fPzCwwM7NmzZ+/evYXtJSUlNjY2AwYMCA4O9vb2trS0dHFxEZri4+NNTU2nT58eERGxevVqIyMjHx+fqjxA2A4nkKsOPv01tdyPwIY6EhAQISC5E6SkZ99Tl9IjheAEmjKdkZHBcVxAQADP8zk5OY0aNdq7d69QEBkZyXHcxYsXeZ739vZu2LAhmyKsX7/e3Ny8qKiI53lnZ+cuXbqwYzo4OAwcOJC9rTSBE8AJ5EpAZPCjCQQYgXriBCqVKvfxq7CwsFI5FjbGxMRwHHfjxg2e5/38/DiOy87OZvXW1tYrVqzgeX7evHldu3Zl2+Pj4zmOCwoK+mevfv36TZ06lTW5u7ubm5uzt5UmcAK56qDcr+if/vzZUEcCAiIEpHeCjOx7haX0SMl4uDqk+XJ1da1Ujv/R99LS0g8++KBPnz5Cgaenp0Kh0Czu3r27s7Mzz/Pjx4+3t7dnTQUFBRzHeXt78zzfqVOnxYsXsyYvLy+O4+7fv8+2VEzgBHACuRIQGfxoAgFGQHInuJWRk1dYRo9bGTkcxxHnBBMnTmzXrp1KpRLEGk4gV3l6+ktdHIFIgA11JCAgQqCeOEFubm7FK3GtLY6Ojm3atImPj2fbsToEJwCBagiIDH40gQAjILkT3L6Tk19URo/bdx7OCcSdoKyszNHRsVWrVjdv3mQ2wO4Y79u3T9gYFRWldcc4PT1daHJzczM3NxfuQDg7O9vY2LDjjBw5EneMq1ET4uUnyuohATbUkYCACAHJnSD1Tk5BURk9UglO8N133zVp0uT06dOpj19sWX/ixInW1tanTp0KDAzs9eglSLzwFKm9vX1ISIiPj4+VlZXWU6ROTk6RkZFr167FU6SwAX0mIDL40QQCjID0TnA3p+BBGT1S71Y/J9C8nyzk7NfBhN8ss7CwMDU1HT58eGpqKrvYT0xMHDRokImJiaWl5YwZM7R+s8zW1lahUHTo0IEdiu1YMcEdY33Wynp4IS/hKbGhjgQERAjIwgkqSnMtb4ETwAnkSkBk8KMJBBgByZ0g7W7u/Qc8PdLu5lZ7n6CWdb/ix8EJ5KqDEl5cy/RQbKgjAQERApI7QXpm7hMNmfRMOEFF6xHdkpPzcEEtNkGVnpmLAAFxAspXxiNAoFoCipfHcByXk5Mjqj2kRuFPZMY8oUDFJKgwJyDxZUUq1UNkeIEACICAtATY72oxtdEhUavVLVq00OHEWrRooVardfjEWtulfq0OlZaWqlSqnJycx3+fA/9/SEAwSM3fUQQXEKhIAD8nFZnk5ubm5OSoVKrS0lJJVFWtVlf6KeIb67kN8Dxfv5xAkq9K/w4izEnFfzNF/3qNHj0pAfycPCkx1DMCcAKGov4mGOH197upT2eGn5P69G3I7FzgBDL4wjDCZfAl1YNTxM9JPfgS5HoKcAIZfHP//C0RV1dX8b9pLoNu4BRrmAB+TmoYsD4fHk6gz98u+gYCIAACFAJwAgol1IAACICAPhOAE+jzt4u+gQAIgACFAJyAQgk1IAACIKDPBOAE+vztom8gAAIgQCEAJ6BQqsuaNWvWtGvXTqlU2tnZXb58uS5PBZ9dXwkEBAQMGTKkZcuWHMcdPHiwvp4mzqv+EoAT1N/vhuf5Xbt2KRQKd3f38PDw8ePHN23alP1jdfX6vHFytUvA29v7xx9/PHDgAJygdsHrz6fBCer1d2lnZ+fo6CicYmlpaatWrZYsWVKvzxgnV6cE4AR1il/GHw4nqL9fXlFRkZGRkeZkf/To0UOHDq2/Z4wzq2sCcIK6/gbk+vlwgvr7zd26dYvjuAsXLrBTdHJysrOzY2+RgIAWATiBFhC8JRKAExBB1UEZnKAOoMv8I+EEMv8C6+z04QR1hr7aD8bqULWIUKBFAE6gBQRviQTgBERQdVNmZ2c3efJk4bNLS0tbt26NO8Z1803I5FPhBDL5ourdacIJ6t1XonlCu3btUiqVHh4eEREREyZMaNq0aVpammYBchDgeT4vLy/40YvjuBUrVgQHByclJYEMCNAJwAnorOqmcvXq1dbW1gqFws7O7tKlS3VzEvjU+k3A399f6x/XHTNmTP0+ZZxd/SIAJ6hf3wfOBgRAAARqnwCcoPaZ4xNBAARAoH4RgBPUr+8DZwMCIAACtU8ATlD7zPGJIAACIFC/CMAJ6tf3gbMBARAAgdonACeofeb4RBAAARCoXwTgBPXr+8DZgAAIgEDtE4AT1D5zfCIIgAAI1C8CcIL69X0YwtmMGTNm2LBhQk/feuutqVOn1kSvhV+2ys7Ornhwyp9kcHV17dq1a8V9RbYkJCRwHBccHCxSgyYQqJ8E4AT183upR2c1ZswY4fdXGzVq1LFjx/nz5xcXFz/N+Wk6QWZm5r1790SOJiLoInvxPC+yI5xAHB1aDZAAnMAAv/Qn6/KYMWPef//91NTUxMTEdevWNWjQYPHixVqHKCoq0toi8lbTCUTKhCYRQRffV2RHOIE4OrQaIAE4gQF+6U/WZS3hfu+993r27MnzvLB94cKFLVu2fP7553meT05O/uSTT5o0aWJhYTF06NCEhAThk0pKSn744YcmTZo0a9bMyclp9OjRla4OFRYWOjs7t2nTRqFQdOzYcdOmTcJ6C/uLOsLf0iktLV28ePHzzz9vbGz86quv7t27l/XHy8urU6dOxsbGb7/99ubNmzmOq3Z1yNnZuVOnTiYmJu3bt587d+6DBw+EowmrQ3/++WebNm1MTEw++eSTnJwc9kEbN2588cUXlUpl586d165dK2zH6hDjg0R2BOAEsvvKavuEtZxg6NChr732muAEjRs3/vLLL8MevR48ePDSSy+NHTv2+vXrERERo0aN6ty5szBXWLZsmYWFxf79+yMiIsaNG/fMM89U6gSffvpp27ZtDxw4EBcXd/LkyV27dpWUlOzfv5/juOjo6NTUVEGLFy5c+OKLL/r4+MTFxW3evFmpVJ4+fVrwIaVSOX369KioqO3btzdv3pziBD///PP58+cTEhKOHDnSvHnzZcuWCXxdXV3NzMzefffd4ODggICAF154YdSoUULT9u3bW7ZsuX///vj4+P379zdr1szDw+MfIHCC2v7RxOdJRwBOIB1LPT0Sc4KysrITJ04olcqZM2cKTtC8eXO2LrRt27bOnTuXlZUJGIqKikxMTHx9fXmeb9my5S+//CJsLy4ubtOmTUUniI6O5jjuxIkTWhS1FnkKCwtNTU01/0XPcePGjRw5kud5FxeXl19+me0+a9YsihOwep7nf/3119dff13Y4urqamRklJKSIrw9duxYw4YNU1NTeZ7v2LHjjh072I4///xzr1694AQMCBI5EoATyPFbq9VzHjNmjJGRkZmZmUKh+Ne//jV69Oj8/HzBCQYMGMBOZebMmUKZ2eNXgwYN1q1bl5OTw3FcQEAAq/zoo48qOsHu3buNjIzY4gwr1nKCsLAwjuMef8LD/zdq1Ej4t50/+uijr7/+mu146NAhihPs2rWrd+/ezZs3NzMzUyqVVlZWwhFcXV3bt2/Pjib04vTp0/n5+RzHmZiYsHNQKpXPPfccnICxQiJHAnACOX5rtXrOY8aMGTBgQExMTFJSkuZTQ2yuIJzNxIkT7ezsYv73lfPoRXGCI0eOUJzg0qVLHMedPn1a83OSk5N5ntfBCS5cuGBkZLRw4cKrV6/evHlzwYIFTZo0EbpTlROkpaVxHLd9+3bNE4iPj4cTCNzwX5kSgBPI9IurvdPWUnz2wVrbN2zYYGFhkZubywpYorU61LZt24pzgoSEhAYNGlRcHTp//jzHcXfv3hWOdu/ePaVSuXXrVnZwlri4uHTp0oW9nT17drVzguXLl3fo0IHtMm7cOE0nMDIyunXrltDq4+PDVodatWq1YMECthdLcJ+AoUAiOwJwAtl9ZbV9wlqKzz5ea3tBQUGnTp3efvvtM2fOxMfH+/v7T5kyRaVS8Ty/dOnSZs2aHTx4MDIycvz48VXdMf7qq6/atm178OBBYffdu3fzPJ+SktKgQQMPD4+MjIy8vDye53/88cdnn33Ww8MjNjb22rVrf/zxh3DDNikpSaFQzJw5MyoqytPTs0WLFtU6weHDh//1r3/t3LkzNjZ21apVzZo103QCMzOzAQMGhISEnDlz5t///vdnn30m9H3jxo0mJiarVq2Kjo6+fv26u7v7b7/9hjkB+8FAIkcCcAI5fmu1es5ais8+u+L21NTU0aNHW1pa/nPZ3qFDh/HjxwtThOLi4qlTp5qbmzdt2nT69OlVPUWqVqt/+OGHli1bKhSKF154wd3dXfisBQsWtGjRokGDBsJTpGVlZStXruzcuXOjRo2srKwGDhzIbkIcPXr0hRdeUCqV/fr1c3d3r9YJeJ53cnJ69tlnGzdu7ODg8Pvvv2s6QdeuXdetW9eqVStjY+OPP/44KyuL9d3T09PW1lahUFhYWLz55psHDhyAEzA4SORIAE4gx28N5wwCIAACUhKAE0hJE8cCARAAATkSgBPI8VvDOYMACICAlATgBFLSxLFAAARAQI4E4ARy/NZwziAAAiAgJQE4gZQ0cSwQAAEQkCMBOIEcvzWcMwiAAAhISQBOICVNHAsEQAAE5EgATiDHbw3nDAIgAAJSEoATSEkTxwIBEAABORKAE8jxW8M5gwAIgICUBOAEUtLEsUAABEBAjgTgBHL81nDOIAACICAlgf8HpHEMvLO5Y9wAAAAASUVORK5CYII=)"
      ],
      "metadata": {
        "id": "R80tqHugF1ZX"
      }
    }
  ],
  "metadata": {
    "accelerator": "GPU",
    "colab": {
      "gpuType": "T4",
      "provenance": [],
      "toc_visible": true
    },
    "kernelspec": {
      "display_name": "Python 3",
      "name": "python3"
    },
    "language_info": {
      "name": "python"
    },
    "widgets": {
      "application/vnd.jupyter.widget-state+json": {
        "6a5163da8b39492c85d49bc4782bbef4": {
          "model_module": "@jupyter-widgets/controls",
          "model_name": "HBoxModel",
          "model_module_version": "1.5.0",
          "state": {
            "_dom_classes": [],
            "_model_module": "@jupyter-widgets/controls",
            "_model_module_version": "1.5.0",
            "_model_name": "HBoxModel",
            "_view_count": null,
            "_view_module": "@jupyter-widgets/controls",
            "_view_module_version": "1.5.0",
            "_view_name": "HBoxView",
            "box_style": "",
            "children": [
              "IPY_MODEL_f2822258834a49778650cbce646f6d57",
              "IPY_MODEL_f3d2868c815f421ca8ee7fbaa7c0afc0",
              "IPY_MODEL_71d5c227810d4cb39719504b4af111d2"
            ],
            "layout": "IPY_MODEL_e00b42cd7d714988896d45324e6733c8"
          }
        },
        "f2822258834a49778650cbce646f6d57": {
          "model_module": "@jupyter-widgets/controls",
          "model_name": "HTMLModel",
          "model_module_version": "1.5.0",
          "state": {
            "_dom_classes": [],
            "_model_module": "@jupyter-widgets/controls",
            "_model_module_version": "1.5.0",
            "_model_name": "HTMLModel",
            "_view_count": null,
            "_view_module": "@jupyter-widgets/controls",
            "_view_module_version": "1.5.0",
            "_view_name": "HTMLView",
            "description": "",
            "description_tooltip": null,
            "layout": "IPY_MODEL_d0e57c949daf42e7a178405e0d97f17b",
            "placeholder": "​",
            "style": "IPY_MODEL_cd497aa5c77c4fc689d24fdb467e4d47",
            "value": "special_tokens_map.json: 100%"
          }
        },
        "f3d2868c815f421ca8ee7fbaa7c0afc0": {
          "model_module": "@jupyter-widgets/controls",
          "model_name": "FloatProgressModel",
          "model_module_version": "1.5.0",
          "state": {
            "_dom_classes": [],
            "_model_module": "@jupyter-widgets/controls",
            "_model_module_version": "1.5.0",
            "_model_name": "FloatProgressModel",
            "_view_count": null,
            "_view_module": "@jupyter-widgets/controls",
            "_view_module_version": "1.5.0",
            "_view_name": "ProgressView",
            "bar_style": "success",
            "description": "",
            "description_tooltip": null,
            "layout": "IPY_MODEL_8701e41d2c424113a296fcdfff2f22f4",
            "max": 387,
            "min": 0,
            "orientation": "horizontal",
            "style": "IPY_MODEL_c2ba62f579f4480ba3c13bccd949f5c7",
            "value": 387
          }
        },
        "71d5c227810d4cb39719504b4af111d2": {
          "model_module": "@jupyter-widgets/controls",
          "model_name": "HTMLModel",
          "model_module_version": "1.5.0",
          "state": {
            "_dom_classes": [],
            "_model_module": "@jupyter-widgets/controls",
            "_model_module_version": "1.5.0",
            "_model_name": "HTMLModel",
            "_view_count": null,
            "_view_module": "@jupyter-widgets/controls",
            "_view_module_version": "1.5.0",
            "_view_name": "HTMLView",
            "description": "",
            "description_tooltip": null,
            "layout": "IPY_MODEL_93f032c041af46c09793865a36127d10",
            "placeholder": "​",
            "style": "IPY_MODEL_a259905cd70448168dfd754056b92772",
            "value": " 387/387 [00:00&lt;00:00, 13.3kB/s]"
          }
        },
        "e00b42cd7d714988896d45324e6733c8": {
          "model_module": "@jupyter-widgets/base",
          "model_name": "LayoutModel",
          "model_module_version": "1.2.0",
          "state": {
            "_model_module": "@jupyter-widgets/base",
            "_model_module_version": "1.2.0",
            "_model_name": "LayoutModel",
            "_view_count": null,
            "_view_module": "@jupyter-widgets/base",
            "_view_module_version": "1.2.0",
            "_view_name": "LayoutView",
            "align_content": null,
            "align_items": null,
            "align_self": null,
            "border": null,
            "bottom": null,
            "display": null,
            "flex": null,
            "flex_flow": null,
            "grid_area": null,
            "grid_auto_columns": null,
            "grid_auto_flow": null,
            "grid_auto_rows": null,
            "grid_column": null,
            "grid_gap": null,
            "grid_row": null,
            "grid_template_areas": null,
            "grid_template_columns": null,
            "grid_template_rows": null,
            "height": null,
            "justify_content": null,
            "justify_items": null,
            "left": null,
            "margin": null,
            "max_height": null,
            "max_width": null,
            "min_height": null,
            "min_width": null,
            "object_fit": null,
            "object_position": null,
            "order": null,
            "overflow": null,
            "overflow_x": null,
            "overflow_y": null,
            "padding": null,
            "right": null,
            "top": null,
            "visibility": null,
            "width": null
          }
        },
        "d0e57c949daf42e7a178405e0d97f17b": {
          "model_module": "@jupyter-widgets/base",
          "model_name": "LayoutModel",
          "model_module_version": "1.2.0",
          "state": {
            "_model_module": "@jupyter-widgets/base",
            "_model_module_version": "1.2.0",
            "_model_name": "LayoutModel",
            "_view_count": null,
            "_view_module": "@jupyter-widgets/base",
            "_view_module_version": "1.2.0",
            "_view_name": "LayoutView",
            "align_content": null,
            "align_items": null,
            "align_self": null,
            "border": null,
            "bottom": null,
            "display": null,
            "flex": null,
            "flex_flow": null,
            "grid_area": null,
            "grid_auto_columns": null,
            "grid_auto_flow": null,
            "grid_auto_rows": null,
            "grid_column": null,
            "grid_gap": null,
            "grid_row": null,
            "grid_template_areas": null,
            "grid_template_columns": null,
            "grid_template_rows": null,
            "height": null,
            "justify_content": null,
            "justify_items": null,
            "left": null,
            "margin": null,
            "max_height": null,
            "max_width": null,
            "min_height": null,
            "min_width": null,
            "object_fit": null,
            "object_position": null,
            "order": null,
            "overflow": null,
            "overflow_x": null,
            "overflow_y": null,
            "padding": null,
            "right": null,
            "top": null,
            "visibility": null,
            "width": null
          }
        },
        "cd497aa5c77c4fc689d24fdb467e4d47": {
          "model_module": "@jupyter-widgets/controls",
          "model_name": "DescriptionStyleModel",
          "model_module_version": "1.5.0",
          "state": {
            "_model_module": "@jupyter-widgets/controls",
            "_model_module_version": "1.5.0",
            "_model_name": "DescriptionStyleModel",
            "_view_count": null,
            "_view_module": "@jupyter-widgets/base",
            "_view_module_version": "1.2.0",
            "_view_name": "StyleView",
            "description_width": ""
          }
        },
        "8701e41d2c424113a296fcdfff2f22f4": {
          "model_module": "@jupyter-widgets/base",
          "model_name": "LayoutModel",
          "model_module_version": "1.2.0",
          "state": {
            "_model_module": "@jupyter-widgets/base",
            "_model_module_version": "1.2.0",
            "_model_name": "LayoutModel",
            "_view_count": null,
            "_view_module": "@jupyter-widgets/base",
            "_view_module_version": "1.2.0",
            "_view_name": "LayoutView",
            "align_content": null,
            "align_items": null,
            "align_self": null,
            "border": null,
            "bottom": null,
            "display": null,
            "flex": null,
            "flex_flow": null,
            "grid_area": null,
            "grid_auto_columns": null,
            "grid_auto_flow": null,
            "grid_auto_rows": null,
            "grid_column": null,
            "grid_gap": null,
            "grid_row": null,
            "grid_template_areas": null,
            "grid_template_columns": null,
            "grid_template_rows": null,
            "height": null,
            "justify_content": null,
            "justify_items": null,
            "left": null,
            "margin": null,
            "max_height": null,
            "max_width": null,
            "min_height": null,
            "min_width": null,
            "object_fit": null,
            "object_position": null,
            "order": null,
            "overflow": null,
            "overflow_x": null,
            "overflow_y": null,
            "padding": null,
            "right": null,
            "top": null,
            "visibility": null,
            "width": null
          }
        },
        "c2ba62f579f4480ba3c13bccd949f5c7": {
          "model_module": "@jupyter-widgets/controls",
          "model_name": "ProgressStyleModel",
          "model_module_version": "1.5.0",
          "state": {
            "_model_module": "@jupyter-widgets/controls",
            "_model_module_version": "1.5.0",
            "_model_name": "ProgressStyleModel",
            "_view_count": null,
            "_view_module": "@jupyter-widgets/base",
            "_view_module_version": "1.2.0",
            "_view_name": "StyleView",
            "bar_color": null,
            "description_width": ""
          }
        },
        "93f032c041af46c09793865a36127d10": {
          "model_module": "@jupyter-widgets/base",
          "model_name": "LayoutModel",
          "model_module_version": "1.2.0",
          "state": {
            "_model_module": "@jupyter-widgets/base",
            "_model_module_version": "1.2.0",
            "_model_name": "LayoutModel",
            "_view_count": null,
            "_view_module": "@jupyter-widgets/base",
            "_view_module_version": "1.2.0",
            "_view_name": "LayoutView",
            "align_content": null,
            "align_items": null,
            "align_self": null,
            "border": null,
            "bottom": null,
            "display": null,
            "flex": null,
            "flex_flow": null,
            "grid_area": null,
            "grid_auto_columns": null,
            "grid_auto_flow": null,
            "grid_auto_rows": null,
            "grid_column": null,
            "grid_gap": null,
            "grid_row": null,
            "grid_template_areas": null,
            "grid_template_columns": null,
            "grid_template_rows": null,
            "height": null,
            "justify_content": null,
            "justify_items": null,
            "left": null,
            "margin": null,
            "max_height": null,
            "max_width": null,
            "min_height": null,
            "min_width": null,
            "object_fit": null,
            "object_position": null,
            "order": null,
            "overflow": null,
            "overflow_x": null,
            "overflow_y": null,
            "padding": null,
            "right": null,
            "top": null,
            "visibility": null,
            "width": null
          }
        },
        "a259905cd70448168dfd754056b92772": {
          "model_module": "@jupyter-widgets/controls",
          "model_name": "DescriptionStyleModel",
          "model_module_version": "1.5.0",
          "state": {
            "_model_module": "@jupyter-widgets/controls",
            "_model_module_version": "1.5.0",
            "_model_name": "DescriptionStyleModel",
            "_view_count": null,
            "_view_module": "@jupyter-widgets/base",
            "_view_module_version": "1.2.0",
            "_view_name": "StyleView",
            "description_width": ""
          }
        },
        "231b7cb190b64ab1978c1e76477029ba": {
          "model_module": "@jupyter-widgets/controls",
          "model_name": "HBoxModel",
          "model_module_version": "1.5.0",
          "state": {
            "_dom_classes": [],
            "_model_module": "@jupyter-widgets/controls",
            "_model_module_version": "1.5.0",
            "_model_name": "HBoxModel",
            "_view_count": null,
            "_view_module": "@jupyter-widgets/controls",
            "_view_module_version": "1.5.0",
            "_view_name": "HBoxView",
            "box_style": "",
            "children": [
              "IPY_MODEL_b017313fcdff4fad867dbe81679f8e36",
              "IPY_MODEL_afaca1a05ee44f09b07d71d3b18df67a",
              "IPY_MODEL_59dc78825b1e4b7f95864266c6377882"
            ],
            "layout": "IPY_MODEL_97a6a87c1ac74a32887f8dfd6f61c10e"
          }
        },
        "b017313fcdff4fad867dbe81679f8e36": {
          "model_module": "@jupyter-widgets/controls",
          "model_name": "HTMLModel",
          "model_module_version": "1.5.0",
          "state": {
            "_dom_classes": [],
            "_model_module": "@jupyter-widgets/controls",
            "_model_module_version": "1.5.0",
            "_model_name": "HTMLModel",
            "_view_count": null,
            "_view_module": "@jupyter-widgets/controls",
            "_view_module_version": "1.5.0",
            "_view_name": "HTMLView",
            "description": "",
            "description_tooltip": null,
            "layout": "IPY_MODEL_ba670a6079dd42c8bfc2e66e04958346",
            "placeholder": "​",
            "style": "IPY_MODEL_f505ae2c45bb44a2ab8d509f97ddb740",
            "value": "tokenizer_config.json: 100%"
          }
        },
        "afaca1a05ee44f09b07d71d3b18df67a": {
          "model_module": "@jupyter-widgets/controls",
          "model_name": "FloatProgressModel",
          "model_module_version": "1.5.0",
          "state": {
            "_dom_classes": [],
            "_model_module": "@jupyter-widgets/controls",
            "_model_module_version": "1.5.0",
            "_model_name": "FloatProgressModel",
            "_view_count": null,
            "_view_module": "@jupyter-widgets/controls",
            "_view_module_version": "1.5.0",
            "_view_name": "ProgressView",
            "bar_style": "success",
            "description": "",
            "description_tooltip": null,
            "layout": "IPY_MODEL_a0c0e3994fc64dc8af93856c88834f87",
            "max": 26,
            "min": 0,
            "orientation": "horizontal",
            "style": "IPY_MODEL_269dcc4a808f471f80eeef9040b91db1",
            "value": 26
          }
        },
        "59dc78825b1e4b7f95864266c6377882": {
          "model_module": "@jupyter-widgets/controls",
          "model_name": "HTMLModel",
          "model_module_version": "1.5.0",
          "state": {
            "_dom_classes": [],
            "_model_module": "@jupyter-widgets/controls",
            "_model_module_version": "1.5.0",
            "_model_name": "HTMLModel",
            "_view_count": null,
            "_view_module": "@jupyter-widgets/controls",
            "_view_module_version": "1.5.0",
            "_view_name": "HTMLView",
            "description": "",
            "description_tooltip": null,
            "layout": "IPY_MODEL_0521a1ddaf904d56bdc2792124f20fb8",
            "placeholder": "​",
            "style": "IPY_MODEL_1f04c4df2e6946fc897c45bb5071090c",
            "value": " 26.0/26.0 [00:00&lt;00:00, 1.06kB/s]"
          }
        },
        "97a6a87c1ac74a32887f8dfd6f61c10e": {
          "model_module": "@jupyter-widgets/base",
          "model_name": "LayoutModel",
          "model_module_version": "1.2.0",
          "state": {
            "_model_module": "@jupyter-widgets/base",
            "_model_module_version": "1.2.0",
            "_model_name": "LayoutModel",
            "_view_count": null,
            "_view_module": "@jupyter-widgets/base",
            "_view_module_version": "1.2.0",
            "_view_name": "LayoutView",
            "align_content": null,
            "align_items": null,
            "align_self": null,
            "border": null,
            "bottom": null,
            "display": null,
            "flex": null,
            "flex_flow": null,
            "grid_area": null,
            "grid_auto_columns": null,
            "grid_auto_flow": null,
            "grid_auto_rows": null,
            "grid_column": null,
            "grid_gap": null,
            "grid_row": null,
            "grid_template_areas": null,
            "grid_template_columns": null,
            "grid_template_rows": null,
            "height": null,
            "justify_content": null,
            "justify_items": null,
            "left": null,
            "margin": null,
            "max_height": null,
            "max_width": null,
            "min_height": null,
            "min_width": null,
            "object_fit": null,
            "object_position": null,
            "order": null,
            "overflow": null,
            "overflow_x": null,
            "overflow_y": null,
            "padding": null,
            "right": null,
            "top": null,
            "visibility": null,
            "width": null
          }
        },
        "ba670a6079dd42c8bfc2e66e04958346": {
          "model_module": "@jupyter-widgets/base",
          "model_name": "LayoutModel",
          "model_module_version": "1.2.0",
          "state": {
            "_model_module": "@jupyter-widgets/base",
            "_model_module_version": "1.2.0",
            "_model_name": "LayoutModel",
            "_view_count": null,
            "_view_module": "@jupyter-widgets/base",
            "_view_module_version": "1.2.0",
            "_view_name": "LayoutView",
            "align_content": null,
            "align_items": null,
            "align_self": null,
            "border": null,
            "bottom": null,
            "display": null,
            "flex": null,
            "flex_flow": null,
            "grid_area": null,
            "grid_auto_columns": null,
            "grid_auto_flow": null,
            "grid_auto_rows": null,
            "grid_column": null,
            "grid_gap": null,
            "grid_row": null,
            "grid_template_areas": null,
            "grid_template_columns": null,
            "grid_template_rows": null,
            "height": null,
            "justify_content": null,
            "justify_items": null,
            "left": null,
            "margin": null,
            "max_height": null,
            "max_width": null,
            "min_height": null,
            "min_width": null,
            "object_fit": null,
            "object_position": null,
            "order": null,
            "overflow": null,
            "overflow_x": null,
            "overflow_y": null,
            "padding": null,
            "right": null,
            "top": null,
            "visibility": null,
            "width": null
          }
        },
        "f505ae2c45bb44a2ab8d509f97ddb740": {
          "model_module": "@jupyter-widgets/controls",
          "model_name": "DescriptionStyleModel",
          "model_module_version": "1.5.0",
          "state": {
            "_model_module": "@jupyter-widgets/controls",
            "_model_module_version": "1.5.0",
            "_model_name": "DescriptionStyleModel",
            "_view_count": null,
            "_view_module": "@jupyter-widgets/base",
            "_view_module_version": "1.2.0",
            "_view_name": "StyleView",
            "description_width": ""
          }
        },
        "a0c0e3994fc64dc8af93856c88834f87": {
          "model_module": "@jupyter-widgets/base",
          "model_name": "LayoutModel",
          "model_module_version": "1.2.0",
          "state": {
            "_model_module": "@jupyter-widgets/base",
            "_model_module_version": "1.2.0",
            "_model_name": "LayoutModel",
            "_view_count": null,
            "_view_module": "@jupyter-widgets/base",
            "_view_module_version": "1.2.0",
            "_view_name": "LayoutView",
            "align_content": null,
            "align_items": null,
            "align_self": null,
            "border": null,
            "bottom": null,
            "display": null,
            "flex": null,
            "flex_flow": null,
            "grid_area": null,
            "grid_auto_columns": null,
            "grid_auto_flow": null,
            "grid_auto_rows": null,
            "grid_column": null,
            "grid_gap": null,
            "grid_row": null,
            "grid_template_areas": null,
            "grid_template_columns": null,
            "grid_template_rows": null,
            "height": null,
            "justify_content": null,
            "justify_items": null,
            "left": null,
            "margin": null,
            "max_height": null,
            "max_width": null,
            "min_height": null,
            "min_width": null,
            "object_fit": null,
            "object_position": null,
            "order": null,
            "overflow": null,
            "overflow_x": null,
            "overflow_y": null,
            "padding": null,
            "right": null,
            "top": null,
            "visibility": null,
            "width": null
          }
        },
        "269dcc4a808f471f80eeef9040b91db1": {
          "model_module": "@jupyter-widgets/controls",
          "model_name": "ProgressStyleModel",
          "model_module_version": "1.5.0",
          "state": {
            "_model_module": "@jupyter-widgets/controls",
            "_model_module_version": "1.5.0",
            "_model_name": "ProgressStyleModel",
            "_view_count": null,
            "_view_module": "@jupyter-widgets/base",
            "_view_module_version": "1.2.0",
            "_view_name": "StyleView",
            "bar_color": null,
            "description_width": ""
          }
        },
        "0521a1ddaf904d56bdc2792124f20fb8": {
          "model_module": "@jupyter-widgets/base",
          "model_name": "LayoutModel",
          "model_module_version": "1.2.0",
          "state": {
            "_model_module": "@jupyter-widgets/base",
            "_model_module_version": "1.2.0",
            "_model_name": "LayoutModel",
            "_view_count": null,
            "_view_module": "@jupyter-widgets/base",
            "_view_module_version": "1.2.0",
            "_view_name": "LayoutView",
            "align_content": null,
            "align_items": null,
            "align_self": null,
            "border": null,
            "bottom": null,
            "display": null,
            "flex": null,
            "flex_flow": null,
            "grid_area": null,
            "grid_auto_columns": null,
            "grid_auto_flow": null,
            "grid_auto_rows": null,
            "grid_column": null,
            "grid_gap": null,
            "grid_row": null,
            "grid_template_areas": null,
            "grid_template_columns": null,
            "grid_template_rows": null,
            "height": null,
            "justify_content": null,
            "justify_items": null,
            "left": null,
            "margin": null,
            "max_height": null,
            "max_width": null,
            "min_height": null,
            "min_width": null,
            "object_fit": null,
            "object_position": null,
            "order": null,
            "overflow": null,
            "overflow_x": null,
            "overflow_y": null,
            "padding": null,
            "right": null,
            "top": null,
            "visibility": null,
            "width": null
          }
        },
        "1f04c4df2e6946fc897c45bb5071090c": {
          "model_module": "@jupyter-widgets/controls",
          "model_name": "DescriptionStyleModel",
          "model_module_version": "1.5.0",
          "state": {
            "_model_module": "@jupyter-widgets/controls",
            "_model_module_version": "1.5.0",
            "_model_name": "DescriptionStyleModel",
            "_view_count": null,
            "_view_module": "@jupyter-widgets/base",
            "_view_module_version": "1.2.0",
            "_view_name": "StyleView",
            "description_width": ""
          }
        },
        "bb64885dca594359815bffd8b6dc7547": {
          "model_module": "@jupyter-widgets/controls",
          "model_name": "HBoxModel",
          "model_module_version": "1.5.0",
          "state": {
            "_dom_classes": [],
            "_model_module": "@jupyter-widgets/controls",
            "_model_module_version": "1.5.0",
            "_model_name": "HBoxModel",
            "_view_count": null,
            "_view_module": "@jupyter-widgets/controls",
            "_view_module_version": "1.5.0",
            "_view_name": "HBoxView",
            "box_style": "",
            "children": [
              "IPY_MODEL_bf65aa2e4dee413e8af0c2588b3c3882",
              "IPY_MODEL_587eddd28a28426e9e7db521cc6109bc",
              "IPY_MODEL_8d945fccbaac4d6888be4499ce5f18f4"
            ],
            "layout": "IPY_MODEL_223c900ac1734d8ba35dd891f529e4f1"
          }
        },
        "bf65aa2e4dee413e8af0c2588b3c3882": {
          "model_module": "@jupyter-widgets/controls",
          "model_name": "HTMLModel",
          "model_module_version": "1.5.0",
          "state": {
            "_dom_classes": [],
            "_model_module": "@jupyter-widgets/controls",
            "_model_module_version": "1.5.0",
            "_model_name": "HTMLModel",
            "_view_count": null,
            "_view_module": "@jupyter-widgets/controls",
            "_view_module_version": "1.5.0",
            "_view_name": "HTMLView",
            "description": "",
            "description_tooltip": null,
            "layout": "IPY_MODEL_27825e8b21fb4744ab2e5b82fef51c89",
            "placeholder": "​",
            "style": "IPY_MODEL_f0b4dbdf381048a08fde12b070942a2d",
            "value": "vocab.json: 100%"
          }
        },
        "587eddd28a28426e9e7db521cc6109bc": {
          "model_module": "@jupyter-widgets/controls",
          "model_name": "FloatProgressModel",
          "model_module_version": "1.5.0",
          "state": {
            "_dom_classes": [],
            "_model_module": "@jupyter-widgets/controls",
            "_model_module_version": "1.5.0",
            "_model_name": "FloatProgressModel",
            "_view_count": null,
            "_view_module": "@jupyter-widgets/controls",
            "_view_module_version": "1.5.0",
            "_view_name": "ProgressView",
            "bar_style": "success",
            "description": "",
            "description_tooltip": null,
            "layout": "IPY_MODEL_35e79c39b66140c8a0409af76c3769c6",
            "max": 1042301,
            "min": 0,
            "orientation": "horizontal",
            "style": "IPY_MODEL_3e0f5180b85b47819120aff0c9f83b02",
            "value": 1042301
          }
        },
        "8d945fccbaac4d6888be4499ce5f18f4": {
          "model_module": "@jupyter-widgets/controls",
          "model_name": "HTMLModel",
          "model_module_version": "1.5.0",
          "state": {
            "_dom_classes": [],
            "_model_module": "@jupyter-widgets/controls",
            "_model_module_version": "1.5.0",
            "_model_name": "HTMLModel",
            "_view_count": null,
            "_view_module": "@jupyter-widgets/controls",
            "_view_module_version": "1.5.0",
            "_view_name": "HTMLView",
            "description": "",
            "description_tooltip": null,
            "layout": "IPY_MODEL_7e682198fd6a47b1bd780fb61b7a4c0a",
            "placeholder": "​",
            "style": "IPY_MODEL_d566f5d89a50456b8b4f8df254dcfdd1",
            "value": " 1.04M/1.04M [00:00&lt;00:00, 1.05MB/s]"
          }
        },
        "223c900ac1734d8ba35dd891f529e4f1": {
          "model_module": "@jupyter-widgets/base",
          "model_name": "LayoutModel",
          "model_module_version": "1.2.0",
          "state": {
            "_model_module": "@jupyter-widgets/base",
            "_model_module_version": "1.2.0",
            "_model_name": "LayoutModel",
            "_view_count": null,
            "_view_module": "@jupyter-widgets/base",
            "_view_module_version": "1.2.0",
            "_view_name": "LayoutView",
            "align_content": null,
            "align_items": null,
            "align_self": null,
            "border": null,
            "bottom": null,
            "display": null,
            "flex": null,
            "flex_flow": null,
            "grid_area": null,
            "grid_auto_columns": null,
            "grid_auto_flow": null,
            "grid_auto_rows": null,
            "grid_column": null,
            "grid_gap": null,
            "grid_row": null,
            "grid_template_areas": null,
            "grid_template_columns": null,
            "grid_template_rows": null,
            "height": null,
            "justify_content": null,
            "justify_items": null,
            "left": null,
            "margin": null,
            "max_height": null,
            "max_width": null,
            "min_height": null,
            "min_width": null,
            "object_fit": null,
            "object_position": null,
            "order": null,
            "overflow": null,
            "overflow_x": null,
            "overflow_y": null,
            "padding": null,
            "right": null,
            "top": null,
            "visibility": null,
            "width": null
          }
        },
        "27825e8b21fb4744ab2e5b82fef51c89": {
          "model_module": "@jupyter-widgets/base",
          "model_name": "LayoutModel",
          "model_module_version": "1.2.0",
          "state": {
            "_model_module": "@jupyter-widgets/base",
            "_model_module_version": "1.2.0",
            "_model_name": "LayoutModel",
            "_view_count": null,
            "_view_module": "@jupyter-widgets/base",
            "_view_module_version": "1.2.0",
            "_view_name": "LayoutView",
            "align_content": null,
            "align_items": null,
            "align_self": null,
            "border": null,
            "bottom": null,
            "display": null,
            "flex": null,
            "flex_flow": null,
            "grid_area": null,
            "grid_auto_columns": null,
            "grid_auto_flow": null,
            "grid_auto_rows": null,
            "grid_column": null,
            "grid_gap": null,
            "grid_row": null,
            "grid_template_areas": null,
            "grid_template_columns": null,
            "grid_template_rows": null,
            "height": null,
            "justify_content": null,
            "justify_items": null,
            "left": null,
            "margin": null,
            "max_height": null,
            "max_width": null,
            "min_height": null,
            "min_width": null,
            "object_fit": null,
            "object_position": null,
            "order": null,
            "overflow": null,
            "overflow_x": null,
            "overflow_y": null,
            "padding": null,
            "right": null,
            "top": null,
            "visibility": null,
            "width": null
          }
        },
        "f0b4dbdf381048a08fde12b070942a2d": {
          "model_module": "@jupyter-widgets/controls",
          "model_name": "DescriptionStyleModel",
          "model_module_version": "1.5.0",
          "state": {
            "_model_module": "@jupyter-widgets/controls",
            "_model_module_version": "1.5.0",
            "_model_name": "DescriptionStyleModel",
            "_view_count": null,
            "_view_module": "@jupyter-widgets/base",
            "_view_module_version": "1.2.0",
            "_view_name": "StyleView",
            "description_width": ""
          }
        },
        "35e79c39b66140c8a0409af76c3769c6": {
          "model_module": "@jupyter-widgets/base",
          "model_name": "LayoutModel",
          "model_module_version": "1.2.0",
          "state": {
            "_model_module": "@jupyter-widgets/base",
            "_model_module_version": "1.2.0",
            "_model_name": "LayoutModel",
            "_view_count": null,
            "_view_module": "@jupyter-widgets/base",
            "_view_module_version": "1.2.0",
            "_view_name": "LayoutView",
            "align_content": null,
            "align_items": null,
            "align_self": null,
            "border": null,
            "bottom": null,
            "display": null,
            "flex": null,
            "flex_flow": null,
            "grid_area": null,
            "grid_auto_columns": null,
            "grid_auto_flow": null,
            "grid_auto_rows": null,
            "grid_column": null,
            "grid_gap": null,
            "grid_row": null,
            "grid_template_areas": null,
            "grid_template_columns": null,
            "grid_template_rows": null,
            "height": null,
            "justify_content": null,
            "justify_items": null,
            "left": null,
            "margin": null,
            "max_height": null,
            "max_width": null,
            "min_height": null,
            "min_width": null,
            "object_fit": null,
            "object_position": null,
            "order": null,
            "overflow": null,
            "overflow_x": null,
            "overflow_y": null,
            "padding": null,
            "right": null,
            "top": null,
            "visibility": null,
            "width": null
          }
        },
        "3e0f5180b85b47819120aff0c9f83b02": {
          "model_module": "@jupyter-widgets/controls",
          "model_name": "ProgressStyleModel",
          "model_module_version": "1.5.0",
          "state": {
            "_model_module": "@jupyter-widgets/controls",
            "_model_module_version": "1.5.0",
            "_model_name": "ProgressStyleModel",
            "_view_count": null,
            "_view_module": "@jupyter-widgets/base",
            "_view_module_version": "1.2.0",
            "_view_name": "StyleView",
            "bar_color": null,
            "description_width": ""
          }
        },
        "7e682198fd6a47b1bd780fb61b7a4c0a": {
          "model_module": "@jupyter-widgets/base",
          "model_name": "LayoutModel",
          "model_module_version": "1.2.0",
          "state": {
            "_model_module": "@jupyter-widgets/base",
            "_model_module_version": "1.2.0",
            "_model_name": "LayoutModel",
            "_view_count": null,
            "_view_module": "@jupyter-widgets/base",
            "_view_module_version": "1.2.0",
            "_view_name": "LayoutView",
            "align_content": null,
            "align_items": null,
            "align_self": null,
            "border": null,
            "bottom": null,
            "display": null,
            "flex": null,
            "flex_flow": null,
            "grid_area": null,
            "grid_auto_columns": null,
            "grid_auto_flow": null,
            "grid_auto_rows": null,
            "grid_column": null,
            "grid_gap": null,
            "grid_row": null,
            "grid_template_areas": null,
            "grid_template_columns": null,
            "grid_template_rows": null,
            "height": null,
            "justify_content": null,
            "justify_items": null,
            "left": null,
            "margin": null,
            "max_height": null,
            "max_width": null,
            "min_height": null,
            "min_width": null,
            "object_fit": null,
            "object_position": null,
            "order": null,
            "overflow": null,
            "overflow_x": null,
            "overflow_y": null,
            "padding": null,
            "right": null,
            "top": null,
            "visibility": null,
            "width": null
          }
        },
        "d566f5d89a50456b8b4f8df254dcfdd1": {
          "model_module": "@jupyter-widgets/controls",
          "model_name": "DescriptionStyleModel",
          "model_module_version": "1.5.0",
          "state": {
            "_model_module": "@jupyter-widgets/controls",
            "_model_module_version": "1.5.0",
            "_model_name": "DescriptionStyleModel",
            "_view_count": null,
            "_view_module": "@jupyter-widgets/base",
            "_view_module_version": "1.2.0",
            "_view_name": "StyleView",
            "description_width": ""
          }
        },
        "12123e21c5714ba3b49f8297fec9abb7": {
          "model_module": "@jupyter-widgets/controls",
          "model_name": "HBoxModel",
          "model_module_version": "1.5.0",
          "state": {
            "_dom_classes": [],
            "_model_module": "@jupyter-widgets/controls",
            "_model_module_version": "1.5.0",
            "_model_name": "HBoxModel",
            "_view_count": null,
            "_view_module": "@jupyter-widgets/controls",
            "_view_module_version": "1.5.0",
            "_view_name": "HBoxView",
            "box_style": "",
            "children": [
              "IPY_MODEL_7baabcc3b535447daac76a82d46dd048",
              "IPY_MODEL_ade191dd37d3433ea1a6ad87d004e37e",
              "IPY_MODEL_ad7b58fc24ee469ea984e2ce7570ef1f"
            ],
            "layout": "IPY_MODEL_7931dd5e01c240ba962ad90c498cc2b5"
          }
        },
        "7baabcc3b535447daac76a82d46dd048": {
          "model_module": "@jupyter-widgets/controls",
          "model_name": "HTMLModel",
          "model_module_version": "1.5.0",
          "state": {
            "_dom_classes": [],
            "_model_module": "@jupyter-widgets/controls",
            "_model_module_version": "1.5.0",
            "_model_name": "HTMLModel",
            "_view_count": null,
            "_view_module": "@jupyter-widgets/controls",
            "_view_module_version": "1.5.0",
            "_view_name": "HTMLView",
            "description": "",
            "description_tooltip": null,
            "layout": "IPY_MODEL_2c57dc9c69ca4bcba658bb5da5a1fd87",
            "placeholder": "​",
            "style": "IPY_MODEL_dc0e8e9d5da243e99726dffae339f613",
            "value": "merges.txt: 100%"
          }
        },
        "ade191dd37d3433ea1a6ad87d004e37e": {
          "model_module": "@jupyter-widgets/controls",
          "model_name": "FloatProgressModel",
          "model_module_version": "1.5.0",
          "state": {
            "_dom_classes": [],
            "_model_module": "@jupyter-widgets/controls",
            "_model_module_version": "1.5.0",
            "_model_name": "FloatProgressModel",
            "_view_count": null,
            "_view_module": "@jupyter-widgets/controls",
            "_view_module_version": "1.5.0",
            "_view_name": "ProgressView",
            "bar_style": "success",
            "description": "",
            "description_tooltip": null,
            "layout": "IPY_MODEL_df8c21b08a78400da2a3d5fb8136abf6",
            "max": 456318,
            "min": 0,
            "orientation": "horizontal",
            "style": "IPY_MODEL_572320c1edce443fbddfeea9f6ec6951",
            "value": 456318
          }
        },
        "ad7b58fc24ee469ea984e2ce7570ef1f": {
          "model_module": "@jupyter-widgets/controls",
          "model_name": "HTMLModel",
          "model_module_version": "1.5.0",
          "state": {
            "_dom_classes": [],
            "_model_module": "@jupyter-widgets/controls",
            "_model_module_version": "1.5.0",
            "_model_name": "HTMLModel",
            "_view_count": null,
            "_view_module": "@jupyter-widgets/controls",
            "_view_module_version": "1.5.0",
            "_view_name": "HTMLView",
            "description": "",
            "description_tooltip": null,
            "layout": "IPY_MODEL_db524a1af06a4c088a04e25f8618dd0c",
            "placeholder": "​",
            "style": "IPY_MODEL_97b65f2c2b004a718690b0a410b38690",
            "value": " 456k/456k [00:00&lt;00:00, 660kB/s]"
          }
        },
        "7931dd5e01c240ba962ad90c498cc2b5": {
          "model_module": "@jupyter-widgets/base",
          "model_name": "LayoutModel",
          "model_module_version": "1.2.0",
          "state": {
            "_model_module": "@jupyter-widgets/base",
            "_model_module_version": "1.2.0",
            "_model_name": "LayoutModel",
            "_view_count": null,
            "_view_module": "@jupyter-widgets/base",
            "_view_module_version": "1.2.0",
            "_view_name": "LayoutView",
            "align_content": null,
            "align_items": null,
            "align_self": null,
            "border": null,
            "bottom": null,
            "display": null,
            "flex": null,
            "flex_flow": null,
            "grid_area": null,
            "grid_auto_columns": null,
            "grid_auto_flow": null,
            "grid_auto_rows": null,
            "grid_column": null,
            "grid_gap": null,
            "grid_row": null,
            "grid_template_areas": null,
            "grid_template_columns": null,
            "grid_template_rows": null,
            "height": null,
            "justify_content": null,
            "justify_items": null,
            "left": null,
            "margin": null,
            "max_height": null,
            "max_width": null,
            "min_height": null,
            "min_width": null,
            "object_fit": null,
            "object_position": null,
            "order": null,
            "overflow": null,
            "overflow_x": null,
            "overflow_y": null,
            "padding": null,
            "right": null,
            "top": null,
            "visibility": null,
            "width": null
          }
        },
        "2c57dc9c69ca4bcba658bb5da5a1fd87": {
          "model_module": "@jupyter-widgets/base",
          "model_name": "LayoutModel",
          "model_module_version": "1.2.0",
          "state": {
            "_model_module": "@jupyter-widgets/base",
            "_model_module_version": "1.2.0",
            "_model_name": "LayoutModel",
            "_view_count": null,
            "_view_module": "@jupyter-widgets/base",
            "_view_module_version": "1.2.0",
            "_view_name": "LayoutView",
            "align_content": null,
            "align_items": null,
            "align_self": null,
            "border": null,
            "bottom": null,
            "display": null,
            "flex": null,
            "flex_flow": null,
            "grid_area": null,
            "grid_auto_columns": null,
            "grid_auto_flow": null,
            "grid_auto_rows": null,
            "grid_column": null,
            "grid_gap": null,
            "grid_row": null,
            "grid_template_areas": null,
            "grid_template_columns": null,
            "grid_template_rows": null,
            "height": null,
            "justify_content": null,
            "justify_items": null,
            "left": null,
            "margin": null,
            "max_height": null,
            "max_width": null,
            "min_height": null,
            "min_width": null,
            "object_fit": null,
            "object_position": null,
            "order": null,
            "overflow": null,
            "overflow_x": null,
            "overflow_y": null,
            "padding": null,
            "right": null,
            "top": null,
            "visibility": null,
            "width": null
          }
        },
        "dc0e8e9d5da243e99726dffae339f613": {
          "model_module": "@jupyter-widgets/controls",
          "model_name": "DescriptionStyleModel",
          "model_module_version": "1.5.0",
          "state": {
            "_model_module": "@jupyter-widgets/controls",
            "_model_module_version": "1.5.0",
            "_model_name": "DescriptionStyleModel",
            "_view_count": null,
            "_view_module": "@jupyter-widgets/base",
            "_view_module_version": "1.2.0",
            "_view_name": "StyleView",
            "description_width": ""
          }
        },
        "df8c21b08a78400da2a3d5fb8136abf6": {
          "model_module": "@jupyter-widgets/base",
          "model_name": "LayoutModel",
          "model_module_version": "1.2.0",
          "state": {
            "_model_module": "@jupyter-widgets/base",
            "_model_module_version": "1.2.0",
            "_model_name": "LayoutModel",
            "_view_count": null,
            "_view_module": "@jupyter-widgets/base",
            "_view_module_version": "1.2.0",
            "_view_name": "LayoutView",
            "align_content": null,
            "align_items": null,
            "align_self": null,
            "border": null,
            "bottom": null,
            "display": null,
            "flex": null,
            "flex_flow": null,
            "grid_area": null,
            "grid_auto_columns": null,
            "grid_auto_flow": null,
            "grid_auto_rows": null,
            "grid_column": null,
            "grid_gap": null,
            "grid_row": null,
            "grid_template_areas": null,
            "grid_template_columns": null,
            "grid_template_rows": null,
            "height": null,
            "justify_content": null,
            "justify_items": null,
            "left": null,
            "margin": null,
            "max_height": null,
            "max_width": null,
            "min_height": null,
            "min_width": null,
            "object_fit": null,
            "object_position": null,
            "order": null,
            "overflow": null,
            "overflow_x": null,
            "overflow_y": null,
            "padding": null,
            "right": null,
            "top": null,
            "visibility": null,
            "width": null
          }
        },
        "572320c1edce443fbddfeea9f6ec6951": {
          "model_module": "@jupyter-widgets/controls",
          "model_name": "ProgressStyleModel",
          "model_module_version": "1.5.0",
          "state": {
            "_model_module": "@jupyter-widgets/controls",
            "_model_module_version": "1.5.0",
            "_model_name": "ProgressStyleModel",
            "_view_count": null,
            "_view_module": "@jupyter-widgets/base",
            "_view_module_version": "1.2.0",
            "_view_name": "StyleView",
            "bar_color": null,
            "description_width": ""
          }
        },
        "db524a1af06a4c088a04e25f8618dd0c": {
          "model_module": "@jupyter-widgets/base",
          "model_name": "LayoutModel",
          "model_module_version": "1.2.0",
          "state": {
            "_model_module": "@jupyter-widgets/base",
            "_model_module_version": "1.2.0",
            "_model_name": "LayoutModel",
            "_view_count": null,
            "_view_module": "@jupyter-widgets/base",
            "_view_module_version": "1.2.0",
            "_view_name": "LayoutView",
            "align_content": null,
            "align_items": null,
            "align_self": null,
            "border": null,
            "bottom": null,
            "display": null,
            "flex": null,
            "flex_flow": null,
            "grid_area": null,
            "grid_auto_columns": null,
            "grid_auto_flow": null,
            "grid_auto_rows": null,
            "grid_column": null,
            "grid_gap": null,
            "grid_row": null,
            "grid_template_areas": null,
            "grid_template_columns": null,
            "grid_template_rows": null,
            "height": null,
            "justify_content": null,
            "justify_items": null,
            "left": null,
            "margin": null,
            "max_height": null,
            "max_width": null,
            "min_height": null,
            "min_width": null,
            "object_fit": null,
            "object_position": null,
            "order": null,
            "overflow": null,
            "overflow_x": null,
            "overflow_y": null,
            "padding": null,
            "right": null,
            "top": null,
            "visibility": null,
            "width": null
          }
        },
        "97b65f2c2b004a718690b0a410b38690": {
          "model_module": "@jupyter-widgets/controls",
          "model_name": "DescriptionStyleModel",
          "model_module_version": "1.5.0",
          "state": {
            "_model_module": "@jupyter-widgets/controls",
            "_model_module_version": "1.5.0",
            "_model_name": "DescriptionStyleModel",
            "_view_count": null,
            "_view_module": "@jupyter-widgets/base",
            "_view_module_version": "1.2.0",
            "_view_name": "StyleView",
            "description_width": ""
          }
        },
        "f42f1e6785964c4999e1480fd154c18f": {
          "model_module": "@jupyter-widgets/controls",
          "model_name": "HBoxModel",
          "model_module_version": "1.5.0",
          "state": {
            "_dom_classes": [],
            "_model_module": "@jupyter-widgets/controls",
            "_model_module_version": "1.5.0",
            "_model_name": "HBoxModel",
            "_view_count": null,
            "_view_module": "@jupyter-widgets/controls",
            "_view_module_version": "1.5.0",
            "_view_name": "HBoxView",
            "box_style": "",
            "children": [
              "IPY_MODEL_7ffd71a706b64c55b4697b2944a042f6",
              "IPY_MODEL_ad8896bfc3724a3580768d4b06ba5fe2",
              "IPY_MODEL_591e88b631db4322a9f738c9fb502a8f"
            ],
            "layout": "IPY_MODEL_55f70e00366c4ceeac88150a6e063797"
          }
        },
        "7ffd71a706b64c55b4697b2944a042f6": {
          "model_module": "@jupyter-widgets/controls",
          "model_name": "HTMLModel",
          "model_module_version": "1.5.0",
          "state": {
            "_dom_classes": [],
            "_model_module": "@jupyter-widgets/controls",
            "_model_module_version": "1.5.0",
            "_model_name": "HTMLModel",
            "_view_count": null,
            "_view_module": "@jupyter-widgets/controls",
            "_view_module_version": "1.5.0",
            "_view_name": "HTMLView",
            "description": "",
            "description_tooltip": null,
            "layout": "IPY_MODEL_757f038701cd4b9398dd4b3a369198e2",
            "placeholder": "​",
            "style": "IPY_MODEL_6a87107779b34c22b71a946e5f5b4a4f",
            "value": "tokenizer.json: 100%"
          }
        },
        "ad8896bfc3724a3580768d4b06ba5fe2": {
          "model_module": "@jupyter-widgets/controls",
          "model_name": "FloatProgressModel",
          "model_module_version": "1.5.0",
          "state": {
            "_dom_classes": [],
            "_model_module": "@jupyter-widgets/controls",
            "_model_module_version": "1.5.0",
            "_model_name": "FloatProgressModel",
            "_view_count": null,
            "_view_module": "@jupyter-widgets/controls",
            "_view_module_version": "1.5.0",
            "_view_name": "ProgressView",
            "bar_style": "success",
            "description": "",
            "description_tooltip": null,
            "layout": "IPY_MODEL_baf0f91fab294482a238b49dff23c71a",
            "max": 1355256,
            "min": 0,
            "orientation": "horizontal",
            "style": "IPY_MODEL_d033eae541cc4cf2abda9d61a572660d",
            "value": 1355256
          }
        },
        "591e88b631db4322a9f738c9fb502a8f": {
          "model_module": "@jupyter-widgets/controls",
          "model_name": "HTMLModel",
          "model_module_version": "1.5.0",
          "state": {
            "_dom_classes": [],
            "_model_module": "@jupyter-widgets/controls",
            "_model_module_version": "1.5.0",
            "_model_name": "HTMLModel",
            "_view_count": null,
            "_view_module": "@jupyter-widgets/controls",
            "_view_module_version": "1.5.0",
            "_view_name": "HTMLView",
            "description": "",
            "description_tooltip": null,
            "layout": "IPY_MODEL_708a8ab6fd8141f7a914235561c81df4",
            "placeholder": "​",
            "style": "IPY_MODEL_ed6443c5df074251bc1c9bd0552d7254",
            "value": " 1.36M/1.36M [00:02&lt;00:00, 618kB/s]"
          }
        },
        "55f70e00366c4ceeac88150a6e063797": {
          "model_module": "@jupyter-widgets/base",
          "model_name": "LayoutModel",
          "model_module_version": "1.2.0",
          "state": {
            "_model_module": "@jupyter-widgets/base",
            "_model_module_version": "1.2.0",
            "_model_name": "LayoutModel",
            "_view_count": null,
            "_view_module": "@jupyter-widgets/base",
            "_view_module_version": "1.2.0",
            "_view_name": "LayoutView",
            "align_content": null,
            "align_items": null,
            "align_self": null,
            "border": null,
            "bottom": null,
            "display": null,
            "flex": null,
            "flex_flow": null,
            "grid_area": null,
            "grid_auto_columns": null,
            "grid_auto_flow": null,
            "grid_auto_rows": null,
            "grid_column": null,
            "grid_gap": null,
            "grid_row": null,
            "grid_template_areas": null,
            "grid_template_columns": null,
            "grid_template_rows": null,
            "height": null,
            "justify_content": null,
            "justify_items": null,
            "left": null,
            "margin": null,
            "max_height": null,
            "max_width": null,
            "min_height": null,
            "min_width": null,
            "object_fit": null,
            "object_position": null,
            "order": null,
            "overflow": null,
            "overflow_x": null,
            "overflow_y": null,
            "padding": null,
            "right": null,
            "top": null,
            "visibility": null,
            "width": null
          }
        },
        "757f038701cd4b9398dd4b3a369198e2": {
          "model_module": "@jupyter-widgets/base",
          "model_name": "LayoutModel",
          "model_module_version": "1.2.0",
          "state": {
            "_model_module": "@jupyter-widgets/base",
            "_model_module_version": "1.2.0",
            "_model_name": "LayoutModel",
            "_view_count": null,
            "_view_module": "@jupyter-widgets/base",
            "_view_module_version": "1.2.0",
            "_view_name": "LayoutView",
            "align_content": null,
            "align_items": null,
            "align_self": null,
            "border": null,
            "bottom": null,
            "display": null,
            "flex": null,
            "flex_flow": null,
            "grid_area": null,
            "grid_auto_columns": null,
            "grid_auto_flow": null,
            "grid_auto_rows": null,
            "grid_column": null,
            "grid_gap": null,
            "grid_row": null,
            "grid_template_areas": null,
            "grid_template_columns": null,
            "grid_template_rows": null,
            "height": null,
            "justify_content": null,
            "justify_items": null,
            "left": null,
            "margin": null,
            "max_height": null,
            "max_width": null,
            "min_height": null,
            "min_width": null,
            "object_fit": null,
            "object_position": null,
            "order": null,
            "overflow": null,
            "overflow_x": null,
            "overflow_y": null,
            "padding": null,
            "right": null,
            "top": null,
            "visibility": null,
            "width": null
          }
        },
        "6a87107779b34c22b71a946e5f5b4a4f": {
          "model_module": "@jupyter-widgets/controls",
          "model_name": "DescriptionStyleModel",
          "model_module_version": "1.5.0",
          "state": {
            "_model_module": "@jupyter-widgets/controls",
            "_model_module_version": "1.5.0",
            "_model_name": "DescriptionStyleModel",
            "_view_count": null,
            "_view_module": "@jupyter-widgets/base",
            "_view_module_version": "1.2.0",
            "_view_name": "StyleView",
            "description_width": ""
          }
        },
        "baf0f91fab294482a238b49dff23c71a": {
          "model_module": "@jupyter-widgets/base",
          "model_name": "LayoutModel",
          "model_module_version": "1.2.0",
          "state": {
            "_model_module": "@jupyter-widgets/base",
            "_model_module_version": "1.2.0",
            "_model_name": "LayoutModel",
            "_view_count": null,
            "_view_module": "@jupyter-widgets/base",
            "_view_module_version": "1.2.0",
            "_view_name": "LayoutView",
            "align_content": null,
            "align_items": null,
            "align_self": null,
            "border": null,
            "bottom": null,
            "display": null,
            "flex": null,
            "flex_flow": null,
            "grid_area": null,
            "grid_auto_columns": null,
            "grid_auto_flow": null,
            "grid_auto_rows": null,
            "grid_column": null,
            "grid_gap": null,
            "grid_row": null,
            "grid_template_areas": null,
            "grid_template_columns": null,
            "grid_template_rows": null,
            "height": null,
            "justify_content": null,
            "justify_items": null,
            "left": null,
            "margin": null,
            "max_height": null,
            "max_width": null,
            "min_height": null,
            "min_width": null,
            "object_fit": null,
            "object_position": null,
            "order": null,
            "overflow": null,
            "overflow_x": null,
            "overflow_y": null,
            "padding": null,
            "right": null,
            "top": null,
            "visibility": null,
            "width": null
          }
        },
        "d033eae541cc4cf2abda9d61a572660d": {
          "model_module": "@jupyter-widgets/controls",
          "model_name": "ProgressStyleModel",
          "model_module_version": "1.5.0",
          "state": {
            "_model_module": "@jupyter-widgets/controls",
            "_model_module_version": "1.5.0",
            "_model_name": "ProgressStyleModel",
            "_view_count": null,
            "_view_module": "@jupyter-widgets/base",
            "_view_module_version": "1.2.0",
            "_view_name": "StyleView",
            "bar_color": null,
            "description_width": ""
          }
        },
        "708a8ab6fd8141f7a914235561c81df4": {
          "model_module": "@jupyter-widgets/base",
          "model_name": "LayoutModel",
          "model_module_version": "1.2.0",
          "state": {
            "_model_module": "@jupyter-widgets/base",
            "_model_module_version": "1.2.0",
            "_model_name": "LayoutModel",
            "_view_count": null,
            "_view_module": "@jupyter-widgets/base",
            "_view_module_version": "1.2.0",
            "_view_name": "LayoutView",
            "align_content": null,
            "align_items": null,
            "align_self": null,
            "border": null,
            "bottom": null,
            "display": null,
            "flex": null,
            "flex_flow": null,
            "grid_area": null,
            "grid_auto_columns": null,
            "grid_auto_flow": null,
            "grid_auto_rows": null,
            "grid_column": null,
            "grid_gap": null,
            "grid_row": null,
            "grid_template_areas": null,
            "grid_template_columns": null,
            "grid_template_rows": null,
            "height": null,
            "justify_content": null,
            "justify_items": null,
            "left": null,
            "margin": null,
            "max_height": null,
            "max_width": null,
            "min_height": null,
            "min_width": null,
            "object_fit": null,
            "object_position": null,
            "order": null,
            "overflow": null,
            "overflow_x": null,
            "overflow_y": null,
            "padding": null,
            "right": null,
            "top": null,
            "visibility": null,
            "width": null
          }
        },
        "ed6443c5df074251bc1c9bd0552d7254": {
          "model_module": "@jupyter-widgets/controls",
          "model_name": "DescriptionStyleModel",
          "model_module_version": "1.5.0",
          "state": {
            "_model_module": "@jupyter-widgets/controls",
            "_model_module_version": "1.5.0",
            "_model_name": "DescriptionStyleModel",
            "_view_count": null,
            "_view_module": "@jupyter-widgets/base",
            "_view_module_version": "1.2.0",
            "_view_name": "StyleView",
            "description_width": ""
          }
        }
      }
    }
  },
  "nbformat": 4,
  "nbformat_minor": 0
}